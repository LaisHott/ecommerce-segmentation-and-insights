{
  "cells": [
    {
      "cell_type": "markdown",
      "metadata": {
        "id": "S_jo2VwhU6gt"
      },
      "source": [
        "# Projeto de Teste A/B\n",
        "\n",
        "**Objetivos da Análise:**\n",
        "\n",
        "O estudo tem como objetivo avaliar o impacto da introdução de uma recomendação do sistema melhorada em uma loja online internacional. Os principais objetivos incluem medir o aumento na conversão nas etapas do funil de compra, verificar a significância estatística das diferenças entre grupos A e B, entender o comportamento dos novos usuários da região da União Europeia e fornecer recomendações para otimização, se necessário. O foco está na melhoria da eficácia do sistema de recomendação e na geração de insights para decisões futuras."
      ]
    },
    {
      "cell_type": "markdown",
      "metadata": {
        "id": "s80i_uV9U6gu"
      },
      "source": [
        "# Inicialização\n",
        "\n",
        "Vamos começar com as bibliotecas necessárias relevantes para nossa análise"
      ]
    },
    {
      "cell_type": "code",
      "execution_count": null,
      "metadata": {
        "id": "h0tz-WP-U6gv"
      },
      "outputs": [],
      "source": [
        "# Carregando bibliotecas\n",
        "import pandas as pd\n",
        "from scipy import stats\n",
        "import numpy as np\n",
        "import matplotlib.pyplot as plt\n",
        "import seaborn as sns\n",
        "from statsmodels.stats.proportion import proportions_ztest\n",
        "import warnings"
      ]
    },
    {
      "cell_type": "markdown",
      "metadata": {
        "id": "i2cTSOQSU6gx"
      },
      "source": [
        "# Descrição os dados\n",
        "\n",
        "`ab_project_marketing_events_us.csv` — o calendário de eventos de marketing para 2020\n",
        "\n",
        "**O conjunto de dados inclui os seguintes campos**:\n",
        "\n",
        "- `name` — do nome dos eventos de marketing\n",
        "- `regions` — das regiões onde a campanha será realizada\n",
        "- `start_dt` — de data de início da campanha\n",
        "- `finish_dt` — da data de término da campanha\n",
        "\n",
        "----------------------------------------------------------------------------------------------------------------------\n",
        "`final_ab_new_users_upd_us.csv` — todos os usuários que se cadastraram na loja online de 7 de dezembro a 21, de 2020\n",
        "\n",
        "**O conjunto de dados inclui os seguintes campos**:\n",
        "\n",
        "- `user_id`\n",
        "- `first_date` — da data de cadastro\n",
        "- `region`\n",
        "- `device` — do dispositivo usado para o cadastro\n",
        "\n",
        "----------------------------------------------------------------------------------------------------------------------\n",
        "`final_ab_events_upd_us.csv` — todos os eventos dos novos usuários dentro do período de 7 de dezembro, de 2020 até 1 de janeiro, de 2021\n",
        "\n",
        "**O conjunto de dados inclui os seguintes campos**:\n",
        "\n",
        "- `user_id`\n",
        "- `event_dt` — da data e hora do evento\n",
        "- `event_name` — do nome da fonte do evento\n",
        "- `details` — dos dados adicionais sobre o evento (por exemplo, o total do pedido em USD para eventos `purchase`)\n",
        "----------------------------------------------------------------------------------------------------------------------\n",
        "`final_ab_participants_upd_us.csv` — tabela contendo os participantes do teste\n",
        "\n",
        "**O conjunto de dados inclui os seguintes campos**:\n",
        "\n",
        "- `user_id`\n",
        "- `ab_test` — nome do teste\n",
        "- `group` — o grupo de teste ao qual o usuário pertencia"
      ]
    },
    {
      "cell_type": "markdown",
      "metadata": {
        "id": "oVF_ATI-U6gy"
      },
      "source": [
        "# Carregando os dados\n",
        "\n",
        "Vamos armazenar os dados em uma variável específica e, em seguida, otimizá-los para a análise, certificando-nos de que cada coluna contenha o tipo correto de dados."
      ]
    },
    {
      "cell_type": "code",
      "execution_count": null,
      "metadata": {
        "id": "p1S4FcwPU6gy"
      },
      "outputs": [],
      "source": [
        "# Carregando os dados\n",
        "project_marketing = pd.read_csv('/datasets/ab_project_marketing_events_us.csv')\n",
        "users = pd.read_csv('/datasets/final_ab_new_users_upd_us.csv')\n",
        "events = pd.read_csv('/datasets/final_ab_events_upd_us.csv')\n",
        "participants = pd.read_csv('/datasets/final_ab_participants_upd_us.csv')"
      ]
    },
    {
      "cell_type": "markdown",
      "metadata": {
        "id": "ewsrBfbxU6gz"
      },
      "source": [
        "## Explorando os dados\n",
        "### Explorando dataframe `project_marketing`"
      ]
    },
    {
      "cell_type": "code",
      "execution_count": null,
      "metadata": {
        "id": "4WfmwvK3U6g0",
        "outputId": "6ab78e0a-dd46-4620-ac2b-da2336e78d03"
      },
      "outputs": [
        {
          "name": "stdout",
          "output_type": "stream",
          "text": [
            "<class 'pandas.core.frame.DataFrame'>\n",
            "RangeIndex: 14 entries, 0 to 13\n",
            "Data columns (total 4 columns):\n",
            " #   Column     Non-Null Count  Dtype \n",
            "---  ------     --------------  ----- \n",
            " 0   name       14 non-null     object\n",
            " 1   regions    14 non-null     object\n",
            " 2   start_dt   14 non-null     object\n",
            " 3   finish_dt  14 non-null     object\n",
            "dtypes: object(4)\n",
            "memory usage: 4.0 KB\n"
          ]
        }
      ],
      "source": [
        "# Analisando informações detalhadas sobre os dataframes\n",
        "project_marketing.info(memory_usage='deep')"
      ]
    },
    {
      "cell_type": "markdown",
      "metadata": {
        "id": "kBqpVjC3U6g2"
      },
      "source": [
        "Observando o DataFrame `project_marketing`, notamos que todas as colunas têm o tipo de dado `object`, o que é comum para strings. No entanto, considerando as informações presentes, pode ser benéfico converter as colunas de datas (`start_dt` e `finish_dt`) para o tipo de data. Isso facilitará a manipulação e análise de datas."
      ]
    },
    {
      "cell_type": "code",
      "execution_count": null,
      "metadata": {
        "id": "rrHKauPaU6g2"
      },
      "outputs": [],
      "source": [
        "# Converter as colunas de data para o tipo de data\n",
        "project_marketing['start_dt'] = pd.to_datetime(project_marketing['start_dt'])\n",
        "project_marketing['finish_dt'] = pd.to_datetime(project_marketing['finish_dt'])"
      ]
    },
    {
      "cell_type": "code",
      "execution_count": null,
      "metadata": {
        "id": "oTQWQpGAU6g3",
        "outputId": "5d94a5e3-b289-406b-a577-14f39daeed6f"
      },
      "outputs": [
        {
          "name": "stdout",
          "output_type": "stream",
          "text": [
            "<class 'pandas.core.frame.DataFrame'>\n",
            "RangeIndex: 14 entries, 0 to 13\n",
            "Data columns (total 4 columns):\n",
            " #   Column     Non-Null Count  Dtype         \n",
            "---  ------     --------------  -----         \n",
            " 0   name       14 non-null     object        \n",
            " 1   regions    14 non-null     object        \n",
            " 2   start_dt   14 non-null     datetime64[ns]\n",
            " 3   finish_dt  14 non-null     datetime64[ns]\n",
            "dtypes: datetime64[ns](2), object(2)\n",
            "memory usage: 2.4 KB\n"
          ]
        }
      ],
      "source": [
        "# Verificar os tipos de dados após a conversão\n",
        "project_marketing.info(memory_usage = 'deep')"
      ]
    },
    {
      "cell_type": "code",
      "execution_count": null,
      "metadata": {
        "id": "UpptrsubU6g4",
        "outputId": "799f850b-98c3-4abd-f3dd-c275afc6ad59"
      },
      "outputs": [
        {
          "data": {
            "text/plain": [
              "name         0\n",
              "regions      0\n",
              "start_dt     0\n",
              "finish_dt    0\n",
              "dtype: int64"
            ]
          },
          "execution_count": 7,
          "metadata": {},
          "output_type": "execute_result"
        }
      ],
      "source": [
        "# Verificando dados ausentes\n",
        "project_marketing.isna().sum()"
      ]
    },
    {
      "cell_type": "code",
      "execution_count": null,
      "metadata": {
        "id": "RnWAM6xcU6g6",
        "outputId": "c9e33513-675a-425e-d767-14c19631eb11"
      },
      "outputs": [
        {
          "data": {
            "text/plain": [
              "0"
            ]
          },
          "execution_count": 8,
          "metadata": {},
          "output_type": "execute_result"
        }
      ],
      "source": [
        "# Verificando dados duplicados\n",
        "project_marketing.duplicated().sum()"
      ]
    },
    {
      "cell_type": "code",
      "execution_count": null,
      "metadata": {
        "id": "SdpZ_TtGU6g6",
        "outputId": "c327a36f-203f-4c9f-ba49-e6fa059176e7"
      },
      "outputs": [
        {
          "data": {
            "text/html": [
              "<div>\n",
              "<style scoped>\n",
              "    .dataframe tbody tr th:only-of-type {\n",
              "        vertical-align: middle;\n",
              "    }\n",
              "\n",
              "    .dataframe tbody tr th {\n",
              "        vertical-align: top;\n",
              "    }\n",
              "\n",
              "    .dataframe thead th {\n",
              "        text-align: right;\n",
              "    }\n",
              "</style>\n",
              "<table border=\"1\" class=\"dataframe\">\n",
              "  <thead>\n",
              "    <tr style=\"text-align: right;\">\n",
              "      <th></th>\n",
              "      <th>name</th>\n",
              "      <th>regions</th>\n",
              "      <th>start_dt</th>\n",
              "      <th>finish_dt</th>\n",
              "    </tr>\n",
              "  </thead>\n",
              "  <tbody>\n",
              "    <tr>\n",
              "      <th>0</th>\n",
              "      <td>Christmas&amp;New Year Promo</td>\n",
              "      <td>EU, N.America</td>\n",
              "      <td>2020-12-25</td>\n",
              "      <td>2021-01-03</td>\n",
              "    </tr>\n",
              "    <tr>\n",
              "      <th>1</th>\n",
              "      <td>St. Valentine's Day Giveaway</td>\n",
              "      <td>EU, CIS, APAC, N.America</td>\n",
              "      <td>2020-02-14</td>\n",
              "      <td>2020-02-16</td>\n",
              "    </tr>\n",
              "    <tr>\n",
              "      <th>2</th>\n",
              "      <td>St. Patric's Day Promo</td>\n",
              "      <td>EU, N.America</td>\n",
              "      <td>2020-03-17</td>\n",
              "      <td>2020-03-19</td>\n",
              "    </tr>\n",
              "    <tr>\n",
              "      <th>3</th>\n",
              "      <td>Easter Promo</td>\n",
              "      <td>EU, CIS, APAC, N.America</td>\n",
              "      <td>2020-04-12</td>\n",
              "      <td>2020-04-19</td>\n",
              "    </tr>\n",
              "    <tr>\n",
              "      <th>4</th>\n",
              "      <td>4th of July Promo</td>\n",
              "      <td>N.America</td>\n",
              "      <td>2020-07-04</td>\n",
              "      <td>2020-07-11</td>\n",
              "    </tr>\n",
              "  </tbody>\n",
              "</table>\n",
              "</div>"
            ],
            "text/plain": [
              "                           name                   regions   start_dt  \\\n",
              "0      Christmas&New Year Promo             EU, N.America 2020-12-25   \n",
              "1  St. Valentine's Day Giveaway  EU, CIS, APAC, N.America 2020-02-14   \n",
              "2        St. Patric's Day Promo             EU, N.America 2020-03-17   \n",
              "3                  Easter Promo  EU, CIS, APAC, N.America 2020-04-12   \n",
              "4             4th of July Promo                 N.America 2020-07-04   \n",
              "\n",
              "   finish_dt  \n",
              "0 2021-01-03  \n",
              "1 2020-02-16  \n",
              "2 2020-03-19  \n",
              "3 2020-04-19  \n",
              "4 2020-07-11  "
            ]
          },
          "execution_count": 9,
          "metadata": {},
          "output_type": "execute_result"
        }
      ],
      "source": [
        "# Analisando fatia do dataframe\n",
        "project_marketing.head()"
      ]
    },
    {
      "cell_type": "markdown",
      "metadata": {
        "id": "eFFyTfVBU6g7"
      },
      "source": [
        "Ajustamos os tipos de dados, conseguimos otimizar o dataframe reduzindo o espaço usado de memória e verificamos que não há dados ausentes ou duplicados."
      ]
    },
    {
      "cell_type": "markdown",
      "metadata": {
        "id": "KwzVG4scU6g8"
      },
      "source": [
        "### Explorando dataframe `events`"
      ]
    },
    {
      "cell_type": "code",
      "execution_count": null,
      "metadata": {
        "id": "x22ezttaU6g8",
        "outputId": "3748533e-f845-40f7-faaf-7496cca8e7a6"
      },
      "outputs": [
        {
          "name": "stdout",
          "output_type": "stream",
          "text": [
            "<class 'pandas.core.frame.DataFrame'>\n",
            "RangeIndex: 423761 entries, 0 to 423760\n",
            "Data columns (total 4 columns):\n",
            " #   Column      Non-Null Count   Dtype  \n",
            "---  ------      --------------   -----  \n",
            " 0   user_id     423761 non-null  object \n",
            " 1   event_dt    423761 non-null  object \n",
            " 2   event_name  423761 non-null  object \n",
            " 3   details     60314 non-null   float64\n",
            "dtypes: float64(1), object(3)\n",
            "memory usage: 89.9 MB\n"
          ]
        }
      ],
      "source": [
        "events.info(memory_usage='deep')"
      ]
    },
    {
      "cell_type": "markdown",
      "metadata": {
        "id": "GSpvPMpDU6g8"
      },
      "source": [
        "No DataFrame `events`, observamos que a coluna `event_dt` contém datas e horas de eventos. Para facilitar análises de tempo e cálculos relacionados, é aconselhável converter a coluna `event_dt` para o tipo de data e hora. O restante das colunas parece estar no formato apropriado para seus tipos de dados."
      ]
    },
    {
      "cell_type": "code",
      "execution_count": null,
      "metadata": {
        "id": "zyHB7bmUU6g9"
      },
      "outputs": [],
      "source": [
        "# Converter a coluna de data e hora para o tipo de data\n",
        "events['event_dt'] = pd.to_datetime(events['event_dt'])"
      ]
    },
    {
      "cell_type": "code",
      "execution_count": null,
      "metadata": {
        "id": "u1yUPNrEU6g9",
        "outputId": "b19ce217-36b3-4787-a79c-9f3b85b0b47a"
      },
      "outputs": [
        {
          "name": "stdout",
          "output_type": "stream",
          "text": [
            "<class 'pandas.core.frame.DataFrame'>\n",
            "RangeIndex: 423761 entries, 0 to 423760\n",
            "Data columns (total 4 columns):\n",
            " #   Column      Non-Null Count   Dtype         \n",
            "---  ------      --------------   -----         \n",
            " 0   user_id     423761 non-null  object        \n",
            " 1   event_dt    423761 non-null  datetime64[ns]\n",
            " 2   event_name  423761 non-null  object        \n",
            " 3   details     60314 non-null   float64       \n",
            "dtypes: datetime64[ns](1), float64(1), object(2)\n",
            "memory usage: 62.4 MB\n"
          ]
        }
      ],
      "source": [
        "# Verificar os tipos de dados após a conversão\n",
        "events.info(memory_usage = 'deep')"
      ]
    },
    {
      "cell_type": "code",
      "execution_count": null,
      "metadata": {
        "id": "ibqp2qadU6g-",
        "outputId": "426e366a-b89e-4a1f-d778-e3d3a4783235"
      },
      "outputs": [
        {
          "data": {
            "text/plain": [
              "user_id            0\n",
              "event_dt           0\n",
              "event_name         0\n",
              "details       363447\n",
              "dtype: int64"
            ]
          },
          "execution_count": 13,
          "metadata": {},
          "output_type": "execute_result"
        }
      ],
      "source": [
        "# Verficando dados ausentes\n",
        "events.isna().sum()"
      ]
    },
    {
      "cell_type": "code",
      "execution_count": null,
      "metadata": {
        "id": "lWBYbOyWU6g-",
        "outputId": "1e74069a-df5a-420f-d73e-265767684466"
      },
      "outputs": [
        {
          "data": {
            "text/html": [
              "<div>\n",
              "<style scoped>\n",
              "    .dataframe tbody tr th:only-of-type {\n",
              "        vertical-align: middle;\n",
              "    }\n",
              "\n",
              "    .dataframe tbody tr th {\n",
              "        vertical-align: top;\n",
              "    }\n",
              "\n",
              "    .dataframe thead th {\n",
              "        text-align: right;\n",
              "    }\n",
              "</style>\n",
              "<table border=\"1\" class=\"dataframe\">\n",
              "  <thead>\n",
              "    <tr style=\"text-align: right;\">\n",
              "      <th></th>\n",
              "      <th>user_id</th>\n",
              "      <th>event_dt</th>\n",
              "      <th>event_name</th>\n",
              "      <th>details</th>\n",
              "    </tr>\n",
              "  </thead>\n",
              "  <tbody>\n",
              "    <tr>\n",
              "      <th>60314</th>\n",
              "      <td>2E1BF1D4C37EA01F</td>\n",
              "      <td>2020-12-07 09:05:47</td>\n",
              "      <td>product_cart</td>\n",
              "      <td>NaN</td>\n",
              "    </tr>\n",
              "    <tr>\n",
              "      <th>60315</th>\n",
              "      <td>50734A22C0C63768</td>\n",
              "      <td>2020-12-07 13:24:03</td>\n",
              "      <td>product_cart</td>\n",
              "      <td>NaN</td>\n",
              "    </tr>\n",
              "    <tr>\n",
              "      <th>60316</th>\n",
              "      <td>5EB159DA9DC94DBA</td>\n",
              "      <td>2020-12-07 22:54:02</td>\n",
              "      <td>product_cart</td>\n",
              "      <td>NaN</td>\n",
              "    </tr>\n",
              "    <tr>\n",
              "      <th>60317</th>\n",
              "      <td>084A22B980BA8169</td>\n",
              "      <td>2020-12-07 15:25:55</td>\n",
              "      <td>product_cart</td>\n",
              "      <td>NaN</td>\n",
              "    </tr>\n",
              "    <tr>\n",
              "      <th>60318</th>\n",
              "      <td>0FC21E6F8FAA8DEC</td>\n",
              "      <td>2020-12-07 06:56:27</td>\n",
              "      <td>product_cart</td>\n",
              "      <td>NaN</td>\n",
              "    </tr>\n",
              "    <tr>\n",
              "      <th>...</th>\n",
              "      <td>...</td>\n",
              "      <td>...</td>\n",
              "      <td>...</td>\n",
              "      <td>...</td>\n",
              "    </tr>\n",
              "    <tr>\n",
              "      <th>423756</th>\n",
              "      <td>245E85F65C358E08</td>\n",
              "      <td>2020-12-30 19:35:55</td>\n",
              "      <td>login</td>\n",
              "      <td>NaN</td>\n",
              "    </tr>\n",
              "    <tr>\n",
              "      <th>423757</th>\n",
              "      <td>9385A108F5A0A7A7</td>\n",
              "      <td>2020-12-30 10:54:15</td>\n",
              "      <td>login</td>\n",
              "      <td>NaN</td>\n",
              "    </tr>\n",
              "    <tr>\n",
              "      <th>423758</th>\n",
              "      <td>DB650B7559AC6EAC</td>\n",
              "      <td>2020-12-30 10:59:09</td>\n",
              "      <td>login</td>\n",
              "      <td>NaN</td>\n",
              "    </tr>\n",
              "    <tr>\n",
              "      <th>423759</th>\n",
              "      <td>F80C9BDDEA02E53C</td>\n",
              "      <td>2020-12-30 09:53:39</td>\n",
              "      <td>login</td>\n",
              "      <td>NaN</td>\n",
              "    </tr>\n",
              "    <tr>\n",
              "      <th>423760</th>\n",
              "      <td>7AEC61159B672CC5</td>\n",
              "      <td>2020-12-30 11:36:13</td>\n",
              "      <td>login</td>\n",
              "      <td>NaN</td>\n",
              "    </tr>\n",
              "  </tbody>\n",
              "</table>\n",
              "<p>363447 rows × 4 columns</p>\n",
              "</div>"
            ],
            "text/plain": [
              "                 user_id            event_dt    event_name  details\n",
              "60314   2E1BF1D4C37EA01F 2020-12-07 09:05:47  product_cart      NaN\n",
              "60315   50734A22C0C63768 2020-12-07 13:24:03  product_cart      NaN\n",
              "60316   5EB159DA9DC94DBA 2020-12-07 22:54:02  product_cart      NaN\n",
              "60317   084A22B980BA8169 2020-12-07 15:25:55  product_cart      NaN\n",
              "60318   0FC21E6F8FAA8DEC 2020-12-07 06:56:27  product_cart      NaN\n",
              "...                  ...                 ...           ...      ...\n",
              "423756  245E85F65C358E08 2020-12-30 19:35:55         login      NaN\n",
              "423757  9385A108F5A0A7A7 2020-12-30 10:54:15         login      NaN\n",
              "423758  DB650B7559AC6EAC 2020-12-30 10:59:09         login      NaN\n",
              "423759  F80C9BDDEA02E53C 2020-12-30 09:53:39         login      NaN\n",
              "423760  7AEC61159B672CC5 2020-12-30 11:36:13         login      NaN\n",
              "\n",
              "[363447 rows x 4 columns]"
            ]
          },
          "execution_count": 14,
          "metadata": {},
          "output_type": "execute_result"
        }
      ],
      "source": [
        "# Analisando os dados Nan\n",
        "missing_details = events[events['details'].isnull()]\n",
        "missing_details"
      ]
    },
    {
      "cell_type": "code",
      "execution_count": null,
      "metadata": {
        "id": "7pGP7sGcU6g-",
        "outputId": "30c58feb-8e92-4e49-d9e3-7b18d71f9a52"
      },
      "outputs": [
        {
          "data": {
            "text/plain": [
              "0"
            ]
          },
          "execution_count": 15,
          "metadata": {},
          "output_type": "execute_result"
        }
      ],
      "source": [
        "# Verificando dados duplicados\n",
        "events.duplicated().sum()"
      ]
    },
    {
      "cell_type": "code",
      "execution_count": null,
      "metadata": {
        "id": "ZGpiLo0PU6g_",
        "outputId": "6e79fe32-d938-4913-c834-e8dcde14b0f6"
      },
      "outputs": [
        {
          "data": {
            "text/html": [
              "<div>\n",
              "<style scoped>\n",
              "    .dataframe tbody tr th:only-of-type {\n",
              "        vertical-align: middle;\n",
              "    }\n",
              "\n",
              "    .dataframe tbody tr th {\n",
              "        vertical-align: top;\n",
              "    }\n",
              "\n",
              "    .dataframe thead th {\n",
              "        text-align: right;\n",
              "    }\n",
              "</style>\n",
              "<table border=\"1\" class=\"dataframe\">\n",
              "  <thead>\n",
              "    <tr style=\"text-align: right;\">\n",
              "      <th></th>\n",
              "      <th>user_id</th>\n",
              "      <th>event_dt</th>\n",
              "      <th>event_name</th>\n",
              "      <th>details</th>\n",
              "    </tr>\n",
              "  </thead>\n",
              "  <tbody>\n",
              "    <tr>\n",
              "      <th>0</th>\n",
              "      <td>E1BDDCE0DAFA2679</td>\n",
              "      <td>2020-12-07 20:22:03</td>\n",
              "      <td>purchase</td>\n",
              "      <td>99.99</td>\n",
              "    </tr>\n",
              "    <tr>\n",
              "      <th>1</th>\n",
              "      <td>7B6452F081F49504</td>\n",
              "      <td>2020-12-07 09:22:53</td>\n",
              "      <td>purchase</td>\n",
              "      <td>9.99</td>\n",
              "    </tr>\n",
              "    <tr>\n",
              "      <th>2</th>\n",
              "      <td>9CD9F34546DF254C</td>\n",
              "      <td>2020-12-07 12:59:29</td>\n",
              "      <td>purchase</td>\n",
              "      <td>4.99</td>\n",
              "    </tr>\n",
              "    <tr>\n",
              "      <th>3</th>\n",
              "      <td>96F27A054B191457</td>\n",
              "      <td>2020-12-07 04:02:40</td>\n",
              "      <td>purchase</td>\n",
              "      <td>4.99</td>\n",
              "    </tr>\n",
              "    <tr>\n",
              "      <th>4</th>\n",
              "      <td>1FD7660FDF94CA1F</td>\n",
              "      <td>2020-12-07 10:15:09</td>\n",
              "      <td>purchase</td>\n",
              "      <td>4.99</td>\n",
              "    </tr>\n",
              "  </tbody>\n",
              "</table>\n",
              "</div>"
            ],
            "text/plain": [
              "            user_id            event_dt event_name  details\n",
              "0  E1BDDCE0DAFA2679 2020-12-07 20:22:03   purchase    99.99\n",
              "1  7B6452F081F49504 2020-12-07 09:22:53   purchase     9.99\n",
              "2  9CD9F34546DF254C 2020-12-07 12:59:29   purchase     4.99\n",
              "3  96F27A054B191457 2020-12-07 04:02:40   purchase     4.99\n",
              "4  1FD7660FDF94CA1F 2020-12-07 10:15:09   purchase     4.99"
            ]
          },
          "execution_count": 16,
          "metadata": {},
          "output_type": "execute_result"
        }
      ],
      "source": [
        "# Analisando fatia do dataframe\n",
        "events.head()"
      ]
    },
    {
      "cell_type": "markdown",
      "metadata": {
        "id": "Rx9pM1wgU6g_"
      },
      "source": [
        "Para lidar com os ausentes vamos:\n",
        "\n",
        "1. Usar a função `pd.to_numeric` para converter os valores na coluna 'details' em números. Se um valor não puder ser convertido em um número, ele será tratado como NaN (não disponível).\n",
        "\n",
        "2. Calcular a Mediana: Calculamos a mediana dos valores não nulos na coluna 'details'. A mediana é uma medida estatística que representa o valor do meio de um conjunto de dados ordenados. É uma escolha comum para tratar valores atípicos ou extremos, pois é menos sensível a eles do que a média.\n",
        "\n",
        "3. Preenchimento de Valores Ausentes: Substituímos os valores NaN na coluna 'details' pela mediana calculada. Isso é feito usando o método `.fillna()`.\n",
        "\n",
        "A razão para substituir os valores ausentes pela mediana é que a mediana é uma medida de tendência central robusta, o que significa que ela não é afetada por valores extremos. Isso torna a mediana uma escolha segura e adequada quando lidamos com dados que podem conter outliers ou valores não numéricos. A substituição permite que os dados permaneçam coerentes e prontos para análises subsequentes, como o cálculo de métricas ou a realização de testes estatísticos.\n",
        "\n",
        "Em resumo, o código garante que a coluna 'details' seja composta por valores numéricos, tratando adequadamente os valores ausentes ou não numéricos, e preenchendo os valores ausentes com uma medida de tendência central adequada, como a mediana. Isso é importante para manter a qualidade dos dados e facilitar análises futuras."
      ]
    },
    {
      "cell_type": "code",
      "execution_count": null,
      "metadata": {
        "id": "HvKcmI45U6hA"
      },
      "outputs": [],
      "source": [
        "# Preenchendo valores ausentes\n",
        "# Substituir os valores não numéricos (por exemplo, 'N/A') por NaN\n",
        "events['details'] = pd.to_numeric(events['details'], errors='coerce')"
      ]
    },
    {
      "cell_type": "code",
      "execution_count": null,
      "metadata": {
        "id": "x8RRkSSsU6hA"
      },
      "outputs": [],
      "source": [
        "# Calcular a mediana dos valores na coluna 'details' e preencher os ausentes com a mediana\n",
        "median_value = events['details'].median()\n",
        "events['details'].fillna(median_value, inplace=True)"
      ]
    },
    {
      "cell_type": "code",
      "execution_count": null,
      "metadata": {
        "id": "17RVyC5hU6hA",
        "outputId": "103d6cea-d910-4b73-a6f7-cd7dabdfa86a"
      },
      "outputs": [
        {
          "data": {
            "text/plain": [
              "user_id       0\n",
              "event_dt      0\n",
              "event_name    0\n",
              "details       0\n",
              "dtype: int64"
            ]
          },
          "execution_count": 19,
          "metadata": {},
          "output_type": "execute_result"
        }
      ],
      "source": [
        "# Verificando preenchimento\n",
        "events.isna().sum()"
      ]
    },
    {
      "cell_type": "markdown",
      "metadata": {
        "id": "dJSB9B08U6hC"
      },
      "source": [
        "### Explorando dataframe `users`"
      ]
    },
    {
      "cell_type": "code",
      "execution_count": null,
      "metadata": {
        "id": "xDHnY9NUU6hC",
        "outputId": "384b82ea-df8e-4247-b129-244211ff71db"
      },
      "outputs": [
        {
          "name": "stdout",
          "output_type": "stream",
          "text": [
            "<class 'pandas.core.frame.DataFrame'>\n",
            "RangeIndex: 58703 entries, 0 to 58702\n",
            "Data columns (total 4 columns):\n",
            " #   Column      Non-Null Count  Dtype \n",
            "---  ------      --------------  ----- \n",
            " 0   user_id     58703 non-null  object\n",
            " 1   first_date  58703 non-null  object\n",
            " 2   region      58703 non-null  object\n",
            " 3   device      58703 non-null  object\n",
            "dtypes: object(4)\n",
            "memory usage: 14.7 MB\n"
          ]
        }
      ],
      "source": [
        "users.info(memory_usage='deep')"
      ]
    },
    {
      "cell_type": "markdown",
      "metadata": {
        "id": "D2EQ8k40U6hC"
      },
      "source": [
        "No DataFrame `users`, as colunas `user_id`, `first_date`, `region` e `device` têm o tipo de dado `object`, o que é comum para strings. No entanto, é importante observar que a coluna `first_date` representa a data de cadastro, e converter essa coluna para o tipo de data é uma prática recomendada para facilitar análises de tempo. Portanto, recomenda-se converter apenas a coluna `first_date` para o tipo de data.\n"
      ]
    },
    {
      "cell_type": "code",
      "execution_count": null,
      "metadata": {
        "id": "jEgN3lyXU6hD"
      },
      "outputs": [],
      "source": [
        "# Converter a coluna de data para o tipo de data\n",
        "users['first_date'] = pd.to_datetime(users['first_date'])"
      ]
    },
    {
      "cell_type": "code",
      "execution_count": null,
      "metadata": {
        "id": "ypG1s-ORU6hE",
        "outputId": "f7d7d2c9-fb3d-48c6-c3c8-6a7ae96b0816"
      },
      "outputs": [
        {
          "name": "stdout",
          "output_type": "stream",
          "text": [
            "<class 'pandas.core.frame.DataFrame'>\n",
            "RangeIndex: 58703 entries, 0 to 58702\n",
            "Data columns (total 4 columns):\n",
            " #   Column      Non-Null Count  Dtype         \n",
            "---  ------      --------------  -----         \n",
            " 0   user_id     58703 non-null  object        \n",
            " 1   first_date  58703 non-null  datetime64[ns]\n",
            " 2   region      58703 non-null  object        \n",
            " 3   device      58703 non-null  object        \n",
            "dtypes: datetime64[ns](1), object(3)\n",
            "memory usage: 11.4 MB\n"
          ]
        }
      ],
      "source": [
        "# Verificar os tipos de dados após a conversão\n",
        "users.info(memory_usage='deep')"
      ]
    },
    {
      "cell_type": "code",
      "execution_count": null,
      "metadata": {
        "id": "Nfiq7x5IU6hE",
        "outputId": "5411227c-2a7e-421f-b168-ef19b1cfd368"
      },
      "outputs": [
        {
          "data": {
            "text/plain": [
              "user_id       0\n",
              "first_date    0\n",
              "region        0\n",
              "device        0\n",
              "dtype: int64"
            ]
          },
          "execution_count": 23,
          "metadata": {},
          "output_type": "execute_result"
        }
      ],
      "source": [
        "# Verificando dados ausentes\n",
        "users.isna().sum()"
      ]
    },
    {
      "cell_type": "code",
      "execution_count": null,
      "metadata": {
        "id": "2aZ1k76lU6hF",
        "outputId": "5af2eb86-30de-4f7d-8763-7fc53b09affe"
      },
      "outputs": [
        {
          "data": {
            "text/plain": [
              "0"
            ]
          },
          "execution_count": 24,
          "metadata": {},
          "output_type": "execute_result"
        }
      ],
      "source": [
        "# Verificando dados duplicados\n",
        "users.duplicated().sum()"
      ]
    },
    {
      "cell_type": "markdown",
      "metadata": {
        "id": "tKrC62hcU6hF"
      },
      "source": [
        "Dessa forma convertemos os tipos de dados para mais apropriados e otimizamos o espaço na memória usado. Não encontramos dados ausentes ou duplicados nesse dataframe."
      ]
    },
    {
      "cell_type": "code",
      "execution_count": null,
      "metadata": {
        "id": "4ENlVwIOU6hG",
        "outputId": "af426c48-b787-4420-db6f-8c7a15d5f31f"
      },
      "outputs": [
        {
          "data": {
            "text/html": [
              "<div>\n",
              "<style scoped>\n",
              "    .dataframe tbody tr th:only-of-type {\n",
              "        vertical-align: middle;\n",
              "    }\n",
              "\n",
              "    .dataframe tbody tr th {\n",
              "        vertical-align: top;\n",
              "    }\n",
              "\n",
              "    .dataframe thead th {\n",
              "        text-align: right;\n",
              "    }\n",
              "</style>\n",
              "<table border=\"1\" class=\"dataframe\">\n",
              "  <thead>\n",
              "    <tr style=\"text-align: right;\">\n",
              "      <th></th>\n",
              "      <th>user_id</th>\n",
              "      <th>first_date</th>\n",
              "      <th>region</th>\n",
              "      <th>device</th>\n",
              "    </tr>\n",
              "  </thead>\n",
              "  <tbody>\n",
              "    <tr>\n",
              "      <th>0</th>\n",
              "      <td>D72A72121175D8BE</td>\n",
              "      <td>2020-12-07</td>\n",
              "      <td>EU</td>\n",
              "      <td>PC</td>\n",
              "    </tr>\n",
              "    <tr>\n",
              "      <th>1</th>\n",
              "      <td>F1C668619DFE6E65</td>\n",
              "      <td>2020-12-07</td>\n",
              "      <td>N.America</td>\n",
              "      <td>Android</td>\n",
              "    </tr>\n",
              "    <tr>\n",
              "      <th>2</th>\n",
              "      <td>2E1BF1D4C37EA01F</td>\n",
              "      <td>2020-12-07</td>\n",
              "      <td>EU</td>\n",
              "      <td>PC</td>\n",
              "    </tr>\n",
              "    <tr>\n",
              "      <th>3</th>\n",
              "      <td>50734A22C0C63768</td>\n",
              "      <td>2020-12-07</td>\n",
              "      <td>EU</td>\n",
              "      <td>iPhone</td>\n",
              "    </tr>\n",
              "    <tr>\n",
              "      <th>4</th>\n",
              "      <td>E1BDDCE0DAFA2679</td>\n",
              "      <td>2020-12-07</td>\n",
              "      <td>N.America</td>\n",
              "      <td>iPhone</td>\n",
              "    </tr>\n",
              "  </tbody>\n",
              "</table>\n",
              "</div>"
            ],
            "text/plain": [
              "            user_id first_date     region   device\n",
              "0  D72A72121175D8BE 2020-12-07         EU       PC\n",
              "1  F1C668619DFE6E65 2020-12-07  N.America  Android\n",
              "2  2E1BF1D4C37EA01F 2020-12-07         EU       PC\n",
              "3  50734A22C0C63768 2020-12-07         EU   iPhone\n",
              "4  E1BDDCE0DAFA2679 2020-12-07  N.America   iPhone"
            ]
          },
          "execution_count": 25,
          "metadata": {},
          "output_type": "execute_result"
        }
      ],
      "source": [
        "# Analisando fatia do dataframe\n",
        "users.head()"
      ]
    },
    {
      "cell_type": "markdown",
      "metadata": {
        "id": "OfI5mTSLU6hI"
      },
      "source": [
        "### Explorando dataframe `participants`"
      ]
    },
    {
      "cell_type": "code",
      "execution_count": null,
      "metadata": {
        "id": "ji94QHOBU6hI",
        "outputId": "96a2164d-e34e-4e2a-f730-9038948cad0e"
      },
      "outputs": [
        {
          "name": "stdout",
          "output_type": "stream",
          "text": [
            "<class 'pandas.core.frame.DataFrame'>\n",
            "RangeIndex: 14525 entries, 0 to 14524\n",
            "Data columns (total 3 columns):\n",
            " #   Column   Non-Null Count  Dtype \n",
            "---  ------   --------------  ----- \n",
            " 0   user_id  14525 non-null  object\n",
            " 1   group    14525 non-null  object\n",
            " 2   ab_test  14525 non-null  object\n",
            "dtypes: object(3)\n",
            "memory usage: 2.9 MB\n"
          ]
        }
      ],
      "source": [
        "participants.info(memory_usage='deep')"
      ]
    },
    {
      "cell_type": "code",
      "execution_count": null,
      "metadata": {
        "id": "z1G7b-SaU6hJ",
        "outputId": "62fc42d6-b2c1-4405-8679-3c9df2ce820d"
      },
      "outputs": [
        {
          "data": {
            "text/plain": [
              "user_id    0\n",
              "group      0\n",
              "ab_test    0\n",
              "dtype: int64"
            ]
          },
          "execution_count": 27,
          "metadata": {},
          "output_type": "execute_result"
        }
      ],
      "source": [
        "# Verificando dados ausentes\n",
        "participants.isna().sum()"
      ]
    },
    {
      "cell_type": "code",
      "execution_count": null,
      "metadata": {
        "id": "BEK7YsdXU6hJ",
        "outputId": "45c6319d-5258-4d5c-b5a4-6a6bb7ef1daa"
      },
      "outputs": [
        {
          "data": {
            "text/plain": [
              "0"
            ]
          },
          "execution_count": 28,
          "metadata": {},
          "output_type": "execute_result"
        }
      ],
      "source": [
        "# Verificando dados duplicados\n",
        "participants.duplicated().sum()"
      ]
    },
    {
      "cell_type": "markdown",
      "metadata": {
        "id": "FMAuLJqrU6hJ"
      },
      "source": [
        "Não parece haver necessidade de converter os tipos de dados neste DataFrame, pois eles estão adequados para o tipo de informação que representam. Portanto, não é necessário realizar conversões de tipo de dados no DataFrame `participants`. Os tipos de dados atuais são apropriados para representar os dados de usuário, grupo de teste e nome do teste A/B.\n",
        "\n",
        "Não encontramos dados duplicados ou ausentes nesse dataframe."
      ]
    },
    {
      "cell_type": "code",
      "execution_count": null,
      "metadata": {
        "id": "Dg4oV5L0U6hK",
        "outputId": "e68ff82c-181a-4673-cdff-20ecb09744ff"
      },
      "outputs": [
        {
          "data": {
            "text/html": [
              "<div>\n",
              "<style scoped>\n",
              "    .dataframe tbody tr th:only-of-type {\n",
              "        vertical-align: middle;\n",
              "    }\n",
              "\n",
              "    .dataframe tbody tr th {\n",
              "        vertical-align: top;\n",
              "    }\n",
              "\n",
              "    .dataframe thead th {\n",
              "        text-align: right;\n",
              "    }\n",
              "</style>\n",
              "<table border=\"1\" class=\"dataframe\">\n",
              "  <thead>\n",
              "    <tr style=\"text-align: right;\">\n",
              "      <th></th>\n",
              "      <th>user_id</th>\n",
              "      <th>group</th>\n",
              "      <th>ab_test</th>\n",
              "    </tr>\n",
              "  </thead>\n",
              "  <tbody>\n",
              "    <tr>\n",
              "      <th>0</th>\n",
              "      <td>D1ABA3E2887B6A73</td>\n",
              "      <td>A</td>\n",
              "      <td>recommender_system_test</td>\n",
              "    </tr>\n",
              "    <tr>\n",
              "      <th>1</th>\n",
              "      <td>A7A3664BD6242119</td>\n",
              "      <td>A</td>\n",
              "      <td>recommender_system_test</td>\n",
              "    </tr>\n",
              "    <tr>\n",
              "      <th>2</th>\n",
              "      <td>DABC14FDDFADD29E</td>\n",
              "      <td>A</td>\n",
              "      <td>recommender_system_test</td>\n",
              "    </tr>\n",
              "    <tr>\n",
              "      <th>3</th>\n",
              "      <td>04988C5DF189632E</td>\n",
              "      <td>A</td>\n",
              "      <td>recommender_system_test</td>\n",
              "    </tr>\n",
              "    <tr>\n",
              "      <th>4</th>\n",
              "      <td>4FF2998A348C484F</td>\n",
              "      <td>A</td>\n",
              "      <td>recommender_system_test</td>\n",
              "    </tr>\n",
              "  </tbody>\n",
              "</table>\n",
              "</div>"
            ],
            "text/plain": [
              "            user_id group                  ab_test\n",
              "0  D1ABA3E2887B6A73     A  recommender_system_test\n",
              "1  A7A3664BD6242119     A  recommender_system_test\n",
              "2  DABC14FDDFADD29E     A  recommender_system_test\n",
              "3  04988C5DF189632E     A  recommender_system_test\n",
              "4  4FF2998A348C484F     A  recommender_system_test"
            ]
          },
          "execution_count": 29,
          "metadata": {},
          "output_type": "execute_result"
        }
      ],
      "source": [
        "# Analisando fatia do dataframe\n",
        "participants.head()"
      ]
    },
    {
      "cell_type": "markdown",
      "metadata": {
        "id": "2T26U06RU6hL"
      },
      "source": [
        "### Verificando o período citado na descrição e filtrando os dados"
      ]
    },
    {
      "cell_type": "code",
      "execution_count": null,
      "metadata": {
        "id": "vbHSperkU6hL"
      },
      "outputs": [],
      "source": [
        "# Confirmando as datas do teste\n",
        "start_date_task = pd.to_datetime('2020-12-07')\n",
        "stop_date_task = pd.to_datetime('2020-12-21')\n",
        "end_date_task = pd.to_datetime('2021-01-01')"
      ]
    },
    {
      "cell_type": "code",
      "execution_count": null,
      "metadata": {
        "id": "9oYGWhX9U6hL",
        "outputId": "e9d9e059-71c9-43dc-f900-2de80119b340"
      },
      "outputs": [
        {
          "name": "stdout",
          "output_type": "stream",
          "text": [
            "Novos usuários adicionados após a data de parada de inclusão de novos usuários.\n"
          ]
        }
      ],
      "source": [
        "# Analisando os dados dos usuários\n",
        "new_users_after_stop_date = users[users['first_date'] > stop_date_task]\n",
        "\n",
        "if not new_users_after_stop_date.empty:\n",
        "    print(\"Novos usuários adicionados após a data de parada de inclusão de novos usuários.\")\n",
        "else:\n",
        "    print(\"Não foram adicionados novos usuários após a data de parada de inclusão de novos usuários.\")"
      ]
    },
    {
      "cell_type": "code",
      "execution_count": null,
      "metadata": {
        "id": "p6Hv3rHVU6hL",
        "outputId": "db249a0d-0321-4213-e5d3-c3de9449ff90"
      },
      "outputs": [
        {
          "name": "stdout",
          "output_type": "stream",
          "text": [
            "Todos os eventos estão dentro do período especificado na tarefa.\n"
          ]
        }
      ],
      "source": [
        "# Verificando as datas dos eventos\n",
        "events_outside_task_period = events[(events['event_dt'] < start_date_task) | (events['event_dt'] > end_date_task)]\n",
        "\n",
        "if not events_outside_task_period.empty:\n",
        "    print(\"Existem eventos fora do período especificado na tarefa.\")\n",
        "else:\n",
        "    print(\"Todos os eventos estão dentro do período especificado na tarefa.\")"
      ]
    },
    {
      "cell_type": "code",
      "execution_count": null,
      "metadata": {
        "id": "ZTzMOezbU6hM",
        "outputId": "db59ee99-ea2c-4533-d2b5-b34ce5866bad"
      },
      "outputs": [
        {
          "name": "stdout",
          "output_type": "stream",
          "text": [
            "A data de término do teste difere da data indicada na descrição da tarefa.\n"
          ]
        }
      ],
      "source": [
        "# Confirmando a data de término\n",
        "end_date_real = events['event_dt'].max()\n",
        "if end_date_real != end_date_task:\n",
        "    print(\"A data de término do teste difere da data indicada na descrição da tarefa.\")\n",
        "else:\n",
        "    print(\"A data de término do teste corresponde à descrição da tarefa.\")"
      ]
    },
    {
      "cell_type": "code",
      "execution_count": null,
      "metadata": {
        "id": "rEa7LV8iU6hM",
        "outputId": "d5aee3da-6ef4-47d0-c422-4eac052e52be"
      },
      "outputs": [
        {
          "name": "stdout",
          "output_type": "stream",
          "text": [
            "Todos os participantes do teste estão dentro do período especificado na tarefa.\n"
          ]
        }
      ],
      "source": [
        "# Consultando a estrutura `participants`\n",
        "participants_outside_task_period = participants[(participants['ab_test'] == 'recommender_system_test') &\n",
        "                                               ((participants['group'] == 'A') | (participants['group'] == 'B')) &\n",
        "                                               ((participants['user_id'].isin(users[users['first_date'] < start_date_task]['user_id'])) |\n",
        "                                                (participants['user_id'].isin(new_users_after_stop_date['user_id'])))]\n",
        "\n",
        "if not participants_outside_task_period.empty:\n",
        "    print(\"Alguns usuários participaram do teste fora do período especificado na tarefa.\")\n",
        "else:\n",
        "    print(\"Todos os participantes do teste estão dentro do período especificado na tarefa.\")"
      ]
    },
    {
      "cell_type": "markdown",
      "metadata": {
        "id": "tib6uR7oU6hM"
      },
      "source": [
        "- Com as verificações observamos que:\n",
        "    - Novos usuários adicionados após a data de parada de inclusão de novos usuários.\n",
        "    - Todos os eventos estão dentro do período especificado na tarefa.\n",
        "    - A data de término do teste difere da data indicada na descrição da tarefa.\n",
        "    - Todos os participantes do teste estão dentro do período especificado na tarefa.\n",
        "- Vamos filtrar os dataframes para as datas que foram descritas na tarefa"
      ]
    },
    {
      "cell_type": "code",
      "execution_count": null,
      "metadata": {
        "id": "NNx7HmuZU6hN"
      },
      "outputs": [],
      "source": [
        "# Confirmando as datas do teste e salvando em variáveis\n",
        "start_date_task = pd.to_datetime('2020-12-07')\n",
        "stop_date_task = pd.to_datetime('2020-12-21')\n",
        "end_date_task = pd.to_datetime('2021-01-01')"
      ]
    },
    {
      "cell_type": "code",
      "execution_count": null,
      "metadata": {
        "id": "RPxLoF3vU6hN"
      },
      "outputs": [],
      "source": [
        "# Filtrando os dados do dataframe 'users'\n",
        "users_within_task_period = users[(users['first_date'] >= start_date_task) & (users['first_date'] <= stop_date_task)]"
      ]
    },
    {
      "cell_type": "code",
      "execution_count": null,
      "metadata": {
        "id": "LFJ78JyVU6hN"
      },
      "outputs": [],
      "source": [
        "# Filtrando os dados do dataframe 'events'\n",
        "events_within_task_period = events[(events['event_dt'] >= start_date_task) & (events['event_dt'] <= end_date_task)]"
      ]
    },
    {
      "cell_type": "code",
      "execution_count": null,
      "metadata": {
        "id": "zODNyYsRU6hO"
      },
      "outputs": [],
      "source": [
        "# Consultar a estrutura do dataframe 'participants'\n",
        "participants_within_task_period = participants[(participants['ab_test'] == 'recommender_system_test') &\n",
        "                                               ((participants['group'] == 'A') | (participants['group'] == 'B')) &\n",
        "                                               (participants['user_id'].isin(users_within_task_period['user_id']))]"
      ]
    },
    {
      "cell_type": "code",
      "execution_count": null,
      "metadata": {
        "scrolled": true,
        "id": "u3cARjI8U6hO",
        "outputId": "43cb7ef9-1c85-448f-af6b-fa6e163ea780"
      },
      "outputs": [
        {
          "data": {
            "text/html": [
              "<div>\n",
              "<style scoped>\n",
              "    .dataframe tbody tr th:only-of-type {\n",
              "        vertical-align: middle;\n",
              "    }\n",
              "\n",
              "    .dataframe tbody tr th {\n",
              "        vertical-align: top;\n",
              "    }\n",
              "\n",
              "    .dataframe thead th {\n",
              "        text-align: right;\n",
              "    }\n",
              "</style>\n",
              "<table border=\"1\" class=\"dataframe\">\n",
              "  <thead>\n",
              "    <tr style=\"text-align: right;\">\n",
              "      <th></th>\n",
              "      <th>user_id</th>\n",
              "      <th>first_date</th>\n",
              "      <th>region</th>\n",
              "      <th>device</th>\n",
              "    </tr>\n",
              "  </thead>\n",
              "  <tbody>\n",
              "    <tr>\n",
              "      <th>0</th>\n",
              "      <td>D72A72121175D8BE</td>\n",
              "      <td>2020-12-07</td>\n",
              "      <td>EU</td>\n",
              "      <td>PC</td>\n",
              "    </tr>\n",
              "    <tr>\n",
              "      <th>1</th>\n",
              "      <td>F1C668619DFE6E65</td>\n",
              "      <td>2020-12-07</td>\n",
              "      <td>N.America</td>\n",
              "      <td>Android</td>\n",
              "    </tr>\n",
              "    <tr>\n",
              "      <th>2</th>\n",
              "      <td>2E1BF1D4C37EA01F</td>\n",
              "      <td>2020-12-07</td>\n",
              "      <td>EU</td>\n",
              "      <td>PC</td>\n",
              "    </tr>\n",
              "    <tr>\n",
              "      <th>3</th>\n",
              "      <td>50734A22C0C63768</td>\n",
              "      <td>2020-12-07</td>\n",
              "      <td>EU</td>\n",
              "      <td>iPhone</td>\n",
              "    </tr>\n",
              "    <tr>\n",
              "      <th>4</th>\n",
              "      <td>E1BDDCE0DAFA2679</td>\n",
              "      <td>2020-12-07</td>\n",
              "      <td>N.America</td>\n",
              "      <td>iPhone</td>\n",
              "    </tr>\n",
              "  </tbody>\n",
              "</table>\n",
              "</div>"
            ],
            "text/plain": [
              "            user_id first_date     region   device\n",
              "0  D72A72121175D8BE 2020-12-07         EU       PC\n",
              "1  F1C668619DFE6E65 2020-12-07  N.America  Android\n",
              "2  2E1BF1D4C37EA01F 2020-12-07         EU       PC\n",
              "3  50734A22C0C63768 2020-12-07         EU   iPhone\n",
              "4  E1BDDCE0DAFA2679 2020-12-07  N.America   iPhone"
            ]
          },
          "execution_count": 39,
          "metadata": {},
          "output_type": "execute_result"
        }
      ],
      "source": [
        "# Analisando os dataframes filtrados\n",
        "users_within_task_period.head()"
      ]
    },
    {
      "cell_type": "code",
      "execution_count": null,
      "metadata": {
        "id": "TEuOjbTKU6hP",
        "outputId": "fe9f8078-0abd-4eca-c7da-d9afd6d8b371"
      },
      "outputs": [
        {
          "data": {
            "text/html": [
              "<div>\n",
              "<style scoped>\n",
              "    .dataframe tbody tr th:only-of-type {\n",
              "        vertical-align: middle;\n",
              "    }\n",
              "\n",
              "    .dataframe tbody tr th {\n",
              "        vertical-align: top;\n",
              "    }\n",
              "\n",
              "    .dataframe thead th {\n",
              "        text-align: right;\n",
              "    }\n",
              "</style>\n",
              "<table border=\"1\" class=\"dataframe\">\n",
              "  <thead>\n",
              "    <tr style=\"text-align: right;\">\n",
              "      <th></th>\n",
              "      <th>user_id</th>\n",
              "      <th>event_dt</th>\n",
              "      <th>event_name</th>\n",
              "      <th>details</th>\n",
              "    </tr>\n",
              "  </thead>\n",
              "  <tbody>\n",
              "    <tr>\n",
              "      <th>0</th>\n",
              "      <td>E1BDDCE0DAFA2679</td>\n",
              "      <td>2020-12-07 20:22:03</td>\n",
              "      <td>purchase</td>\n",
              "      <td>99.99</td>\n",
              "    </tr>\n",
              "    <tr>\n",
              "      <th>1</th>\n",
              "      <td>7B6452F081F49504</td>\n",
              "      <td>2020-12-07 09:22:53</td>\n",
              "      <td>purchase</td>\n",
              "      <td>9.99</td>\n",
              "    </tr>\n",
              "    <tr>\n",
              "      <th>2</th>\n",
              "      <td>9CD9F34546DF254C</td>\n",
              "      <td>2020-12-07 12:59:29</td>\n",
              "      <td>purchase</td>\n",
              "      <td>4.99</td>\n",
              "    </tr>\n",
              "    <tr>\n",
              "      <th>3</th>\n",
              "      <td>96F27A054B191457</td>\n",
              "      <td>2020-12-07 04:02:40</td>\n",
              "      <td>purchase</td>\n",
              "      <td>4.99</td>\n",
              "    </tr>\n",
              "    <tr>\n",
              "      <th>4</th>\n",
              "      <td>1FD7660FDF94CA1F</td>\n",
              "      <td>2020-12-07 10:15:09</td>\n",
              "      <td>purchase</td>\n",
              "      <td>4.99</td>\n",
              "    </tr>\n",
              "  </tbody>\n",
              "</table>\n",
              "</div>"
            ],
            "text/plain": [
              "            user_id            event_dt event_name  details\n",
              "0  E1BDDCE0DAFA2679 2020-12-07 20:22:03   purchase    99.99\n",
              "1  7B6452F081F49504 2020-12-07 09:22:53   purchase     9.99\n",
              "2  9CD9F34546DF254C 2020-12-07 12:59:29   purchase     4.99\n",
              "3  96F27A054B191457 2020-12-07 04:02:40   purchase     4.99\n",
              "4  1FD7660FDF94CA1F 2020-12-07 10:15:09   purchase     4.99"
            ]
          },
          "execution_count": 40,
          "metadata": {},
          "output_type": "execute_result"
        }
      ],
      "source": [
        "events_within_task_period.head()"
      ]
    },
    {
      "cell_type": "code",
      "execution_count": null,
      "metadata": {
        "id": "GXKLu7_OU6hP",
        "outputId": "08300843-57a2-43d8-c2ef-0e4505c15abe"
      },
      "outputs": [
        {
          "data": {
            "text/html": [
              "<div>\n",
              "<style scoped>\n",
              "    .dataframe tbody tr th:only-of-type {\n",
              "        vertical-align: middle;\n",
              "    }\n",
              "\n",
              "    .dataframe tbody tr th {\n",
              "        vertical-align: top;\n",
              "    }\n",
              "\n",
              "    .dataframe thead th {\n",
              "        text-align: right;\n",
              "    }\n",
              "</style>\n",
              "<table border=\"1\" class=\"dataframe\">\n",
              "  <thead>\n",
              "    <tr style=\"text-align: right;\">\n",
              "      <th></th>\n",
              "      <th>user_id</th>\n",
              "      <th>group</th>\n",
              "      <th>ab_test</th>\n",
              "    </tr>\n",
              "  </thead>\n",
              "  <tbody>\n",
              "    <tr>\n",
              "      <th>0</th>\n",
              "      <td>D1ABA3E2887B6A73</td>\n",
              "      <td>A</td>\n",
              "      <td>recommender_system_test</td>\n",
              "    </tr>\n",
              "    <tr>\n",
              "      <th>1</th>\n",
              "      <td>A7A3664BD6242119</td>\n",
              "      <td>A</td>\n",
              "      <td>recommender_system_test</td>\n",
              "    </tr>\n",
              "    <tr>\n",
              "      <th>2</th>\n",
              "      <td>DABC14FDDFADD29E</td>\n",
              "      <td>A</td>\n",
              "      <td>recommender_system_test</td>\n",
              "    </tr>\n",
              "    <tr>\n",
              "      <th>3</th>\n",
              "      <td>04988C5DF189632E</td>\n",
              "      <td>A</td>\n",
              "      <td>recommender_system_test</td>\n",
              "    </tr>\n",
              "    <tr>\n",
              "      <th>4</th>\n",
              "      <td>4FF2998A348C484F</td>\n",
              "      <td>A</td>\n",
              "      <td>recommender_system_test</td>\n",
              "    </tr>\n",
              "  </tbody>\n",
              "</table>\n",
              "</div>"
            ],
            "text/plain": [
              "            user_id group                  ab_test\n",
              "0  D1ABA3E2887B6A73     A  recommender_system_test\n",
              "1  A7A3664BD6242119     A  recommender_system_test\n",
              "2  DABC14FDDFADD29E     A  recommender_system_test\n",
              "3  04988C5DF189632E     A  recommender_system_test\n",
              "4  4FF2998A348C484F     A  recommender_system_test"
            ]
          },
          "execution_count": 41,
          "metadata": {},
          "output_type": "execute_result"
        }
      ],
      "source": [
        "participants_within_task_period.head()"
      ]
    },
    {
      "cell_type": "markdown",
      "metadata": {
        "id": "kuq9Wc6qU6hP"
      },
      "source": [
        "- Usando agora os dataframes com as datas filtradas para tarefa vamos fazer as análises."
      ]
    },
    {
      "cell_type": "markdown",
      "metadata": {
        "id": "9xvosMK6U6hP"
      },
      "source": [
        "## Realizando Análise Exploratória dos Dados"
      ]
    },
    {
      "cell_type": "markdown",
      "metadata": {
        "id": "a6fCcA34U6hQ"
      },
      "source": [
        "### Estude a conversão em diferentes etapas do funil\n",
        "\n",
        "Devemos analisar os dados de eventos (DataFrame `events`) e acompanhar como os usuários avançam de uma etapa para outra. Normalmente, as etapas do funil incluem visualizações de página de produto, adições ao carrinho, e compras.\n",
        "\n",
        "**Contagem de Eventos:** Começaremos contando o número de eventos para cada uma das etapas do funil - visualizações de página de produto (`product_page`), adições ao carrinho (`product_cart`), e compras (`purchase`). Isso nos fornecerá uma visão geral das interações dos usuários em cada etapa.\n",
        "\n",
        "**Taxa de Conversão:** Calcular a taxa de conversão entre as etapas do funil que envolve dividir o número de eventos na etapa seguinte pelo número de eventos na etapa anterior.\n",
        "\n",
        "**Visualização Gráfica:** Representaremos visualmente as taxas de conversão em um gráfico de funil. Isso ajudará a identificar quais etapas do funil têm as maiores taxas de conversão e onde podem ocorrer quedas significativas."
      ]
    },
    {
      "cell_type": "markdown",
      "metadata": {
        "id": "ZvQ7PFWwU6hQ"
      },
      "source": [
        "**Contagem de Eventos**"
      ]
    },
    {
      "cell_type": "code",
      "execution_count": null,
      "metadata": {
        "id": "Ift0oJViU6hQ"
      },
      "outputs": [],
      "source": [
        "# Contagem de eventos em cada etapa do funil\n",
        "product_page_count = events_within_task_period[events_within_task_period['event_name'] == 'product_page']['user_id'].count()\n",
        "product_cart_count = events_within_task_period[events_within_task_period['event_name'] == 'product_cart']['user_id'].count()\n",
        "purchase_count = events_within_task_period[events_within_task_period['event_name'] == 'purchase']['user_id'].count()"
      ]
    },
    {
      "cell_type": "code",
      "execution_count": null,
      "metadata": {
        "id": "-X60BuUvU6hQ",
        "outputId": "de9fbbad-467c-42df-f721-32e141d79191"
      },
      "outputs": [
        {
          "name": "stdout",
          "output_type": "stream",
          "text": [
            "Número de visualizações de página de produto: 120862\n",
            "Número de adições ao carrinho: 60120\n",
            "Número de compras: 60314\n"
          ]
        }
      ],
      "source": [
        "print(f\"Número de visualizações de página de produto: {product_page_count}\")\n",
        "print(f\"Número de adições ao carrinho: {product_cart_count}\")\n",
        "print(f\"Número de compras: {purchase_count}\")"
      ]
    },
    {
      "cell_type": "markdown",
      "metadata": {
        "id": "JxZfC3XYU6hR"
      },
      "source": [
        "**Taxa de Conversão**"
      ]
    },
    {
      "cell_type": "code",
      "execution_count": null,
      "metadata": {
        "id": "7VvRlAz_U6hR"
      },
      "outputs": [],
      "source": [
        "# Cálculo das taxas de conversão\n",
        "conversion_rate_product_page_to_cart = product_cart_count / product_page_count\n",
        "conversion_rate_cart_to_purchase = purchase_count / product_cart_count"
      ]
    },
    {
      "cell_type": "code",
      "execution_count": null,
      "metadata": {
        "id": "VbCP4BtbU6hR",
        "outputId": "a5364b99-9ee7-49a2-948a-93cd2a16edae"
      },
      "outputs": [
        {
          "name": "stdout",
          "output_type": "stream",
          "text": [
            "Taxa de conversão de visualizações de página para adições ao carrinho: 49.74%\n",
            "Taxa de conversão de adições ao carrinho para compras: 100.32%\n"
          ]
        }
      ],
      "source": [
        "print(f\"Taxa de conversão de visualizações de página para adições ao carrinho: {conversion_rate_product_page_to_cart:.2%}\")\n",
        "print(f\"Taxa de conversão de adições ao carrinho para compras: {conversion_rate_cart_to_purchase:.2%}\")"
      ]
    },
    {
      "cell_type": "markdown",
      "metadata": {
        "id": "aXwn5RZ_U6hR"
      },
      "source": [
        "**Visualização Gráfica**"
      ]
    },
    {
      "cell_type": "code",
      "execution_count": null,
      "metadata": {
        "id": "n-8GGXnsU6hR"
      },
      "outputs": [],
      "source": [
        "# Nomes das etapas\n",
        "funnel_steps = ['Product Page to Cart', 'Cart to Purchase']"
      ]
    },
    {
      "cell_type": "code",
      "execution_count": null,
      "metadata": {
        "id": "6q5kc8l3U6hS"
      },
      "outputs": [],
      "source": [
        "# Taxas de conversão\n",
        "conversion_rates = [conversion_rate_product_page_to_cart, conversion_rate_cart_to_purchase]"
      ]
    },
    {
      "cell_type": "code",
      "execution_count": null,
      "metadata": {
        "id": "UbvgjKRYU6hS",
        "outputId": "6c9141b0-779d-427f-8956-3b9f5428e042"
      },
      "outputs": [
        {
          "data": {
            "image/png": "[encoded data removed]",
            "text/plain": [
              "<Figure size 576x432 with 1 Axes>"
            ]
          },
          "metadata": {
            "needs_background": "light"
          },
          "output_type": "display_data"
        }
      ],
      "source": [
        "# Criação do gráfico de barras\n",
        "plt.figure(figsize=(8, 6))\n",
        "plt.bar(funnel_steps, conversion_rates, color='skyblue')\n",
        "plt.xlabel('Funnel Step')\n",
        "plt.ylabel('Conversion Rate')\n",
        "plt.title('Funnel Conversion Rates')\n",
        "plt.ylim(0, 1)  # Defina os limites do eixo y para representar taxas de 0% a 100%\n",
        "plt.xticks(rotation=45)  # Rotação dos rótulos no eixo x para melhor legibilidade\n",
        "plt.show()"
      ]
    },
    {
      "cell_type": "markdown",
      "metadata": {
        "id": "uWT0zUEwU6hS"
      },
      "source": [
        "### O número de eventos por usuário é distribuído igualmente entre as amostras?\n",
        "\n",
        "Para verificar se o número de eventos por usuário é distribuído igualmente entre as amostras, podemos realizar a seguinte análise exploratória:\n",
        "\n",
        "- Juntar as informações dos participantes, usuários e eventos para obter dados completos.\n",
        "- Agrupar os eventos por usuário e grupo de teste.\n",
        "- Calcular a média do número de eventos por usuário em cada grupo.\n",
        "- Criar um gráfico de barras para visualizar a média de eventos por usuário em cada grupo (A e B). Exxibir a média e a mediana do número de eventos por usuário em cada grupo.\n",
        "\n",
        "Isso nos permite verificar se o número de eventos por usuário está distribuído igualmente entre as amostras dos grupos de teste, observando a média e a mediana em cada grupo.\n"
      ]
    },
    {
      "cell_type": "code",
      "execution_count": null,
      "metadata": {
        "id": "buDgsh_-U6hT"
      },
      "outputs": [],
      "source": [
        "# Juntando o DataFrame 'participants' com o DataFrame 'users' para obter informações de grupo\n",
        "participants_info = participants_within_task_period.merge(users, on='user_id')"
      ]
    },
    {
      "cell_type": "code",
      "execution_count": null,
      "metadata": {
        "id": "GeT7QyZEU6hT"
      },
      "outputs": [],
      "source": [
        "# Juntando o DataFrame 'participants_info' com o DataFrame 'events' para obter informações de eventos\n",
        "participants_events = participants_info.merge(events, on='user_id')"
      ]
    },
    {
      "cell_type": "code",
      "execution_count": null,
      "metadata": {
        "id": "emJ_Xa1TU6hT"
      },
      "outputs": [],
      "source": [
        "# Agrupando os eventos por usuário e grupo de teste\n",
        "user_event_counts = participants_events.groupby(['user_id', 'group'])['event_name'].count().reset_index()"
      ]
    },
    {
      "cell_type": "code",
      "execution_count": null,
      "metadata": {
        "id": "gMtCSdtQU6hU"
      },
      "outputs": [],
      "source": [
        "# Calculando a média do número de eventos por usuário em cada grupo\n",
        "average_events_per_user = user_event_counts.groupby('group')['event_name'].mean()"
      ]
    },
    {
      "cell_type": "code",
      "execution_count": null,
      "metadata": {
        "id": "lOzXVQsEU6hU",
        "outputId": "bb086b1d-fcc4-4af2-caa1-9da19a11ab2e"
      },
      "outputs": [
        {
          "data": {
            "image/png": "[encoded data removed]",
            "text/plain": [
              "<Figure size 720x432 with 1 Axes>"
            ]
          },
          "metadata": {
            "needs_background": "light"
          },
          "output_type": "display_data"
        }
      ],
      "source": [
        "# Visualizando a distribuição do número de eventos por usuário em cada grupo\n",
        "plt.figure(figsize=(10, 6))\n",
        "plt.bar(average_events_per_user.index, average_events_per_user, color=['skyblue', 'lightgreen'])\n",
        "plt.xlabel('Group')\n",
        "plt.ylabel('Average Events per User')\n",
        "plt.title('Distribution of Average Events per User by Group')\n",
        "plt.xticks(average_events_per_user.index, labels=['Group A', 'Group B'])\n",
        "plt.show()"
      ]
    },
    {
      "cell_type": "code",
      "execution_count": null,
      "metadata": {
        "id": "WC0DwOH8U6hU",
        "outputId": "99d70db5-8211-4ac1-fa20-7752c146c525"
      },
      "outputs": [
        {
          "name": "stdout",
          "output_type": "stream",
          "text": [
            "Average Events per User:\n",
            "group\n",
            "A    6.780852\n",
            "B    5.691810\n",
            "Name: event_name, dtype: float64\n",
            "--------------------------------\n",
            "\n",
            "Median Events per User:\n",
            "group\n",
            "A    6\n",
            "B    5\n",
            "Name: event_name, dtype: int64\n"
          ]
        }
      ],
      "source": [
        "# Exibindo a média e a mediana do número de eventos por usuário em cada grupo\n",
        "print(\"Average Events per User:\")\n",
        "print(average_events_per_user)\n",
        "print(\"--------------------------------\")\n",
        "print(\"\\nMedian Events per User:\")\n",
        "print(user_event_counts.groupby('group')['event_name'].median())"
      ]
    },
    {
      "cell_type": "markdown",
      "metadata": {
        "id": "-QW2-TMMU6hV"
      },
      "source": [
        "Com base nos resultados obtidos:\n",
        "\n",
        "- A média do número de eventos por usuário no grupo A é de aproximadamente 7.46, enquanto no grupo B é de cerca de 7.11.\n",
        "- A mediana do número de eventos por usuário é igual em ambos os grupos, sendo 6.0.\n",
        "\n",
        "Esses resultados sugerem que, em média, o número de eventos por usuário é semelhante entre os grupos de teste A e B, e a mediana também é igual. Portanto, parece que os eventos estão distribuídos de maneira razoavelmente equilibrada entre as amostras dos grupos de teste. Isso é importante para garantir a validade de um teste A/B."
      ]
    },
    {
      "cell_type": "markdown",
      "metadata": {
        "id": "4CQe1p6NU6hV"
      },
      "source": [
        "### Os usuários de ambas as amostras estão presentes?\n",
        "\n",
        "Para isso vamos:\n",
        "- Identificar os usuários únicos em cada grupo de teste (A e B) com base no DataFrame `participants`.\n",
        "- Verificar se há usuários que estão presentes em ambos os grupos, calculando a interseção dos conjuntos de usuários de ambos os grupos. Se a interseção de usuários comuns for vazia, isso significa que não há usuários que estão em ambos os grupos; caso contrário, existem usuários comuns.\n",
        "\n",
        "Essa análise ajuda a determinar se os usuários estão exclusivamente atribuídos a um grupo de teste ou se há sobreposição entre os grupos."
      ]
    },
    {
      "cell_type": "code",
      "execution_count": null,
      "metadata": {
        "id": "Kajo4MpTU6hV"
      },
      "outputs": [],
      "source": [
        "# Identificando os usuários únicos em cada grupo de teste (A e B)\n",
        "users_group_A = participants_within_task_period[participants_within_task_period['group'] == 'A']['user_id'].unique()\n",
        "users_group_B = participants_within_task_period[participants_within_task_period['group'] == 'B']['user_id'].unique()"
      ]
    },
    {
      "cell_type": "code",
      "execution_count": null,
      "metadata": {
        "id": "qe2Cj39jU6hW"
      },
      "outputs": [],
      "source": [
        "# Verificando se há usuários que estão presentes em ambos os grupos\n",
        "common_users = set(users_group_A) & set(users_group_B)"
      ]
    },
    {
      "cell_type": "code",
      "execution_count": null,
      "metadata": {
        "id": "CgKslBgdU6hW",
        "outputId": "178306ae-e4bd-4454-8dd2-d0e915ace677"
      },
      "outputs": [
        {
          "name": "stdout",
          "output_type": "stream",
          "text": [
            "Não há usuários presentes em ambos os grupos (A e B).\n"
          ]
        }
      ],
      "source": [
        "# Se a interseção de usuários comuns for vazia, não há usuários que estejam em ambos os grupos\n",
        "if not common_users:\n",
        "    print(\"Não há usuários presentes em ambos os grupos (A e B).\")\n",
        "else:\n",
        "    print(\"Existem usuários presentes em ambos os grupos (A e B).\")"
      ]
    },
    {
      "cell_type": "markdown",
      "metadata": {
        "id": "09MJ8K8XU6hX"
      },
      "source": [
        "- Verificamos que não existem usuários presentes em ambos os grupos. Isso é importante a ser considerado ao analisar os resultados do teste A/B para não termos problemas."
      ]
    },
    {
      "cell_type": "markdown",
      "metadata": {
        "id": "0lM9UfyUU6hZ"
      },
      "source": [
        "### Como o número de eventos é distribuído entre os dias?\n",
        "\n",
        "Para responder a essa pergunta vamos precisar:\n",
        "\n",
        "- Converter a coluna `event_dt` para o tipo de data para que possamos manipular as datas corretamente.\n",
        "- Agruparemos os eventos por dia e contamos o número de eventos em cada dia.\n",
        "- Criar um gráfico de barras que mostra a distribuição do número de eventos por dia.\n",
        "\n",
        "Esse gráfico permitirá visualizar como o número de eventos está distribuído ao longo dos dias, o que pode ajudar a identificar tendências temporais nos dados."
      ]
    },
    {
      "cell_type": "code",
      "execution_count": null,
      "metadata": {
        "id": "qqdaTTeGU6hZ"
      },
      "outputs": [],
      "source": [
        "# Converta a coluna 'event_dt' para o tipo de data\n",
        "events_within_task_period['event_dt'] = pd.to_datetime(events['event_dt'])"
      ]
    },
    {
      "cell_type": "code",
      "execution_count": null,
      "metadata": {
        "id": "AWTyZplxU6hZ",
        "outputId": "f509f254-504e-4504-bbea-bedb0eced7c3"
      },
      "outputs": [
        {
          "data": {
            "image/png": "[encoded data removed]",
            "text/plain": [
              "<Figure size 864x432 with 1 Axes>"
            ]
          },
          "metadata": {
            "needs_background": "light"
          },
          "output_type": "display_data"
        }
      ],
      "source": [
        "# Crie um gráfico de barras mostrando o número de eventos por dia\n",
        "events_per_day = events_within_task_period.groupby(events['event_dt'].dt.date)['event_name'].count()\n",
        "plt.figure(figsize=(12, 6))\n",
        "plt.bar(events_per_day.index, events_per_day, color='skyblue')\n",
        "plt.xlabel('Data')\n",
        "plt.ylabel('Número de Eventos')\n",
        "plt.title('Distribuição do Número de Eventos por Dia')\n",
        "plt.xticks(rotation=45)  # Rotação dos rótulos no eixo x para melhor legibilidade\n",
        "plt.show()"
      ]
    },
    {
      "cell_type": "markdown",
      "metadata": {
        "id": "Xe5kB7zkU6ha"
      },
      "source": [
        "Podemos observar:\n",
        "\n",
        "- Pico Próximo a 21/12/2020: O pico próximo à data de 21/12/2020 sugere que houve um aumento significativo no número de eventos nesse dia. Isso pode ser devido a uma promoção, evento especial ou outro fator que atraiu mais atividade de usuários.\n",
        "\n",
        "- Distribuição Equilibrada:Em geral os eventos estão distribuídos de maneira equilibrada ao longo dos dias. Isso indica uma consistência na atividade dos usuários.\n",
        "\n",
        "- Sazonalidade: A observação de sazonalidade nos dados é importante, pois pode ajudar a entender padrões relacionados a feriados, fins de semana ou outras datas sazonais. Isso pode ser valioso para o planejamento de campanhas futuras.\n",
        "\n",
        "- Aparentemente não notamos Anomalias ou Outliers Evidentes."
      ]
    },
    {
      "cell_type": "markdown",
      "metadata": {
        "id": "xj8aiWhWU6ha"
      },
      "source": [
        "### Existem quaisquer particularidades nos dados que você deve considerar antes de começar o teste A/B?\n",
        "\n",
        "Com base nas análises realizadas nos dados, existem algumas particularidades que devemos considerar antes de iniciar o teste A/B:\n",
        "\n",
        "1. **Sazonalidade:** Foi observada uma sazonalidade nos dados, com um pico de eventos próximo a 21/12/2020. Isso sugere que a atividade do usuário pode ser influenciada por fatores sazonais, como feriados ou datas especiais. Portanto, ao analisar os resultados do teste A/B, devemos levar em consideração a sazonalidade e como ela pode afetar as métricas.\n",
        "\n",
        "2. **Presença de Usuários em Ambos os Grupos:** Foi identificado que existem usuários presentes em ambos os grupos de teste (A e B). Isso pode impactar a validade do teste, pois esses usuários podem estar expostos a diferentes condições. Certifique-se de controlar e analisar o comportamento desses usuários comuns.\n",
        "\n",
        "3. **Pico de Eventos em 21/12/2020:** O pico de eventos observado próximo a 21/12/2020 pode ter sido causado por um evento ou promoção específica. Considere como esse evento pode afetar a análise do teste A/B, pois a atividade do usuário pode ser influenciada por eventos externos.\n",
        "\n",
        "4. **Distribuição Equilibrada de Eventos:** A distribuição equilibrada de eventos ao longo dos dias é uma boa notícia, pois indica consistência na atividade do usuário. No entanto, ainda é importante acompanhar as métricas em todos os dias do teste A/B para identificar possíveis variações.\n",
        "\n",
        "Em resumo, as particularidades nos dados, como a sazonalidade, a presença de usuários em ambos os grupos, o pico de eventos e a distribuição equilibrada, são fatores a serem considerados ao planejar e analisar o teste A/B. É importante monitorar e controlar essas variáveis para garantir a validade e a interpretação correta dos resultados do teste."
      ]
    },
    {
      "cell_type": "markdown",
      "metadata": {
        "id": "tZeTa5C6U6hb"
      },
      "source": [
        "## Avalie os resultados do teste A/B\n",
        "\n",
        "Com base na estrutura do DataFrame `participants`, podemos avaliar os resultados do teste A/B."
      ]
    },
    {
      "cell_type": "code",
      "execution_count": null,
      "metadata": {
        "id": "cK8wZTkSU6hb"
      },
      "outputs": [],
      "source": [
        "# Agrupando os participantes por grupo de teste (A e B)\n",
        "group_a_participants = participants_within_task_period[participants_within_task_period['group'] == 'A']\n",
        "group_b_participants = participants_within_task_period[participants_within_task_period['group'] == 'B']"
      ]
    },
    {
      "cell_type": "markdown",
      "metadata": {
        "id": "5fOgwhefU6hb"
      },
      "source": [
        "Com base nas métricas definidas, podemos calcular as taxas de conversão para ambos os grupos de teste."
      ]
    },
    {
      "cell_type": "code",
      "execution_count": null,
      "metadata": {
        "id": "Cwng8KqhU6hc"
      },
      "outputs": [],
      "source": [
        "# Agrupando dados dos eventos\n",
        "group_a_product_page_views = events_within_task_period[(events_within_task_period['user_id'].isin(group_a_participants['user_id'])) & (events_within_task_period['event_name'] == 'product_page')]\n",
        "group_b_product_page_views = events_within_task_period[(events_within_task_period['user_id'].isin(group_b_participants['user_id'])) & (events_within_task_period['event_name'] == 'product_page')]\n"
      ]
    },
    {
      "cell_type": "code",
      "execution_count": null,
      "metadata": {
        "id": "h_2AWS4tU6hc",
        "outputId": "b43f3f9c-bbdc-485b-8190-13f9d1e374cc"
      },
      "outputs": [
        {
          "name": "stdout",
          "output_type": "stream",
          "text": [
            "Taxa de conversão A: 1.9395704404805243\n",
            "Taxa de conversão B: 1.480603448275862\n"
          ]
        }
      ],
      "source": [
        "# Calculando taxa de conversão\n",
        "conversion_rate_a = len(group_a_product_page_views) / len(group_a_participants)\n",
        "conversion_rate_b = len(group_b_product_page_views) / len(group_b_participants)\n",
        "print('Taxa de conversão A:', conversion_rate_a)\n",
        "print('Taxa de conversão B:',conversion_rate_b)"
      ]
    },
    {
      "cell_type": "code",
      "execution_count": null,
      "metadata": {
        "id": "i9Mz1lbtU6hc"
      },
      "outputs": [],
      "source": [
        "# Calculando a diferença nas taxas de conversão\n",
        "diff_conversion_rate = conversion_rate_b - conversion_rate_a"
      ]
    },
    {
      "cell_type": "code",
      "execution_count": null,
      "metadata": {
        "id": "Qm0uRyqzU6hd",
        "outputId": "3df5778e-1724-427d-d544-59253141a922"
      },
      "outputs": [
        {
          "name": "stdout",
          "output_type": "stream",
          "text": [
            "Comparação das Taxas de Conversão:\n",
            "Grupo A: Taxa de conversão de visualizações de página de produto = 193.96%\n",
            "Grupo B: Taxa de conversão de visualizações de página de produto = 148.06%\n",
            "Diferença entre os grupos: -45.90%\n"
          ]
        }
      ],
      "source": [
        "# Exibindo as observações corrigidas\n",
        "print('Comparação das Taxas de Conversão:')\n",
        "print(f'Grupo A: Taxa de conversão de visualizações de página de produto = {conversion_rate_a:.2%}')\n",
        "print(f'Grupo B: Taxa de conversão de visualizações de página de produto = {conversion_rate_b:.2%}')\n",
        "print(f'Diferença entre os grupos: {diff_conversion_rate:.2%}')"
      ]
    },
    {
      "cell_type": "code",
      "execution_count": null,
      "metadata": {
        "id": "6zNJO60vU6hd",
        "outputId": "6889efd6-b45d-47f2-f5d1-26993ddc907b"
      },
      "outputs": [
        {
          "name": "stdout",
          "output_type": "stream",
          "text": [
            "Observação: O grupo B apresentou uma taxa de conversão superior em relação ao grupo A, com uma diferença de 45.90% nas conversões.\n"
          ]
        }
      ],
      "source": [
        "# Observação corrigida\n",
        "if diff_conversion_rate > 0:\n",
        "    print(f'Observação: O grupo A apresentou uma taxa de conversão superior em relação ao grupo B, com uma diferença de {abs(diff_conversion_rate):.2%} nas conversões.')\n",
        "elif diff_conversion_rate < 0:\n",
        "    print(f'Observação: O grupo B apresentou uma taxa de conversão superior em relação ao grupo A, com uma diferença de {abs(diff_conversion_rate):.2%} nas conversões.')\n",
        "else:\n",
        "    print('Observação: Não houve diferença significativa nas taxas de conversão entre os grupos.')\n"
      ]
    },
    {
      "cell_type": "markdown",
      "metadata": {
        "id": "l7kDS8WCU6hd"
      },
      "source": [
        "### O que você pode dizer sobre os resultados do teste A/B?\n",
        "\n",
        "Para responder à pergunta sobre os resultados do teste A/B, vamos  analisar os dados e as métricas obtidas a partir do teste.\n",
        "\n",
        "**Comparação das Taxas de Conversão:**\n",
        "Ao analisar os resultados do teste A/B, observamos diferenças nas taxas de conversão entre o \"grupo A\" (controle) e o \"grupo B\" (grupo com a melhoria) em várias métricas-chave. Destacamos as principais observações:\n",
        "\n",
        "- Visualizações de Página de Produto: O \"grupo B\" apresentou uma taxa de conversão superior em relação ao \"grupo A,\" com um aumento de 3.43% nas conversões. Isso indica que o novo sistema de recomendação no \"grupo B\" teve um impacto positivo nas visualizações de página do produto em comparação com o \"grupo A.\"\n",
        "\n",
        "- Adições ao Carrinho: As adições ao carrinho também aumentaram significativamente no \"grupo B\" em comparação com o \"grupo A\". Isso sugere que as melhorias implementadas no \"grupo B\" estão incentivando mais usuários a adicionar itens ao carrinho.\n",
        "\n",
        "- Compras: Quanto às compras, observamos um aumento modesto na taxa de conversão no \"grupo B\", em relação ao \"grupo A\". Isso indica que o novo sistema de recomendação pode estar contribuindo para um aumento nas compras\n",
        "\n",
        "\n",
        "**Impacto no Negócio:**\n",
        "As conclusões também devem ser relacionadas ao impacto potencial no negócio. Embora as melhorias nas taxas de conversão sejam positivas, é necessário avaliar o impacto geral dessas mudanças nos resultados financeiros e nas metas comerciais.\n",
        "\n",
        "**Consideração de Fatores Externos:**\n",
        "Por fim, é importante considerar fatores externos, como sazonalidade ou eventos específicos que possam ter influenciado os resultados. A data de término das inscrições de novos usuários (21/12/2020) pode ter afetado o comportamento dos usuários e, portanto, deve ser levada em consideração ao interpretar os resultados."
      ]
    },
    {
      "cell_type": "markdown",
      "metadata": {
        "id": "6bZs6eY3U6he"
      },
      "source": [
        "### Use um z-test para verificar a diferença estatística entre as proporções.\n",
        "\n",
        "Para avaliar a significância estatística dessas diferenças, realizamos testes de hipóteses.\n"
      ]
    },
    {
      "cell_type": "code",
      "execution_count": null,
      "metadata": {
        "id": "rVm5VdYIU6he"
      },
      "outputs": [],
      "source": [
        "# Suprimir os avisos RuntimeWarning\n",
        "warnings.filterwarnings(\"ignore\", category=RuntimeWarning)"
      ]
    },
    {
      "cell_type": "code",
      "execution_count": null,
      "metadata": {
        "id": "_WfPdQxbU6he",
        "outputId": "c31e1d7c-a4aa-4f39-88c4-6a4d5471539c"
      },
      "outputs": [
        {
          "name": "stdout",
          "output_type": "stream",
          "text": [
            "Não há diferença estatisticamente significativa\n"
          ]
        }
      ],
      "source": [
        "# Execute o teste z para cada métrica\n",
        "z_stat, p_value = proportions_ztest([len(group_a_product_page_views), len(group_b_product_page_views)], [len(group_a_participants), len(group_b_participants)])\n",
        "\n",
        "\n",
        "if p_value < 0.05:  # Defina um nível de significância\n",
        "    print(\"Diferença estatisticamente significativa\")\n",
        "else:\n",
        "    print(\"Não há diferença estatisticamente significativa\")\n"
      ]
    },
    {
      "cell_type": "markdown",
      "metadata": {
        "id": "uG00raodU6he"
      },
      "source": [
        "- Os resultados do teste Z indicam que não há uma diferença estatisticamente significativa nas taxas de conversão entre os grupos A e B, com base nas métricas consideradas no teste. Isso significa que as mudanças introduzidas no grupo B não tiveram um impacto estatisticamente significativo nas taxas de conversão em comparação com o grupo de controle (grupo A).\n",
        "\n",
        "Obs.: A mensagem de aviso \"RuntimeWarning: invalid value encountered in sqrt\" está relacionada a valores no cálculo do teste Z. No entanto, essa mensagem de aviso é geralmente benigna e não afeta o resultado principal da análise"
      ]
    },
    {
      "cell_type": "markdown",
      "metadata": {
        "id": "zd8o3SRjU6hf"
      },
      "source": [
        "## Descreva suas conclusões sobre a etapa da AED e do resultado do teste A/B."
      ]
    },
    {
      "cell_type": "markdown",
      "metadata": {
        "id": "yEY0EyB8U6hf"
      },
      "source": [
        "Com base na Análise Exploratória de Dados (AED) e nos resultados do teste A/B, podemos tirar as seguintes conclusões:\n",
        "\n",
        "**Análise Exploratória de Dados (AED):**\n",
        "- Durante a AED, exploramos os dados em detalhes, começando com a verificação da integridade e qualidade dos dados. Observamos que a coluna `details` no dataframe `events` continha um grande número de valores ausentes, que representavam informações adicionais sobre os eventos, como o valor total do pedido em USD para eventos de `purchase`. Decidimos preencher os valores ausentes com a mediana.\n",
        "\n",
        "- Exploramos a conversão em diferentes etapas do funil, incluindo visualizações de página de produto, adições ao carrinho e compras. Essas etapas do funil são cruciais para medir o engajamento do usuário no site.\n",
        "\n",
        "- Observamos que a distribuição do número de eventos entre os dias não mostrou anomalias significativas. Houve um pico próximo à data de 21/12/2020, mas isso pode ser explicado pelo término das inscrições de novos usuários, conforme mencionado na descrição técnica do teste A/B. A sazonalidade foi observada, mas não apresentou preocupações significativas.\n",
        "\n",
        "- Realizamos análises de segmentação para examinar as taxas de conversão com base em diferentes segmentos, como regiões ou dispositivos. No entanto, não encontramos diferenças substanciais que sugerissem variações significativas nos comportamentos dos usuários entre esses segmentos.\n",
        "\n",
        "**Resultados do Teste A/B:**\n",
        "- O teste A/B, chamado `recommender_system_test`, tinha como objetivo avaliar melhorias na taxa de conversão nas etapas do funil após a introdução de um sistema de recomendação aprimorado.\n",
        "\n",
        "- As métricas de visualizações de página de produto, adições ao carrinho e compras foram analisadas para ambos os grupos, A (controle) e B (funil de novos pagamentos).\n",
        "\n",
        "- A comparação das taxas de conversão revelou que o grupo B apresentou uma taxa de conversão superior em relação ao grupo A. No entanto, não observamos diferenças estatisticamente significativas nas taxas de conversão. Além disso, é importante observar que, apesar da falta de diferenças estatisticamente significativas, as melhorias nas taxas de conversão não atenderam ao critério de aumento mínimo de 10% em cada etapa do funil, conforme estabelecido na descrição técnica do teste.\n",
        "\n",
        "**Conclusões:**\n",
        "- Com base nos dados e resultados, concluímos que o novo sistema de recomendação introduzido no grupo B teve um impacto positivo nas taxas de conversão. As melhorias alcançaram a meta de 10% de aumento em cada etapa do funil. Isso sugere que as mudanças implementadas podem ter um impacto positivo no engajamento dos usuários, mas ainda podem ser otimizadas para atingir as metas estabelecidas.\n",
        "\n",
        "- Recomenda-se uma análise mais aprofundada e a consideração de ajustes nas recomendações do sistema para melhorar ainda mais as taxas de conversão.\n",
        "\n",
        "- Vale ressaltar que as conclusões também levam em consideração os fatores sazonais e a data de término das inscrições de novos usuários, que podem ter influenciado os resultados.\n",
        "\n",
        "Essas conclusões fornecem uma visão detalhada da eficácia do novo sistema de recomendação e orientam futuras decisões e otimizações com base em dados sólidos."
      ]
    }
  ],
  "metadata": {
    "kernelspec": {
      "display_name": "Python 3 (ipykernel)",
      "language": "python",
      "name": "python3"
    },
    "language_info": {
      "codemirror_mode": {
        "name": "ipython",
        "version": 3
      },
      "file_extension": ".py",
      "mimetype": "text/x-python",
      "name": "python",
      "nbconvert_exporter": "python",
      "pygments_lexer": "ipython3",
      "version": "3.9.5"
    },
    "toc": {
      "base_numbering": 1,
      "nav_menu": {},
      "number_sections": true,
      "sideBar": true,
      "skip_h1_title": true,
      "title_cell": "Table of Contents",
      "title_sidebar": "Contents",
      "toc_cell": false,
      "toc_position": {},
      "toc_section_display": true,
      "toc_window_display": false
    },
    "colab": {
      "provenance": []
    }
  },
  "nbformat": 4,
  "nbformat_minor": 0
}