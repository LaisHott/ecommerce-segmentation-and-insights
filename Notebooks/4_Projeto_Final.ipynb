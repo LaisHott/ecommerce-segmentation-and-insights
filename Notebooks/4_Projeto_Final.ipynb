{
  "cells": [
    {
      "cell_type": "markdown",
      "metadata": {
        "id": "5ax3IM3zXlWd"
      },
      "source": [
        "# Projeto Segmentação de Consumidores em um E-Commerce\n",
        "\n",
        "O objetivo principal deste projeto é identificar e segmentar os consumidores de uma loja online de utensílios domésticos, chamada \"Everything Plus\", com base em seus perfis de compra. A segmentação de consumidores é uma estratégia fundamental para personalizar ofertas, estratégias de marketing e melhorar a experiência do cliente.\n",
        "\n",
        "Dessa forma podemos personalizar ofertas, aprimorar a retenção de clientes e melhorar a experiência do cliente."
      ]
    },
    {
      "cell_type": "markdown",
      "metadata": {
        "id": "fSMf46cXXlWe"
      },
      "source": [
        "# Inicializando\n",
        "\n",
        "Vamos carregar as bibliotecas necessárias para nosso projeto."
      ]
    },
    {
      "cell_type": "code",
      "execution_count": null,
      "metadata": {
        "id": "rc7VYc_yXlWe"
      },
      "outputs": [],
      "source": [
        "# Importando as bibliotecas\n",
        "import pandas as pd\n",
        "from scipy import stats\n",
        "import numpy as np\n",
        "import matplotlib.pyplot as plt\n",
        "import seaborn as sns\n",
        "from sklearn.cluster import KMeans\n",
        "from sklearn.preprocessing import StandardScaler"
      ]
    },
    {
      "cell_type": "markdown",
      "metadata": {
        "id": "cLjl5dJ5XlWf"
      },
      "source": [
        "# Carregando os dados\n",
        "\n",
        "**Descrição dos Dados**\n",
        "\n",
        "Estamos analizando o histórico de transações da ***Everything Plus***, uma loja online que vende utensílios domésticos.\n",
        "\n",
        "O arquivo contém as seguintes colunas:\n",
        "\n",
        "`InvoiceNo` — identificador de pedido\n",
        "\n",
        "`StockCode` — identificador de item\n",
        "\n",
        "`Description` — nome de item\n",
        "\n",
        "`Quantity`\n",
        "\n",
        "`InvoiceDate` — data do pedido\n",
        "\n",
        "`UnitPrice` — preço por item\n",
        "\n",
        "`CustomerID`\n",
        "\n",
        "Vamos armazenar os dados em variáveis específicas e, em seguida, otimizá-los para a análise, certificando-nos de que cada coluna contenha o tipo correto de dados."
      ]
    },
    {
      "cell_type": "code",
      "execution_count": null,
      "metadata": {
        "id": "UtteOF7mXlWf"
      },
      "outputs": [],
      "source": [
        "# Carregando os dados\n",
        "transactions = pd.read_csv('/datasets/ecommerce_dataset_us.csv', sep = '\\t')"
      ]
    },
    {
      "cell_type": "code",
      "execution_count": null,
      "metadata": {
        "scrolled": true,
        "id": "ev78Z0oWXlWg",
        "outputId": "b1c88b3c-7a8e-4c58-c0a1-085fe50c24d8"
      },
      "outputs": [
        {
          "name": "stdout",
          "output_type": "stream",
          "text": [
            "<class 'pandas.core.frame.DataFrame'>\n",
            "RangeIndex: 541909 entries, 0 to 541908\n",
            "Data columns (total 7 columns):\n",
            " #   Column       Non-Null Count   Dtype  \n",
            "---  ------       --------------   -----  \n",
            " 0   InvoiceNo    541909 non-null  object \n",
            " 1   StockCode    541909 non-null  object \n",
            " 2   Description  540455 non-null  object \n",
            " 3   Quantity     541909 non-null  int64  \n",
            " 4   InvoiceDate  541909 non-null  object \n",
            " 5   UnitPrice    541909 non-null  float64\n",
            " 6   CustomerID   406829 non-null  float64\n",
            "dtypes: float64(2), int64(1), object(4)\n",
            "memory usage: 157.9 MB\n"
          ]
        }
      ],
      "source": [
        "# Analizando informações detalhadas do dataframe\n",
        "transactions.info(memory_usage='deep')"
      ]
    },
    {
      "cell_type": "markdown",
      "metadata": {
        "id": "1VhQs-H7XlWg"
      },
      "source": [
        "## Pré-processamento\n",
        "\n",
        "- Vamos processar os dados fazendo as devidas correções."
      ]
    },
    {
      "cell_type": "code",
      "execution_count": null,
      "metadata": {
        "id": "H39vZiV0XlWh"
      },
      "outputs": [],
      "source": [
        "# Renomeando as colunas para seguir o padrão snake_case\n",
        "transactions.rename(columns={\n",
        "    'InvoiceNo': 'invoice_no',\n",
        "    'StockCode': 'stock_code',\n",
        "    'Description': 'description',\n",
        "    'Quantity': 'quantity',\n",
        "    'InvoiceDate': 'invoice_date',\n",
        "    'UnitPrice': 'unit_price',\n",
        "    'CustomerID': 'customer_id'\n",
        "}, inplace=True)"
      ]
    },
    {
      "cell_type": "code",
      "execution_count": null,
      "metadata": {
        "id": "biodVWiEXlWh"
      },
      "outputs": [],
      "source": [
        "# Corrigindo tipo de dado\n",
        "transactions['invoice_date'] = pd.to_datetime(transactions['invoice_date'])"
      ]
    },
    {
      "cell_type": "code",
      "execution_count": null,
      "metadata": {
        "id": "4aW0fMXcXlWh",
        "outputId": "5a1bc8ae-6e78-4433-c7bd-b799fb5c11d9"
      },
      "outputs": [
        {
          "name": "stdout",
          "output_type": "stream",
          "text": [
            "<class 'pandas.core.frame.DataFrame'>\n",
            "RangeIndex: 541909 entries, 0 to 541908\n",
            "Data columns (total 7 columns):\n",
            " #   Column        Non-Null Count   Dtype         \n",
            "---  ------        --------------   -----         \n",
            " 0   invoice_no    541909 non-null  object        \n",
            " 1   stock_code    541909 non-null  object        \n",
            " 2   description   540455 non-null  object        \n",
            " 3   quantity      541909 non-null  int64         \n",
            " 4   invoice_date  541909 non-null  datetime64[ns]\n",
            " 5   unit_price    541909 non-null  float64       \n",
            " 6   customer_id   406829 non-null  float64       \n",
            "dtypes: datetime64[ns](1), float64(2), int64(1), object(3)\n",
            "memory usage: 28.9+ MB\n"
          ]
        }
      ],
      "source": [
        "# Verificando se a conversão funcionou\n",
        "transactions.info()"
      ]
    },
    {
      "cell_type": "code",
      "execution_count": null,
      "metadata": {
        "scrolled": true,
        "id": "JkCYVD8-XlWh",
        "outputId": "f195003d-7020-4413-f057-d03523b4a4cc"
      },
      "outputs": [
        {
          "data": {
            "text/html": [
              "<div>\n",
              "<style scoped>\n",
              "    .dataframe tbody tr th:only-of-type {\n",
              "        vertical-align: middle;\n",
              "    }\n",
              "\n",
              "    .dataframe tbody tr th {\n",
              "        vertical-align: top;\n",
              "    }\n",
              "\n",
              "    .dataframe thead th {\n",
              "        text-align: right;\n",
              "    }\n",
              "</style>\n",
              "<table border=\"1\" class=\"dataframe\">\n",
              "  <thead>\n",
              "    <tr style=\"text-align: right;\">\n",
              "      <th></th>\n",
              "      <th>invoice_no</th>\n",
              "      <th>stock_code</th>\n",
              "      <th>description</th>\n",
              "      <th>quantity</th>\n",
              "      <th>invoice_date</th>\n",
              "      <th>unit_price</th>\n",
              "      <th>customer_id</th>\n",
              "    </tr>\n",
              "  </thead>\n",
              "  <tbody>\n",
              "    <tr>\n",
              "      <th>0</th>\n",
              "      <td>536365</td>\n",
              "      <td>85123A</td>\n",
              "      <td>WHITE HANGING HEART T-LIGHT HOLDER</td>\n",
              "      <td>6</td>\n",
              "      <td>2018-11-29 08:26:00</td>\n",
              "      <td>2.55</td>\n",
              "      <td>17850.0</td>\n",
              "    </tr>\n",
              "    <tr>\n",
              "      <th>1</th>\n",
              "      <td>536365</td>\n",
              "      <td>71053</td>\n",
              "      <td>WHITE METAL LANTERN</td>\n",
              "      <td>6</td>\n",
              "      <td>2018-11-29 08:26:00</td>\n",
              "      <td>3.39</td>\n",
              "      <td>17850.0</td>\n",
              "    </tr>\n",
              "    <tr>\n",
              "      <th>2</th>\n",
              "      <td>536365</td>\n",
              "      <td>84406B</td>\n",
              "      <td>CREAM CUPID HEARTS COAT HANGER</td>\n",
              "      <td>8</td>\n",
              "      <td>2018-11-29 08:26:00</td>\n",
              "      <td>2.75</td>\n",
              "      <td>17850.0</td>\n",
              "    </tr>\n",
              "    <tr>\n",
              "      <th>3</th>\n",
              "      <td>536365</td>\n",
              "      <td>84029G</td>\n",
              "      <td>KNITTED UNION FLAG HOT WATER BOTTLE</td>\n",
              "      <td>6</td>\n",
              "      <td>2018-11-29 08:26:00</td>\n",
              "      <td>3.39</td>\n",
              "      <td>17850.0</td>\n",
              "    </tr>\n",
              "    <tr>\n",
              "      <th>4</th>\n",
              "      <td>536365</td>\n",
              "      <td>84029E</td>\n",
              "      <td>RED WOOLLY HOTTIE WHITE HEART.</td>\n",
              "      <td>6</td>\n",
              "      <td>2018-11-29 08:26:00</td>\n",
              "      <td>3.39</td>\n",
              "      <td>17850.0</td>\n",
              "    </tr>\n",
              "  </tbody>\n",
              "</table>\n",
              "</div>"
            ],
            "text/plain": [
              "  invoice_no stock_code                          description  quantity  \\\n",
              "0     536365     85123A   WHITE HANGING HEART T-LIGHT HOLDER         6   \n",
              "1     536365      71053                  WHITE METAL LANTERN         6   \n",
              "2     536365     84406B       CREAM CUPID HEARTS COAT HANGER         8   \n",
              "3     536365     84029G  KNITTED UNION FLAG HOT WATER BOTTLE         6   \n",
              "4     536365     84029E       RED WOOLLY HOTTIE WHITE HEART.         6   \n",
              "\n",
              "         invoice_date  unit_price  customer_id  \n",
              "0 2018-11-29 08:26:00        2.55      17850.0  \n",
              "1 2018-11-29 08:26:00        3.39      17850.0  \n",
              "2 2018-11-29 08:26:00        2.75      17850.0  \n",
              "3 2018-11-29 08:26:00        3.39      17850.0  \n",
              "4 2018-11-29 08:26:00        3.39      17850.0  "
            ]
          },
          "execution_count": 12,
          "metadata": {},
          "output_type": "execute_result"
        }
      ],
      "source": [
        "# Visualizando fatia do dataframe após correções\n",
        "transactions.head()"
      ]
    },
    {
      "cell_type": "markdown",
      "metadata": {
        "id": "yn-UhrrhXlWi"
      },
      "source": [
        "Verificando valores ausentes e duplicados"
      ]
    },
    {
      "cell_type": "code",
      "execution_count": null,
      "metadata": {
        "id": "JO-uns3BXlWi",
        "outputId": "a68cd201-5bca-4cd4-afe9-bcbdd2b3a1f5"
      },
      "outputs": [
        {
          "data": {
            "text/plain": [
              "5268"
            ]
          },
          "execution_count": 13,
          "metadata": {},
          "output_type": "execute_result"
        }
      ],
      "source": [
        "# Verificando os duplicados\n",
        "transactions.duplicated().sum()"
      ]
    },
    {
      "cell_type": "code",
      "execution_count": null,
      "metadata": {
        "id": "dcBMuUG5XlWi"
      },
      "outputs": [],
      "source": [
        "# Processando os valores duplicados\n",
        "transactions = transactions.drop_duplicates()"
      ]
    },
    {
      "cell_type": "code",
      "execution_count": null,
      "metadata": {
        "id": "jIeVqsevXlWi",
        "outputId": "f397135c-faa2-4ada-aac4-71d3ba3e82ef"
      },
      "outputs": [
        {
          "data": {
            "text/plain": [
              "invoice_no           0\n",
              "stock_code           0\n",
              "description       1454\n",
              "quantity             0\n",
              "invoice_date         0\n",
              "unit_price           0\n",
              "customer_id     135037\n",
              "dtype: int64"
            ]
          },
          "execution_count": 15,
          "metadata": {},
          "output_type": "execute_result"
        }
      ],
      "source": [
        "# Verificando valores ausentes\n",
        "transactions.isna().sum()"
      ]
    },
    {
      "cell_type": "code",
      "execution_count": null,
      "metadata": {
        "id": "fqhlAGe9XlWj",
        "outputId": "5f33a5e2-d238-40de-fc53-d67a63f0cecd"
      },
      "outputs": [
        {
          "data": {
            "text/html": [
              "<div>\n",
              "<style scoped>\n",
              "    .dataframe tbody tr th:only-of-type {\n",
              "        vertical-align: middle;\n",
              "    }\n",
              "\n",
              "    .dataframe tbody tr th {\n",
              "        vertical-align: top;\n",
              "    }\n",
              "\n",
              "    .dataframe thead th {\n",
              "        text-align: right;\n",
              "    }\n",
              "</style>\n",
              "<table border=\"1\" class=\"dataframe\">\n",
              "  <thead>\n",
              "    <tr style=\"text-align: right;\">\n",
              "      <th></th>\n",
              "      <th>invoice_no</th>\n",
              "      <th>stock_code</th>\n",
              "      <th>description</th>\n",
              "      <th>quantity</th>\n",
              "      <th>invoice_date</th>\n",
              "      <th>unit_price</th>\n",
              "      <th>customer_id</th>\n",
              "    </tr>\n",
              "  </thead>\n",
              "  <tbody>\n",
              "    <tr>\n",
              "      <th>622</th>\n",
              "      <td>536414</td>\n",
              "      <td>22139</td>\n",
              "      <td>NaN</td>\n",
              "      <td>56</td>\n",
              "      <td>2018-11-29 11:52:00</td>\n",
              "      <td>0.00</td>\n",
              "      <td>NaN</td>\n",
              "    </tr>\n",
              "    <tr>\n",
              "      <th>1443</th>\n",
              "      <td>536544</td>\n",
              "      <td>21773</td>\n",
              "      <td>DECORATIVE ROSE BATHROOM BOTTLE</td>\n",
              "      <td>1</td>\n",
              "      <td>2018-11-29 14:32:00</td>\n",
              "      <td>2.51</td>\n",
              "      <td>NaN</td>\n",
              "    </tr>\n",
              "    <tr>\n",
              "      <th>1444</th>\n",
              "      <td>536544</td>\n",
              "      <td>21774</td>\n",
              "      <td>DECORATIVE CATS BATHROOM BOTTLE</td>\n",
              "      <td>2</td>\n",
              "      <td>2018-11-29 14:32:00</td>\n",
              "      <td>2.51</td>\n",
              "      <td>NaN</td>\n",
              "    </tr>\n",
              "    <tr>\n",
              "      <th>1445</th>\n",
              "      <td>536544</td>\n",
              "      <td>21786</td>\n",
              "      <td>POLKADOT RAIN HAT</td>\n",
              "      <td>4</td>\n",
              "      <td>2018-11-29 14:32:00</td>\n",
              "      <td>0.85</td>\n",
              "      <td>NaN</td>\n",
              "    </tr>\n",
              "    <tr>\n",
              "      <th>1446</th>\n",
              "      <td>536544</td>\n",
              "      <td>21787</td>\n",
              "      <td>RAIN PONCHO RETROSPOT</td>\n",
              "      <td>2</td>\n",
              "      <td>2018-11-29 14:32:00</td>\n",
              "      <td>1.66</td>\n",
              "      <td>NaN</td>\n",
              "    </tr>\n",
              "    <tr>\n",
              "      <th>...</th>\n",
              "      <td>...</td>\n",
              "      <td>...</td>\n",
              "      <td>...</td>\n",
              "      <td>...</td>\n",
              "      <td>...</td>\n",
              "      <td>...</td>\n",
              "      <td>...</td>\n",
              "    </tr>\n",
              "    <tr>\n",
              "      <th>541536</th>\n",
              "      <td>581498</td>\n",
              "      <td>85099B</td>\n",
              "      <td>JUMBO BAG RED RETROSPOT</td>\n",
              "      <td>5</td>\n",
              "      <td>2019-12-07 10:26:00</td>\n",
              "      <td>4.13</td>\n",
              "      <td>NaN</td>\n",
              "    </tr>\n",
              "    <tr>\n",
              "      <th>541537</th>\n",
              "      <td>581498</td>\n",
              "      <td>85099C</td>\n",
              "      <td>JUMBO  BAG BAROQUE BLACK WHITE</td>\n",
              "      <td>4</td>\n",
              "      <td>2019-12-07 10:26:00</td>\n",
              "      <td>4.13</td>\n",
              "      <td>NaN</td>\n",
              "    </tr>\n",
              "    <tr>\n",
              "      <th>541538</th>\n",
              "      <td>581498</td>\n",
              "      <td>85150</td>\n",
              "      <td>LADIES &amp; GENTLEMEN METAL SIGN</td>\n",
              "      <td>1</td>\n",
              "      <td>2019-12-07 10:26:00</td>\n",
              "      <td>4.96</td>\n",
              "      <td>NaN</td>\n",
              "    </tr>\n",
              "    <tr>\n",
              "      <th>541539</th>\n",
              "      <td>581498</td>\n",
              "      <td>85174</td>\n",
              "      <td>S/4 CACTI CANDLES</td>\n",
              "      <td>1</td>\n",
              "      <td>2019-12-07 10:26:00</td>\n",
              "      <td>10.79</td>\n",
              "      <td>NaN</td>\n",
              "    </tr>\n",
              "    <tr>\n",
              "      <th>541540</th>\n",
              "      <td>581498</td>\n",
              "      <td>DOT</td>\n",
              "      <td>DOTCOM POSTAGE</td>\n",
              "      <td>1</td>\n",
              "      <td>2019-12-07 10:26:00</td>\n",
              "      <td>1714.17</td>\n",
              "      <td>NaN</td>\n",
              "    </tr>\n",
              "  </tbody>\n",
              "</table>\n",
              "<p>135037 rows × 7 columns</p>\n",
              "</div>"
            ],
            "text/plain": [
              "       invoice_no stock_code                      description  quantity  \\\n",
              "622        536414      22139                              NaN        56   \n",
              "1443       536544      21773  DECORATIVE ROSE BATHROOM BOTTLE         1   \n",
              "1444       536544      21774  DECORATIVE CATS BATHROOM BOTTLE         2   \n",
              "1445       536544      21786               POLKADOT RAIN HAT          4   \n",
              "1446       536544      21787            RAIN PONCHO RETROSPOT         2   \n",
              "...           ...        ...                              ...       ...   \n",
              "541536     581498     85099B          JUMBO BAG RED RETROSPOT         5   \n",
              "541537     581498     85099C   JUMBO  BAG BAROQUE BLACK WHITE         4   \n",
              "541538     581498      85150    LADIES & GENTLEMEN METAL SIGN         1   \n",
              "541539     581498      85174                S/4 CACTI CANDLES         1   \n",
              "541540     581498        DOT                   DOTCOM POSTAGE         1   \n",
              "\n",
              "              invoice_date  unit_price  customer_id  \n",
              "622    2018-11-29 11:52:00        0.00          NaN  \n",
              "1443   2018-11-29 14:32:00        2.51          NaN  \n",
              "1444   2018-11-29 14:32:00        2.51          NaN  \n",
              "1445   2018-11-29 14:32:00        0.85          NaN  \n",
              "1446   2018-11-29 14:32:00        1.66          NaN  \n",
              "...                    ...         ...          ...  \n",
              "541536 2019-12-07 10:26:00        4.13          NaN  \n",
              "541537 2019-12-07 10:26:00        4.13          NaN  \n",
              "541538 2019-12-07 10:26:00        4.96          NaN  \n",
              "541539 2019-12-07 10:26:00       10.79          NaN  \n",
              "541540 2019-12-07 10:26:00     1714.17          NaN  \n",
              "\n",
              "[135037 rows x 7 columns]"
            ]
          },
          "execution_count": 18,
          "metadata": {},
          "output_type": "execute_result"
        }
      ],
      "source": [
        "# Analizando só os ausentes da coluna 'customer_ID'\n",
        "transactions[transactions['customer_id'].isnull()]"
      ]
    },
    {
      "cell_type": "markdown",
      "metadata": {
        "id": "1BTy1tbdXlWj"
      },
      "source": [
        "- Para a coluna `description`, podemos preencher os valores ausentes com um rótulo como \"No description available\". Essa coluna se refere ao nome do item.\n",
        "\n",
        "- Para a coluna `customer_ID`, podemos preecher com um valor específico que indique que esses registros não estão associados a nenhum cliente identificado."
      ]
    },
    {
      "cell_type": "code",
      "execution_count": null,
      "metadata": {
        "id": "k8TWNjWTXlWj"
      },
      "outputs": [],
      "source": [
        "# Preenchendo valores ausentes na coluna 'description'\n",
        "transactions['description'].fillna('No description available', inplace=True)"
      ]
    },
    {
      "cell_type": "markdown",
      "metadata": {
        "id": "YdK89btNXlWj"
      },
      "source": [
        "Podemos preencher os valores ausentes na coluna `customer_ID` com um valor que não seja usado por clientes reais pois queremos manter esses registros, mas precisamos sinalizar claramente que os IDs de clientes estão ausentes.\n",
        "Escolhemos valor 1 para representar esses clientes."
      ]
    },
    {
      "cell_type": "code",
      "execution_count": null,
      "metadata": {
        "id": "qicF97zBXlWj"
      },
      "outputs": [],
      "source": [
        "# Substituindo valores ausentes\n",
        "transactions['customer_id'].fillna(1, inplace=True)"
      ]
    },
    {
      "cell_type": "code",
      "execution_count": null,
      "metadata": {
        "id": "tc9J2lIeXlWj",
        "outputId": "a9224c06-c05b-44a8-8aa2-907412cbc655"
      },
      "outputs": [
        {
          "data": {
            "text/plain": [
              "invoice_no      0\n",
              "stock_code      0\n",
              "description     0\n",
              "quantity        0\n",
              "invoice_date    0\n",
              "unit_price      0\n",
              "customer_id     0\n",
              "dtype: int64"
            ]
          },
          "execution_count": 21,
          "metadata": {},
          "output_type": "execute_result"
        }
      ],
      "source": [
        "# Verificando após processar os valores ausentes\n",
        "transactions.isna().sum()"
      ]
    },
    {
      "cell_type": "code",
      "execution_count": null,
      "metadata": {
        "id": "2xaLHxC9XlWk",
        "outputId": "cdbae97c-735c-48b2-a2a0-0d44afeaa29e"
      },
      "outputs": [
        {
          "name": "stdout",
          "output_type": "stream",
          "text": [
            "<class 'pandas.core.frame.DataFrame'>\n",
            "Int64Index: 536641 entries, 0 to 541908\n",
            "Data columns (total 7 columns):\n",
            " #   Column        Non-Null Count   Dtype         \n",
            "---  ------        --------------   -----         \n",
            " 0   invoice_no    536641 non-null  object        \n",
            " 1   stock_code    536641 non-null  object        \n",
            " 2   description   536641 non-null  object        \n",
            " 3   quantity      536641 non-null  int64         \n",
            " 4   invoice_date  536641 non-null  datetime64[ns]\n",
            " 5   unit_price    536641 non-null  float64       \n",
            " 6   customer_id   536641 non-null  float64       \n",
            "dtypes: datetime64[ns](1), float64(2), int64(1), object(3)\n",
            "memory usage: 127.3 MB\n"
          ]
        }
      ],
      "source": [
        "# Analizando os dados após as correções\n",
        "transactions.info(memory_usage='deep')"
      ]
    },
    {
      "cell_type": "markdown",
      "metadata": {
        "id": "YKlNe9xLXlWk"
      },
      "source": [
        "- Encontramos valores negativos na coluna `quantity`e `unit_price` de um conjunto de dados de transações, porém a quantidade de itens e o preço do item não pode ser negativa. Esses valores negativos podem ser erros nos dados. Vamos transformar esses valores negativos em positivos nas colunas 'quantity' e 'unit_price'."
      ]
    },
    {
      "cell_type": "code",
      "execution_count": null,
      "metadata": {
        "id": "8QZyEkrlXlWk",
        "outputId": "e302730b-bd87-4462-e92f-47d75dfeed40"
      },
      "outputs": [
        {
          "data": {
            "text/html": [
              "<div>\n",
              "<style scoped>\n",
              "    .dataframe tbody tr th:only-of-type {\n",
              "        vertical-align: middle;\n",
              "    }\n",
              "\n",
              "    .dataframe tbody tr th {\n",
              "        vertical-align: top;\n",
              "    }\n",
              "\n",
              "    .dataframe thead th {\n",
              "        text-align: right;\n",
              "    }\n",
              "</style>\n",
              "<table border=\"1\" class=\"dataframe\">\n",
              "  <thead>\n",
              "    <tr style=\"text-align: right;\">\n",
              "      <th></th>\n",
              "      <th>invoice_no</th>\n",
              "      <th>stock_code</th>\n",
              "      <th>description</th>\n",
              "      <th>quantity</th>\n",
              "      <th>invoice_date</th>\n",
              "      <th>unit_price</th>\n",
              "      <th>customer_id</th>\n",
              "    </tr>\n",
              "  </thead>\n",
              "  <tbody>\n",
              "    <tr>\n",
              "      <th>141</th>\n",
              "      <td>C536379</td>\n",
              "      <td>D</td>\n",
              "      <td>Discount</td>\n",
              "      <td>-1</td>\n",
              "      <td>2018-11-29 09:41:00</td>\n",
              "      <td>27.50</td>\n",
              "      <td>14527.0</td>\n",
              "    </tr>\n",
              "    <tr>\n",
              "      <th>154</th>\n",
              "      <td>C536383</td>\n",
              "      <td>35004C</td>\n",
              "      <td>SET OF 3 COLOURED  FLYING DUCKS</td>\n",
              "      <td>-1</td>\n",
              "      <td>2018-11-29 09:49:00</td>\n",
              "      <td>4.65</td>\n",
              "      <td>15311.0</td>\n",
              "    </tr>\n",
              "    <tr>\n",
              "      <th>235</th>\n",
              "      <td>C536391</td>\n",
              "      <td>22556</td>\n",
              "      <td>PLASTERS IN TIN CIRCUS PARADE</td>\n",
              "      <td>-12</td>\n",
              "      <td>2018-11-29 10:24:00</td>\n",
              "      <td>1.65</td>\n",
              "      <td>17548.0</td>\n",
              "    </tr>\n",
              "    <tr>\n",
              "      <th>236</th>\n",
              "      <td>C536391</td>\n",
              "      <td>21984</td>\n",
              "      <td>PACK OF 12 PINK PAISLEY TISSUES</td>\n",
              "      <td>-24</td>\n",
              "      <td>2018-11-29 10:24:00</td>\n",
              "      <td>0.29</td>\n",
              "      <td>17548.0</td>\n",
              "    </tr>\n",
              "    <tr>\n",
              "      <th>237</th>\n",
              "      <td>C536391</td>\n",
              "      <td>21983</td>\n",
              "      <td>PACK OF 12 BLUE PAISLEY TISSUES</td>\n",
              "      <td>-24</td>\n",
              "      <td>2018-11-29 10:24:00</td>\n",
              "      <td>0.29</td>\n",
              "      <td>17548.0</td>\n",
              "    </tr>\n",
              "    <tr>\n",
              "      <th>...</th>\n",
              "      <td>...</td>\n",
              "      <td>...</td>\n",
              "      <td>...</td>\n",
              "      <td>...</td>\n",
              "      <td>...</td>\n",
              "      <td>...</td>\n",
              "      <td>...</td>\n",
              "    </tr>\n",
              "    <tr>\n",
              "      <th>540449</th>\n",
              "      <td>C581490</td>\n",
              "      <td>23144</td>\n",
              "      <td>ZINC T-LIGHT HOLDER STARS SMALL</td>\n",
              "      <td>-11</td>\n",
              "      <td>2019-12-07 09:57:00</td>\n",
              "      <td>0.83</td>\n",
              "      <td>14397.0</td>\n",
              "    </tr>\n",
              "    <tr>\n",
              "      <th>541541</th>\n",
              "      <td>C581499</td>\n",
              "      <td>M</td>\n",
              "      <td>Manual</td>\n",
              "      <td>-1</td>\n",
              "      <td>2019-12-07 10:28:00</td>\n",
              "      <td>224.69</td>\n",
              "      <td>15498.0</td>\n",
              "    </tr>\n",
              "    <tr>\n",
              "      <th>541715</th>\n",
              "      <td>C581568</td>\n",
              "      <td>21258</td>\n",
              "      <td>VICTORIAN SEWING BOX LARGE</td>\n",
              "      <td>-5</td>\n",
              "      <td>2019-12-07 11:57:00</td>\n",
              "      <td>10.95</td>\n",
              "      <td>15311.0</td>\n",
              "    </tr>\n",
              "    <tr>\n",
              "      <th>541716</th>\n",
              "      <td>C581569</td>\n",
              "      <td>84978</td>\n",
              "      <td>HANGING HEART JAR T-LIGHT HOLDER</td>\n",
              "      <td>-1</td>\n",
              "      <td>2019-12-07 11:58:00</td>\n",
              "      <td>1.25</td>\n",
              "      <td>17315.0</td>\n",
              "    </tr>\n",
              "    <tr>\n",
              "      <th>541717</th>\n",
              "      <td>C581569</td>\n",
              "      <td>20979</td>\n",
              "      <td>36 PENCILS TUBE RED RETROSPOT</td>\n",
              "      <td>-5</td>\n",
              "      <td>2019-12-07 11:58:00</td>\n",
              "      <td>1.25</td>\n",
              "      <td>17315.0</td>\n",
              "    </tr>\n",
              "  </tbody>\n",
              "</table>\n",
              "<p>10587 rows × 7 columns</p>\n",
              "</div>"
            ],
            "text/plain": [
              "       invoice_no stock_code                       description  quantity  \\\n",
              "141       C536379          D                          Discount        -1   \n",
              "154       C536383     35004C   SET OF 3 COLOURED  FLYING DUCKS        -1   \n",
              "235       C536391      22556    PLASTERS IN TIN CIRCUS PARADE        -12   \n",
              "236       C536391      21984  PACK OF 12 PINK PAISLEY TISSUES        -24   \n",
              "237       C536391      21983  PACK OF 12 BLUE PAISLEY TISSUES        -24   \n",
              "...           ...        ...                               ...       ...   \n",
              "540449    C581490      23144   ZINC T-LIGHT HOLDER STARS SMALL       -11   \n",
              "541541    C581499          M                            Manual        -1   \n",
              "541715    C581568      21258        VICTORIAN SEWING BOX LARGE        -5   \n",
              "541716    C581569      84978  HANGING HEART JAR T-LIGHT HOLDER        -1   \n",
              "541717    C581569      20979     36 PENCILS TUBE RED RETROSPOT        -5   \n",
              "\n",
              "              invoice_date  unit_price  customer_id  \n",
              "141    2018-11-29 09:41:00       27.50      14527.0  \n",
              "154    2018-11-29 09:49:00        4.65      15311.0  \n",
              "235    2018-11-29 10:24:00        1.65      17548.0  \n",
              "236    2018-11-29 10:24:00        0.29      17548.0  \n",
              "237    2018-11-29 10:24:00        0.29      17548.0  \n",
              "...                    ...         ...          ...  \n",
              "540449 2019-12-07 09:57:00        0.83      14397.0  \n",
              "541541 2019-12-07 10:28:00      224.69      15498.0  \n",
              "541715 2019-12-07 11:57:00       10.95      15311.0  \n",
              "541716 2019-12-07 11:58:00        1.25      17315.0  \n",
              "541717 2019-12-07 11:58:00        1.25      17315.0  \n",
              "\n",
              "[10587 rows x 7 columns]"
            ]
          },
          "execution_count": 42,
          "metadata": {},
          "output_type": "execute_result"
        }
      ],
      "source": [
        "# Analizando valores negativos da coluna 'quantity'\n",
        "transactions[transactions['quantity'] < 0]"
      ]
    },
    {
      "cell_type": "code",
      "execution_count": null,
      "metadata": {
        "id": "5CWK6lX6XlWl",
        "outputId": "46c0196d-2b05-490f-b6d1-00ba992649ca"
      },
      "outputs": [
        {
          "data": {
            "text/html": [
              "<div>\n",
              "<style scoped>\n",
              "    .dataframe tbody tr th:only-of-type {\n",
              "        vertical-align: middle;\n",
              "    }\n",
              "\n",
              "    .dataframe tbody tr th {\n",
              "        vertical-align: top;\n",
              "    }\n",
              "\n",
              "    .dataframe thead th {\n",
              "        text-align: right;\n",
              "    }\n",
              "</style>\n",
              "<table border=\"1\" class=\"dataframe\">\n",
              "  <thead>\n",
              "    <tr style=\"text-align: right;\">\n",
              "      <th></th>\n",
              "      <th>invoice_no</th>\n",
              "      <th>stock_code</th>\n",
              "      <th>description</th>\n",
              "      <th>quantity</th>\n",
              "      <th>invoice_date</th>\n",
              "      <th>unit_price</th>\n",
              "      <th>customer_id</th>\n",
              "    </tr>\n",
              "  </thead>\n",
              "  <tbody>\n",
              "    <tr>\n",
              "      <th>299983</th>\n",
              "      <td>A563186</td>\n",
              "      <td>B</td>\n",
              "      <td>Adjust bad debt</td>\n",
              "      <td>1</td>\n",
              "      <td>2019-08-10 14:51:00</td>\n",
              "      <td>-11062.06</td>\n",
              "      <td>1.0</td>\n",
              "    </tr>\n",
              "    <tr>\n",
              "      <th>299984</th>\n",
              "      <td>A563187</td>\n",
              "      <td>B</td>\n",
              "      <td>Adjust bad debt</td>\n",
              "      <td>1</td>\n",
              "      <td>2019-08-10 14:52:00</td>\n",
              "      <td>-11062.06</td>\n",
              "      <td>1.0</td>\n",
              "    </tr>\n",
              "  </tbody>\n",
              "</table>\n",
              "</div>"
            ],
            "text/plain": [
              "       invoice_no stock_code      description  quantity        invoice_date  \\\n",
              "299983    A563186          B  Adjust bad debt         1 2019-08-10 14:51:00   \n",
              "299984    A563187          B  Adjust bad debt         1 2019-08-10 14:52:00   \n",
              "\n",
              "        unit_price  customer_id  \n",
              "299983   -11062.06          1.0  \n",
              "299984   -11062.06          1.0  "
            ]
          },
          "execution_count": 41,
          "metadata": {},
          "output_type": "execute_result"
        }
      ],
      "source": [
        "# Analizando valores negativos da coluna 'unit_price'\n",
        "transactions[transactions['unit_price'] < 0]"
      ]
    },
    {
      "cell_type": "code",
      "execution_count": null,
      "metadata": {
        "id": "52zsvBR5XlWl"
      },
      "outputs": [],
      "source": [
        "# Transformar os valores negativos em positivos\n",
        "transactions['quantity'] = transactions['quantity'].abs()\n",
        "transactions['unit_price'] = transactions['unit_price'].abs()"
      ]
    },
    {
      "cell_type": "markdown",
      "metadata": {
        "id": "-PpAXN9oXlWl"
      },
      "source": [
        "- Com os dados processados, otimizados e tipos corretamente ajustados, estamos prontos para iniciar algumas análises exploratórias."
      ]
    },
    {
      "cell_type": "markdown",
      "metadata": {
        "id": "1U3yiCmLXlWl"
      },
      "source": [
        "- Vamos fazer boxplots das colunas de única variável contínua para analisarmos se há presença de outliers que possam interferir na análise."
      ]
    },
    {
      "cell_type": "code",
      "execution_count": null,
      "metadata": {
        "id": "1mzgy83bXlWl",
        "outputId": "0c8d924e-7ef4-4cb4-b173-636068e00d54"
      },
      "outputs": [
        {
          "data": {
            "image/png": "[encoded data removed]",
            "text/plain": [
              "<Figure size 576x432 with 1 Axes>"
            ]
          },
          "metadata": {
            "needs_background": "light"
          },
          "output_type": "display_data"
        }
      ],
      "source": [
        "# Boxplot para a coluna 'quantity'\n",
        "plt.figure(figsize=(8, 6))\n",
        "plt.boxplot(transactions['quantity'])\n",
        "plt.title('Box Plot - Quantity')\n",
        "plt.ylabel('quantity')\n",
        "plt.show()"
      ]
    },
    {
      "cell_type": "markdown",
      "metadata": {
        "id": "O9DRx_9mXlWl"
      },
      "source": [
        "- O gráfico acima representa a distribuição da coluna `quantity` com informações que nos ajudam a analisar  outliers, que são valores discrepantes, identificados como pontos acima ou abaixo da linha em laranja.\n",
        "- O boxplot dessa coluna revela a presença de outliers, indicando transações com quantidades muito diferentes da maioria."
      ]
    },
    {
      "cell_type": "code",
      "execution_count": null,
      "metadata": {
        "id": "NNZfHkaIXlWl",
        "outputId": "cbc25e0b-9f69-4d13-ecac-27bd5d8dee3b"
      },
      "outputs": [
        {
          "data": {
            "image/png": "[encoded data removed]",
            "text/plain": [
              "<Figure size 576x432 with 1 Axes>"
            ]
          },
          "metadata": {
            "needs_background": "light"
          },
          "output_type": "display_data"
        }
      ],
      "source": [
        "# Boxplot para a coluna 'unit_price'\n",
        "plt.figure(figsize=(8, 6))\n",
        "plt.boxplot(transactions['unit_price'])\n",
        "plt.title('Box Plot - UnitPrice')\n",
        "plt.ylabel('UnitPrice')\n",
        "plt.show()"
      ]
    },
    {
      "cell_type": "markdown",
      "metadata": {
        "id": "NJ9oc9wBXlWl"
      },
      "source": [
        "- O gráfico acima representa a distribuição da coluna `unit_price` no conjunto de dados.\n",
        "No boxplot dessa coluna também observamos a presença de outliers, indicando a existência de itens com preços muito diferentes da maioria dos produtos.\n",
        "\n",
        "Em resumo, os gráficos boxplot fornecem informações valiosas sobre a distribuição e a presença de outliers nas colunas 'quantity' e 'unit_price'. A análise desses gráficos pode ser útil para identificar transações ou clientes atípicos no conjunto de dados."
      ]
    },
    {
      "cell_type": "markdown",
      "metadata": {
        "id": "HznatH3cXlWm"
      },
      "source": [
        "- Vamos calcular os intervalos IQR e limites para essas colunas e em seguida remover os outliers para melhor análise."
      ]
    },
    {
      "cell_type": "code",
      "execution_count": null,
      "metadata": {
        "id": "W0rpw_GUXlWm"
      },
      "outputs": [],
      "source": [
        "# Calculando o IQR para 'unit_price'\n",
        "Q1_unit_price = transactions['unit_price'].quantile(0.25)\n",
        "Q3_unit_price = transactions['unit_price'].quantile(0.75)\n",
        "IQR_unit_price = Q3_unit_price - Q1_unit_price"
      ]
    },
    {
      "cell_type": "code",
      "execution_count": null,
      "metadata": {
        "id": "Eb3K9J0JXlWm"
      },
      "outputs": [],
      "source": [
        "# Definindo limites para 'unit_price'\n",
        "limite_inferior_unit_price = Q1_unit_price - 1.5 * IQR_unit_price\n",
        "limite_superior_unit_price = Q3_unit_price + 1.5 * IQR_unit_price"
      ]
    },
    {
      "cell_type": "code",
      "execution_count": null,
      "metadata": {
        "id": "Pvd120jOXlWm"
      },
      "outputs": [],
      "source": [
        "# Calculando o IQR para 'quantity'\n",
        "Q1_quantity = transactions['quantity'].quantile(0.25)\n",
        "Q3_quantity = transactions['quantity'].quantile(0.75)\n",
        "IQR_quantity = Q3_quantity - Q1_quantity"
      ]
    },
    {
      "cell_type": "code",
      "execution_count": null,
      "metadata": {
        "id": "aCOrBZ7qXlWm"
      },
      "outputs": [],
      "source": [
        "# Definindo os limites para 'quantity'\n",
        "limite_inferior_quantity = Q1_quantity - 1.5 * IQR_quantity\n",
        "limite_superior_quantity = Q3_quantity + 1.5 * IQR_quantity"
      ]
    },
    {
      "cell_type": "code",
      "execution_count": null,
      "metadata": {
        "id": "39CgdrxSXlWm"
      },
      "outputs": [],
      "source": [
        "# Removendo os outliers em ambas as colunas\n",
        "transactions_sem_outliers = transactions[\n",
        "    (transactions['unit_price'] >= limite_inferior_unit_price) & (transactions['unit_price'] <= limite_superior_unit_price) &\n",
        "    (transactions['quantity'] >= limite_inferior_quantity) & (transactions['quantity'] <= limite_superior_quantity)\n",
        "]"
      ]
    },
    {
      "cell_type": "code",
      "execution_count": null,
      "metadata": {
        "scrolled": false,
        "id": "2i9bIezpXlWm",
        "outputId": "fa398509-7db8-400b-df27-795c99cf780c"
      },
      "outputs": [
        {
          "data": {
            "text/html": [
              "<div>\n",
              "<style scoped>\n",
              "    .dataframe tbody tr th:only-of-type {\n",
              "        vertical-align: middle;\n",
              "    }\n",
              "\n",
              "    .dataframe tbody tr th {\n",
              "        vertical-align: top;\n",
              "    }\n",
              "\n",
              "    .dataframe thead th {\n",
              "        text-align: right;\n",
              "    }\n",
              "</style>\n",
              "<table border=\"1\" class=\"dataframe\">\n",
              "  <thead>\n",
              "    <tr style=\"text-align: right;\">\n",
              "      <th></th>\n",
              "      <th>invoice_no</th>\n",
              "      <th>stock_code</th>\n",
              "      <th>description</th>\n",
              "      <th>quantity</th>\n",
              "      <th>invoice_date</th>\n",
              "      <th>unit_price</th>\n",
              "      <th>customer_id</th>\n",
              "    </tr>\n",
              "  </thead>\n",
              "  <tbody>\n",
              "    <tr>\n",
              "      <th>0</th>\n",
              "      <td>536365</td>\n",
              "      <td>85123A</td>\n",
              "      <td>WHITE HANGING HEART T-LIGHT HOLDER</td>\n",
              "      <td>6</td>\n",
              "      <td>2018-11-29 08:26:00</td>\n",
              "      <td>2.55</td>\n",
              "      <td>17850.0</td>\n",
              "    </tr>\n",
              "    <tr>\n",
              "      <th>1</th>\n",
              "      <td>536365</td>\n",
              "      <td>71053</td>\n",
              "      <td>WHITE METAL LANTERN</td>\n",
              "      <td>6</td>\n",
              "      <td>2018-11-29 08:26:00</td>\n",
              "      <td>3.39</td>\n",
              "      <td>17850.0</td>\n",
              "    </tr>\n",
              "    <tr>\n",
              "      <th>2</th>\n",
              "      <td>536365</td>\n",
              "      <td>84406B</td>\n",
              "      <td>CREAM CUPID HEARTS COAT HANGER</td>\n",
              "      <td>8</td>\n",
              "      <td>2018-11-29 08:26:00</td>\n",
              "      <td>2.75</td>\n",
              "      <td>17850.0</td>\n",
              "    </tr>\n",
              "    <tr>\n",
              "      <th>3</th>\n",
              "      <td>536365</td>\n",
              "      <td>84029G</td>\n",
              "      <td>KNITTED UNION FLAG HOT WATER BOTTLE</td>\n",
              "      <td>6</td>\n",
              "      <td>2018-11-29 08:26:00</td>\n",
              "      <td>3.39</td>\n",
              "      <td>17850.0</td>\n",
              "    </tr>\n",
              "    <tr>\n",
              "      <th>4</th>\n",
              "      <td>536365</td>\n",
              "      <td>84029E</td>\n",
              "      <td>RED WOOLLY HOTTIE WHITE HEART.</td>\n",
              "      <td>6</td>\n",
              "      <td>2018-11-29 08:26:00</td>\n",
              "      <td>3.39</td>\n",
              "      <td>17850.0</td>\n",
              "    </tr>\n",
              "    <tr>\n",
              "      <th>...</th>\n",
              "      <td>...</td>\n",
              "      <td>...</td>\n",
              "      <td>...</td>\n",
              "      <td>...</td>\n",
              "      <td>...</td>\n",
              "      <td>...</td>\n",
              "      <td>...</td>\n",
              "    </tr>\n",
              "    <tr>\n",
              "      <th>541904</th>\n",
              "      <td>581587</td>\n",
              "      <td>22613</td>\n",
              "      <td>PACK OF 20 SPACEBOY NAPKINS</td>\n",
              "      <td>12</td>\n",
              "      <td>2019-12-07 12:50:00</td>\n",
              "      <td>0.85</td>\n",
              "      <td>12680.0</td>\n",
              "    </tr>\n",
              "    <tr>\n",
              "      <th>541905</th>\n",
              "      <td>581587</td>\n",
              "      <td>22899</td>\n",
              "      <td>CHILDREN'S APRON DOLLY GIRL</td>\n",
              "      <td>6</td>\n",
              "      <td>2019-12-07 12:50:00</td>\n",
              "      <td>2.10</td>\n",
              "      <td>12680.0</td>\n",
              "    </tr>\n",
              "    <tr>\n",
              "      <th>541906</th>\n",
              "      <td>581587</td>\n",
              "      <td>23254</td>\n",
              "      <td>CHILDRENS CUTLERY DOLLY GIRL</td>\n",
              "      <td>4</td>\n",
              "      <td>2019-12-07 12:50:00</td>\n",
              "      <td>4.15</td>\n",
              "      <td>12680.0</td>\n",
              "    </tr>\n",
              "    <tr>\n",
              "      <th>541907</th>\n",
              "      <td>581587</td>\n",
              "      <td>23255</td>\n",
              "      <td>CHILDRENS CUTLERY CIRCUS PARADE</td>\n",
              "      <td>4</td>\n",
              "      <td>2019-12-07 12:50:00</td>\n",
              "      <td>4.15</td>\n",
              "      <td>12680.0</td>\n",
              "    </tr>\n",
              "    <tr>\n",
              "      <th>541908</th>\n",
              "      <td>581587</td>\n",
              "      <td>22138</td>\n",
              "      <td>BAKING SET 9 PIECE RETROSPOT</td>\n",
              "      <td>3</td>\n",
              "      <td>2019-12-07 12:50:00</td>\n",
              "      <td>4.95</td>\n",
              "      <td>12680.0</td>\n",
              "    </tr>\n",
              "  </tbody>\n",
              "</table>\n",
              "<p>468900 rows × 7 columns</p>\n",
              "</div>"
            ],
            "text/plain": [
              "       invoice_no stock_code                          description  quantity  \\\n",
              "0          536365     85123A   WHITE HANGING HEART T-LIGHT HOLDER         6   \n",
              "1          536365      71053                  WHITE METAL LANTERN         6   \n",
              "2          536365     84406B       CREAM CUPID HEARTS COAT HANGER         8   \n",
              "3          536365     84029G  KNITTED UNION FLAG HOT WATER BOTTLE         6   \n",
              "4          536365     84029E       RED WOOLLY HOTTIE WHITE HEART.         6   \n",
              "...           ...        ...                                  ...       ...   \n",
              "541904     581587      22613          PACK OF 20 SPACEBOY NAPKINS        12   \n",
              "541905     581587      22899         CHILDREN'S APRON DOLLY GIRL          6   \n",
              "541906     581587      23254        CHILDRENS CUTLERY DOLLY GIRL          4   \n",
              "541907     581587      23255      CHILDRENS CUTLERY CIRCUS PARADE         4   \n",
              "541908     581587      22138        BAKING SET 9 PIECE RETROSPOT          3   \n",
              "\n",
              "              invoice_date  unit_price  customer_id  \n",
              "0      2018-11-29 08:26:00        2.55      17850.0  \n",
              "1      2018-11-29 08:26:00        3.39      17850.0  \n",
              "2      2018-11-29 08:26:00        2.75      17850.0  \n",
              "3      2018-11-29 08:26:00        3.39      17850.0  \n",
              "4      2018-11-29 08:26:00        3.39      17850.0  \n",
              "...                    ...         ...          ...  \n",
              "541904 2019-12-07 12:50:00        0.85      12680.0  \n",
              "541905 2019-12-07 12:50:00        2.10      12680.0  \n",
              "541906 2019-12-07 12:50:00        4.15      12680.0  \n",
              "541907 2019-12-07 12:50:00        4.15      12680.0  \n",
              "541908 2019-12-07 12:50:00        4.95      12680.0  \n",
              "\n",
              "[468900 rows x 7 columns]"
            ]
          },
          "execution_count": 51,
          "metadata": {},
          "output_type": "execute_result"
        }
      ],
      "source": [
        "# Visualizando fatia do novo dataframe\n",
        "transactions_sem_outliers"
      ]
    },
    {
      "cell_type": "code",
      "execution_count": null,
      "metadata": {
        "id": "uRqzC0cAXlWm"
      },
      "outputs": [],
      "source": [
        "# Analisando a porcentagem de outliers\n",
        "tamanho_original = len(transactions)\n",
        "tamanho_sem_outliers = len(transactions_sem_outliers)"
      ]
    },
    {
      "cell_type": "code",
      "execution_count": null,
      "metadata": {
        "id": "NDQTFFsiXlWm",
        "outputId": "1abcf671-1145-40bd-b1f2-3702f5ec17be"
      },
      "outputs": [
        {
          "data": {
            "text/plain": [
              "12.623150299734831"
            ]
          },
          "execution_count": 53,
          "metadata": {},
          "output_type": "execute_result"
        }
      ],
      "source": [
        "porcentagem_outliers = ((tamanho_original - tamanho_sem_outliers) / tamanho_original) * 100\n",
        "porcentagem_outliers"
      ]
    },
    {
      "cell_type": "markdown",
      "metadata": {
        "id": "ds8OEcoGXlWm"
      },
      "source": [
        "**Total de compras individuais**\n",
        "\n",
        "- Vamos calcular os totais de compras individuais multiplicando a coluna `quantity` pela `unity_price`. Em seguida, criaremos um histograma desses totais de compra para visualizar a distribuição dos valores."
      ]
    },
    {
      "cell_type": "code",
      "execution_count": null,
      "metadata": {
        "id": "glcvbGucXlWm"
      },
      "outputs": [],
      "source": [
        "# Calculando os totais de compras individuais (quantity x unit price)\n",
        "pd.options.mode.chained_assignment = None\n",
        "transactions_sem_outliers['total_de_compra'] = transactions_sem_outliers['quantity'] * transactions_sem_outliers['unit_price']"
      ]
    },
    {
      "cell_type": "code",
      "execution_count": null,
      "metadata": {
        "scrolled": false,
        "id": "bphPMIYBXlWm",
        "outputId": "841753c3-c80e-4884-b562-f7009420160c"
      },
      "outputs": [
        {
          "data": {
            "image/png": "[encoded data removed]",
            "text/plain": [
              "<Figure size 576x432 with 1 Axes>"
            ]
          },
          "metadata": {
            "needs_background": "light"
          },
          "output_type": "display_data"
        }
      ],
      "source": [
        "# Criando o histograma\n",
        "plt.figure(figsize=(8, 6))\n",
        "plt.hist(transactions_sem_outliers['total_de_compra'], bins=20, color='skyblue', edgecolor='black')\n",
        "plt.title('Histograma - Totais de Compras Individuais')\n",
        "plt.xlabel('Total de Compra')\n",
        "plt.ylabel('Frequência')\n",
        "plt.show()"
      ]
    },
    {
      "cell_type": "markdown",
      "metadata": {
        "id": "8YkcWWJMXlWn"
      },
      "source": [
        "- O histograma acima exibe a distribuição dos totais de compras individuais, resultantes da multiplicação da quantidade pelo preço unitário. A maioria das compras tem valores baixos, mas algumas transações são de alto valor, criando uma barra mais longa. Isso indica que a maioria das transações envolve itens baratos, mas há compras significativamente caras."
      ]
    },
    {
      "cell_type": "code",
      "execution_count": null,
      "metadata": {
        "id": "Zb-M6fw8XlWn"
      },
      "outputs": [],
      "source": [
        "# Agrupando as transações por dia e calculando o total de compras\n",
        "total_compras_por_dia = transactions_sem_outliers.groupby(transactions_sem_outliers['invoice_date'].dt.date)['unit_price'].sum()"
      ]
    },
    {
      "cell_type": "code",
      "execution_count": null,
      "metadata": {
        "id": "srCeX0X7XlWn",
        "outputId": "3db9d1d1-6bfd-411f-dd33-9c148d77c72a"
      },
      "outputs": [
        {
          "data": {
            "image/png": "[encoded data removed]",
            "text/plain": [
              "<Figure size 864x432 with 1 Axes>"
            ]
          },
          "metadata": {
            "needs_background": "light"
          },
          "output_type": "display_data"
        }
      ],
      "source": [
        "# Criando um gráfico de linha para mostrar o total de compras por dia\n",
        "plt.figure(figsize=(12, 6))\n",
        "total_compras_por_dia.plot()\n",
        "plt.title('Total de Compras por Dia')\n",
        "plt.xlabel('Data')\n",
        "plt.ylabel('Total de Compras')\n",
        "plt.grid(True)\n",
        "plt.show()"
      ]
    },
    {
      "cell_type": "markdown",
      "metadata": {
        "id": "RSn9HQHdXlWn"
      },
      "source": [
        "- Este gráfico de linha mostra o total de compras feitas por dia. Para criar este gráfico, agrupamos as transações por dia e calculamos a soma dos preços unitários dessas transações. O eixo x representa as datas, enquanto o eixo y mostra o total de compras para cada dia. O gráfico revela tendências ao longo do tempo, como variações nos valores de compra em diferentes datas. Também ajuda a identificar os picos de compras (Observado em novembro de 2019) e as tendências sazonais, fornecendo informações úteis sobre o comportamento dos clientes em relação às compras ao longo do tempo."
      ]
    },
    {
      "cell_type": "markdown",
      "metadata": {
        "id": "LbZQ_Z2zXlWn"
      },
      "source": [
        "**Top 10 produtos mais vendidos**"
      ]
    },
    {
      "cell_type": "code",
      "execution_count": null,
      "metadata": {
        "id": "SYqQOdJMXlWn"
      },
      "outputs": [],
      "source": [
        "# Contando o número de vendas para cada produto\n",
        "vendas_por_produto = transactions_sem_outliers['description'].value_counts().head(10)"
      ]
    },
    {
      "cell_type": "code",
      "execution_count": null,
      "metadata": {
        "id": "lwppZh8pXlWn",
        "outputId": "a0ff2be5-4249-4d42-907b-bd8688569b56"
      },
      "outputs": [
        {
          "data": {
            "image/png": "[encoded data removed]",
            "text/plain": [
              "<Figure size 864x432 with 1 Axes>"
            ]
          },
          "metadata": {
            "needs_background": "light"
          },
          "output_type": "display_data"
        }
      ],
      "source": [
        "# Criando gráfico de barras com Seaborn\n",
        "plt.figure(figsize=(12, 6))\n",
        "sns.barplot(x=vendas_por_produto.values, y=vendas_por_produto.index, palette='viridis')\n",
        "plt.title('Distribuição de Vendas por Produto (Top 10)')\n",
        "plt.xlabel('Número de Vendas')\n",
        "plt.ylabel('Produto')\n",
        "plt.show()"
      ]
    },
    {
      "cell_type": "markdown",
      "metadata": {
        "id": "QTMOUOVHXlWn"
      },
      "source": [
        "- Este gráfico de barras representa a distribuição das vendas dos produtos mais populares, exibindo os 10 produtos com mais vendas. Cada barra no gráfico representa um produto específico, e a altura da barra indica o número de vendas desse produto. Os produtos estão listados no eixo y, enquanto o eixo x representa o número de vendas. O gráfico ajuda a identificar os produtos mais vendidos e fornece insights sobre os produtos preferidos pelos clientes."
      ]
    },
    {
      "cell_type": "markdown",
      "metadata": {
        "id": "LPDK0N0HXlWn"
      },
      "source": [
        "## Segmente os usuários com base no histórico de compras"
      ]
    },
    {
      "cell_type": "markdown",
      "metadata": {
        "id": "KIDylHJzXlWn"
      },
      "source": [
        "### Vamos conduzir uma análise de compras calculando RFM\n",
        "\n",
        "Três métricas essenciais: Recência, Frequência e Valor Monetário (RFM). O RFM nos fornece insights valiosos sobre o comportamento de compra dos clientes. A métrica **Recência** reflete o tempo decorrido desde a última compra de um cliente, **Frequência** indica com que frequência um cliente faz compras e **Valor Monetário** representa o montante total gasto por cada cliente em suas compras.\n",
        "\n",
        "Agora que temos essas métricas RFM, podemos usá-las para segmentar os clientes com base em seus padrões de compra. Essa segmentação nos permitirá desenvolver estratégias de marketing personalizadas para cada segmento, atendendo melhor às necessidades e preferências individuais de nossos clientes."
      ]
    },
    {
      "cell_type": "code",
      "execution_count": null,
      "metadata": {
        "id": "MGEu75diXlWn"
      },
      "outputs": [],
      "source": [
        "# Criando uma tabela de RFM por cliente\n",
        "rfm_table = transactions_sem_outliers.groupby('customer_id').agg({\n",
        "    'invoice_date': lambda x: (x.max() - x.min()).days,  # Recência\n",
        "    'invoice_no': 'count',  # Frequência\n",
        "    'unit_price': 'sum'  # Valor Monetário\n",
        "})"
      ]
    },
    {
      "cell_type": "code",
      "execution_count": null,
      "metadata": {
        "id": "lW0kRp7dXlWn"
      },
      "outputs": [],
      "source": [
        "# Renomeando as colunas\n",
        "rfm_table.rename(columns={\n",
        "    'invoice_date': 'recency',\n",
        "    'invoice_no': 'frequency',\n",
        "    'unit_price': 'monetary_value'\n",
        "}, inplace=True)"
      ]
    },
    {
      "cell_type": "code",
      "execution_count": null,
      "metadata": {
        "id": "P8eVHAh0XlWn",
        "outputId": "81d7fd15-abda-4eec-fb0d-52758aca83ab"
      },
      "outputs": [
        {
          "data": {
            "text/html": [
              "<div>\n",
              "<style scoped>\n",
              "    .dataframe tbody tr th:only-of-type {\n",
              "        vertical-align: middle;\n",
              "    }\n",
              "\n",
              "    .dataframe tbody tr th {\n",
              "        vertical-align: top;\n",
              "    }\n",
              "\n",
              "    .dataframe thead th {\n",
              "        text-align: right;\n",
              "    }\n",
              "</style>\n",
              "<table border=\"1\" class=\"dataframe\">\n",
              "  <thead>\n",
              "    <tr style=\"text-align: right;\">\n",
              "      <th></th>\n",
              "      <th>recency</th>\n",
              "      <th>frequency</th>\n",
              "      <th>monetary_value</th>\n",
              "    </tr>\n",
              "    <tr>\n",
              "      <th>customer_id</th>\n",
              "      <th></th>\n",
              "      <th></th>\n",
              "      <th></th>\n",
              "    </tr>\n",
              "  </thead>\n",
              "  <tbody>\n",
              "    <tr>\n",
              "      <th>1.0</th>\n",
              "      <td>372</td>\n",
              "      <td>117240</td>\n",
              "      <td>373009.82</td>\n",
              "    </tr>\n",
              "    <tr>\n",
              "      <th>12347.0</th>\n",
              "      <td>365</td>\n",
              "      <td>167</td>\n",
              "      <td>398.08</td>\n",
              "    </tr>\n",
              "    <tr>\n",
              "      <th>12348.0</th>\n",
              "      <td>109</td>\n",
              "      <td>6</td>\n",
              "      <td>3.90</td>\n",
              "    </tr>\n",
              "    <tr>\n",
              "      <th>12349.0</th>\n",
              "      <td>0</td>\n",
              "      <td>64</td>\n",
              "      <td>200.75</td>\n",
              "    </tr>\n",
              "    <tr>\n",
              "      <th>12350.0</th>\n",
              "      <td>0</td>\n",
              "      <td>16</td>\n",
              "      <td>25.30</td>\n",
              "    </tr>\n",
              "    <tr>\n",
              "      <th>...</th>\n",
              "      <td>...</td>\n",
              "      <td>...</td>\n",
              "      <td>...</td>\n",
              "    </tr>\n",
              "    <tr>\n",
              "      <th>18280.0</th>\n",
              "      <td>0</td>\n",
              "      <td>9</td>\n",
              "      <td>37.70</td>\n",
              "    </tr>\n",
              "    <tr>\n",
              "      <th>18281.0</th>\n",
              "      <td>0</td>\n",
              "      <td>5</td>\n",
              "      <td>5.46</td>\n",
              "    </tr>\n",
              "    <tr>\n",
              "      <th>18282.0</th>\n",
              "      <td>118</td>\n",
              "      <td>9</td>\n",
              "      <td>24.14</td>\n",
              "    </tr>\n",
              "    <tr>\n",
              "      <th>18283.0</th>\n",
              "      <td>333</td>\n",
              "      <td>717</td>\n",
              "      <td>1131.43</td>\n",
              "    </tr>\n",
              "    <tr>\n",
              "      <th>18287.0</th>\n",
              "      <td>158</td>\n",
              "      <td>50</td>\n",
              "      <td>76.44</td>\n",
              "    </tr>\n",
              "  </tbody>\n",
              "</table>\n",
              "<p>4231 rows × 3 columns</p>\n",
              "</div>"
            ],
            "text/plain": [
              "             recency  frequency  monetary_value\n",
              "customer_id                                    \n",
              "1.0              372     117240       373009.82\n",
              "12347.0          365        167          398.08\n",
              "12348.0          109          6            3.90\n",
              "12349.0            0         64          200.75\n",
              "12350.0            0         16           25.30\n",
              "...              ...        ...             ...\n",
              "18280.0            0          9           37.70\n",
              "18281.0            0          5            5.46\n",
              "18282.0          118          9           24.14\n",
              "18283.0          333        717         1131.43\n",
              "18287.0          158         50           76.44\n",
              "\n",
              "[4231 rows x 3 columns]"
            ]
          },
          "execution_count": 81,
          "metadata": {},
          "output_type": "execute_result"
        }
      ],
      "source": [
        "# Exibindo a tabela RFM\n",
        "rfm_table"
      ]
    },
    {
      "cell_type": "markdown",
      "metadata": {
        "id": "BYCr1WtoXlWo"
      },
      "source": [
        "### Vamos prosseguir com a segmentação de clientes usando o algoritmo de clustering K-Means.\n",
        "\n",
        "O K-Means é uma técnica de agrupamento que divide os clientes em clusters com base em suas métricas de Recência, Frequência e Valor Monetário (RFM)."
      ]
    },
    {
      "cell_type": "code",
      "execution_count": null,
      "metadata": {
        "id": "pfDWuQj2XlWo"
      },
      "outputs": [],
      "source": [
        "# Escolhendo o número de clusters (segmentos) desejado\n",
        "numero_de_clusters = 4"
      ]
    },
    {
      "cell_type": "code",
      "execution_count": null,
      "metadata": {
        "id": "y-IsLIxMXlWo"
      },
      "outputs": [],
      "source": [
        "# Padronizando as métricas RFM para que tenham a mesma importância\n",
        "scaler = StandardScaler()\n",
        "rfm_scaled = scaler.fit_transform(rfm_table)"
      ]
    },
    {
      "cell_type": "code",
      "execution_count": null,
      "metadata": {
        "id": "yrCwZEJcXlWo",
        "outputId": "a83f45d0-0b18-4746-adca-919c4dd3cec6"
      },
      "outputs": [
        {
          "data": {
            "text/plain": [
              "KMeans(n_clusters=4, random_state=0)"
            ]
          },
          "execution_count": 84,
          "metadata": {},
          "output_type": "execute_result"
        }
      ],
      "source": [
        "# Criando o modelo K-Means com o número de clusters escolhido\n",
        "kmeans = KMeans(n_clusters=numero_de_clusters, random_state=0)\n",
        "kmeans.fit(rfm_scaled)"
      ]
    },
    {
      "cell_type": "code",
      "execution_count": null,
      "metadata": {
        "id": "Pov-AF_jXlWo"
      },
      "outputs": [],
      "source": [
        "# Adicionando a coluna 'segment' com os rótulos de cluster ao DataFrame RFM\n",
        "rfm_table['segment'] = kmeans.labels_"
      ]
    },
    {
      "cell_type": "code",
      "execution_count": null,
      "metadata": {
        "id": "O-DlIIMBXlWo",
        "outputId": "747dec15-14ff-4b03-b589-266f6cb1c12a"
      },
      "outputs": [
        {
          "data": {
            "text/html": [
              "<div>\n",
              "<style scoped>\n",
              "    .dataframe tbody tr th:only-of-type {\n",
              "        vertical-align: middle;\n",
              "    }\n",
              "\n",
              "    .dataframe tbody tr th {\n",
              "        vertical-align: top;\n",
              "    }\n",
              "\n",
              "    .dataframe thead th {\n",
              "        text-align: right;\n",
              "    }\n",
              "</style>\n",
              "<table border=\"1\" class=\"dataframe\">\n",
              "  <thead>\n",
              "    <tr style=\"text-align: right;\">\n",
              "      <th></th>\n",
              "      <th>recency</th>\n",
              "      <th>frequency</th>\n",
              "      <th>monetary_value</th>\n",
              "      <th>segment</th>\n",
              "    </tr>\n",
              "    <tr>\n",
              "      <th>customer_id</th>\n",
              "      <th></th>\n",
              "      <th></th>\n",
              "      <th></th>\n",
              "      <th></th>\n",
              "    </tr>\n",
              "  </thead>\n",
              "  <tbody>\n",
              "    <tr>\n",
              "      <th>1.0</th>\n",
              "      <td>372</td>\n",
              "      <td>117240</td>\n",
              "      <td>373009.82</td>\n",
              "      <td>2</td>\n",
              "    </tr>\n",
              "    <tr>\n",
              "      <th>12347.0</th>\n",
              "      <td>365</td>\n",
              "      <td>167</td>\n",
              "      <td>398.08</td>\n",
              "      <td>0</td>\n",
              "    </tr>\n",
              "    <tr>\n",
              "      <th>12348.0</th>\n",
              "      <td>109</td>\n",
              "      <td>6</td>\n",
              "      <td>3.90</td>\n",
              "      <td>3</td>\n",
              "    </tr>\n",
              "    <tr>\n",
              "      <th>12349.0</th>\n",
              "      <td>0</td>\n",
              "      <td>64</td>\n",
              "      <td>200.75</td>\n",
              "      <td>1</td>\n",
              "    </tr>\n",
              "    <tr>\n",
              "      <th>12350.0</th>\n",
              "      <td>0</td>\n",
              "      <td>16</td>\n",
              "      <td>25.30</td>\n",
              "      <td>1</td>\n",
              "    </tr>\n",
              "    <tr>\n",
              "      <th>...</th>\n",
              "      <td>...</td>\n",
              "      <td>...</td>\n",
              "      <td>...</td>\n",
              "      <td>...</td>\n",
              "    </tr>\n",
              "    <tr>\n",
              "      <th>18280.0</th>\n",
              "      <td>0</td>\n",
              "      <td>9</td>\n",
              "      <td>37.70</td>\n",
              "      <td>1</td>\n",
              "    </tr>\n",
              "    <tr>\n",
              "      <th>18281.0</th>\n",
              "      <td>0</td>\n",
              "      <td>5</td>\n",
              "      <td>5.46</td>\n",
              "      <td>1</td>\n",
              "    </tr>\n",
              "    <tr>\n",
              "      <th>18282.0</th>\n",
              "      <td>118</td>\n",
              "      <td>9</td>\n",
              "      <td>24.14</td>\n",
              "      <td>3</td>\n",
              "    </tr>\n",
              "    <tr>\n",
              "      <th>18283.0</th>\n",
              "      <td>333</td>\n",
              "      <td>717</td>\n",
              "      <td>1131.43</td>\n",
              "      <td>0</td>\n",
              "    </tr>\n",
              "    <tr>\n",
              "      <th>18287.0</th>\n",
              "      <td>158</td>\n",
              "      <td>50</td>\n",
              "      <td>76.44</td>\n",
              "      <td>3</td>\n",
              "    </tr>\n",
              "  </tbody>\n",
              "</table>\n",
              "<p>4231 rows × 4 columns</p>\n",
              "</div>"
            ],
            "text/plain": [
              "             recency  frequency  monetary_value  segment\n",
              "customer_id                                             \n",
              "1.0              372     117240       373009.82        2\n",
              "12347.0          365        167          398.08        0\n",
              "12348.0          109          6            3.90        3\n",
              "12349.0            0         64          200.75        1\n",
              "12350.0            0         16           25.30        1\n",
              "...              ...        ...             ...      ...\n",
              "18280.0            0          9           37.70        1\n",
              "18281.0            0          5            5.46        1\n",
              "18282.0          118          9           24.14        3\n",
              "18283.0          333        717         1131.43        0\n",
              "18287.0          158         50           76.44        3\n",
              "\n",
              "[4231 rows x 4 columns]"
            ]
          },
          "execution_count": 86,
          "metadata": {},
          "output_type": "execute_result"
        }
      ],
      "source": [
        "# Exibindo a tabela RFM com os rótulos de segmento\n",
        "rfm_table"
      ]
    },
    {
      "cell_type": "markdown",
      "metadata": {
        "id": "duwyjKywXlWo"
      },
      "source": [
        "- Vamos calcular as métricas para a tabela RFM"
      ]
    },
    {
      "cell_type": "code",
      "execution_count": null,
      "metadata": {
        "id": "Xc9XNJVlXlWo"
      },
      "outputs": [],
      "source": [
        "# Calculando as médias das métricas de Recência e Valor Monetário para cada segmento\n",
        "segment_means = rfm_table.groupby('segment')[['recency', 'monetary_value', 'frequency']].mean()"
      ]
    },
    {
      "cell_type": "markdown",
      "metadata": {
        "id": "FrhgGJw3XlWo"
      },
      "source": [
        "- Vamos plotar um gráfico que representa a distribuição das métricas de Recência (tempo desde a última compra) e Valor Monetário (gasto total) para cada segmento de clientes. Cada barra empilhada representa um segmento, e as duas cores empilhadas dentro de cada barra representam a média da Recência e do Valor Monetário para aquele segmento. As barras empilhadas permitem comparar visualmente como cada segmento se diferencia em relação a essas métricas. No eixo x, temos as métricas, com \"Recência\" e \"Valor Monetário\". No eixo y, temos a média dessas métricas."
      ]
    },
    {
      "cell_type": "code",
      "execution_count": null,
      "metadata": {
        "id": "StiEqCF3XlWo",
        "outputId": "0f010244-5415-4ac9-84d0-32f581aaf99d"
      },
      "outputs": [
        {
          "data": {
            "image/png": "[encoded data removed]",
            "text/plain": [
              "<Figure size 720x432 with 1 Axes>"
            ]
          },
          "metadata": {
            "needs_background": "light"
          },
          "output_type": "display_data"
        }
      ],
      "source": [
        "# Transpondo os dados para criar o gráfico de barras empilhadas\n",
        "segment_means = segment_means.T\n",
        "\n",
        "# Plotando um gráfico de barras empilhadas\n",
        "ax = segment_means.plot(kind='bar', stacked=True, colormap='cool', figsize=(10, 6))\n",
        "\n",
        "# Personalizando o gráfico com rótulos, título, etc.\n",
        "plt.xlabel('Métrica')\n",
        "plt.ylabel('Média')\n",
        "plt.title('Distribuição de Recência e Valor Monetário por Segmento')\n",
        "plt.xticks(rotation=0)\n",
        "\n",
        "# Exibindo o gráfico\n",
        "plt.show()"
      ]
    },
    {
      "cell_type": "markdown",
      "metadata": {
        "id": "KjKeyFbpXlWo"
      },
      "source": [
        "- O Segmento 2 se destaca notavelmente tanto em termos de frequência quanto de valor monetário, indicando que os clientes pertencentes a esse segmento fazem compras com maior frequência e gastam significativamente mais do que os outros segmentos. Essa informação é valiosa para estratégias de marketing, pois sugere que esses clientes têm um alto poder aquisitivo e estão dispostos a investir mais em produtos ou serviços. Enquanto o Segmento 1 mostra um desempenho discreto em comparação, os outros segmentos não apresentam características tão distintas."
      ]
    },
    {
      "cell_type": "markdown",
      "metadata": {
        "id": "6iDio6WYXlWo"
      },
      "source": [
        "**Gráfico de barras empilhadas para Recência**\n",
        "\n",
        "Vamos plotar um gráfico de barras empilhadas para a métrica de Recência nos diferentes segmentos para entender o comportamento dos clientes em relação ao tempo desde sua última compra."
      ]
    },
    {
      "cell_type": "code",
      "execution_count": null,
      "metadata": {
        "id": "t1ovjAU6XlWo"
      },
      "outputs": [],
      "source": [
        "# Calculando as médias das métricas de Recência para cada segmento\n",
        "recency_means = rfm_table.groupby('segment')['recency'].mean()"
      ]
    },
    {
      "cell_type": "code",
      "execution_count": null,
      "metadata": {
        "id": "Z3FhxLtTXlWo",
        "outputId": "d9964dc2-8713-4332-e9e4-cf35703d875b"
      },
      "outputs": [
        {
          "data": {
            "image/png": "[encoded data removed]",
            "text/plain": [
              "<Figure size 720x432 with 1 Axes>"
            ]
          },
          "metadata": {
            "needs_background": "light"
          },
          "output_type": "display_data"
        }
      ],
      "source": [
        "# Plotando um gráfico de barras empilhadas para Recência\n",
        "recency_means.plot(kind='bar', colormap='coolwarm', figsize=(10, 6))\n",
        "\n",
        "# Personalizando o gráfico\n",
        "plt.xlabel('Segmento')\n",
        "plt.ylabel('Média de Recência')\n",
        "plt.title('Distribuição de Recência por Segmento')\n",
        "plt.xticks(rotation=0)\n",
        "\n",
        "# Exibindo o gráfico\n",
        "plt.show()"
      ]
    },
    {
      "cell_type": "markdown",
      "metadata": {
        "id": "EkFRij-tXlWo"
      },
      "source": [
        "- O gráfico acima A revela que o Segmento 2 tem a média de recência mais alta, seguido pelo Segmento 0, o Segmento 3 e, por último, o Segmento 1. Essa é uma informação crucial, pois indica que os diferentes segmentos de clientes têm comportamentos distintos em relação ao tempo decorrido desde sua última compra."
      ]
    },
    {
      "cell_type": "markdown",
      "metadata": {
        "id": "9j3PozsxXlWp"
      },
      "source": [
        "**Gráfico de barras empilhadas para Valor Monetário**"
      ]
    },
    {
      "cell_type": "code",
      "execution_count": null,
      "metadata": {
        "id": "vL8eKo-4XlWp"
      },
      "outputs": [],
      "source": [
        "# Calculando as médias das métricas de Valor Monetário para cada segmento\n",
        "monetary_means = rfm_table.groupby('segment')['monetary_value'].mean()"
      ]
    },
    {
      "cell_type": "code",
      "execution_count": null,
      "metadata": {
        "id": "JSQD0AlnXlWp",
        "outputId": "feb525e0-f6ca-4e5d-db58-d8f61b2a32e1"
      },
      "outputs": [
        {
          "data": {
            "image/png": "[encoded data removed]",
            "text/plain": [
              "<Figure size 720x432 with 1 Axes>"
            ]
          },
          "metadata": {
            "needs_background": "light"
          },
          "output_type": "display_data"
        }
      ],
      "source": [
        "# Plotando um gráfico de barras empilhadas para Valor Monetário\n",
        "monetary_means.plot(kind='bar', colormap='viridis', figsize=(10, 6))\n",
        "\n",
        "# Personalizando o gráfico\n",
        "plt.xlabel('Segmento')\n",
        "plt.ylabel('Média de Valor Monetário')\n",
        "plt.title('Distribuição de Valor Monetário por Segmento')\n",
        "plt.xticks(rotation=0)\n",
        "\n",
        "# Exibindo o gráfico\n",
        "plt.show()"
      ]
    },
    {
      "cell_type": "markdown",
      "metadata": {
        "id": "nD7jH16eXlWp"
      },
      "source": [
        "- O gráfico acima para a métrica de Valor Monetário confirma a observação que fizemos mais acima. O Segmento 2 apresenta uma média de valor monetário consideravelmente maior em comparação com os outros segmentos. Em seguida, temos o Segmento 0, que também possui um valor médio mais alto, embora seja mais discreto em comparação com o Segmento 2. Esse é um insight valioso, pois indica que o Segmento 2 está gerando mais receita em termos de valor monetário. Isso pode sugerir que esses clientes, embora possam não comprar com a mesma frequência que outros segmentos, gastam mais dinheiro em cada compra"
      ]
    },
    {
      "cell_type": "markdown",
      "metadata": {
        "id": "Mgjmoq7AXlWp"
      },
      "source": [
        "**Gráfico de barras empilhadas para Frequência**"
      ]
    },
    {
      "cell_type": "code",
      "execution_count": null,
      "metadata": {
        "id": "_qOr-5jRXlWp"
      },
      "outputs": [],
      "source": [
        "# Calculando as médias das métricas de frequência para cada segmento\n",
        "frequency_means = rfm_table.groupby('segment')['frequency'].mean()"
      ]
    },
    {
      "cell_type": "code",
      "execution_count": null,
      "metadata": {
        "id": "B-8dGPQTXlWp",
        "outputId": "5f62ba63-f92f-4d7b-de34-63159f20b27f"
      },
      "outputs": [
        {
          "data": {
            "image/png": "[encoded data removed]",
            "text/plain": [
              "<Figure size 720x432 with 1 Axes>"
            ]
          },
          "metadata": {
            "needs_background": "light"
          },
          "output_type": "display_data"
        }
      ],
      "source": [
        "# Plote um gráfico de barras empilhadas para Frequência\n",
        "frequency_means.plot(kind='bar', colormap='cividis', figsize=(10, 6))\n",
        "\n",
        "# Personalizando o gráfico\n",
        "plt.xlabel('Segmento')\n",
        "plt.ylabel('Média de Frequência')\n",
        "plt.title('Distribuição de Frequência por Segmento')\n",
        "plt.xticks(rotation=0)\n",
        "\n",
        "# Exibindo o gráfico\n",
        "plt.show()"
      ]
    },
    {
      "cell_type": "markdown",
      "metadata": {
        "id": "rr24rp3DXlWp"
      },
      "source": [
        "- O gráfico de barras empilhadas de frequência revela um destaque notável no Segmento 2, enquanto o Segmento 0 exibe um desempenho discreto em comparação com os demais segmentos."
      ]
    },
    {
      "cell_type": "markdown",
      "metadata": {
        "id": "R0rhsojtXlWp"
      },
      "source": [
        "- Vamos criar gráficos de barras empilhadas onde mostre as médias das métricas de Recência, Frequência e Valor Monetário para cada segmento. Isso permitirá uma visualização direta das diferenças entre os segmentos em termos de comportamento de compra."
      ]
    },
    {
      "cell_type": "code",
      "execution_count": null,
      "metadata": {
        "id": "SXmHUoUzXlWp",
        "outputId": "1a1e99d8-3511-4989-8c53-0f70e6d2b4c0"
      },
      "outputs": [
        {
          "data": {
            "image/png": "[encoded data removed]",
            "text/plain": [
              "<Figure size 720x432 with 1 Axes>"
            ]
          },
          "metadata": {
            "needs_background": "light"
          },
          "output_type": "display_data"
        }
      ],
      "source": [
        "# Calculando as médias das métricas para cada segmento\n",
        "segment_means = rfm_table.groupby('segment')[['recency', 'frequency', 'monetary_value']].mean()\n",
        "\n",
        "# Criando um gráfico de barras empilhadas para cada segmento\n",
        "ax = segment_means.plot(kind='bar', colormap='YlGnBu', figsize=(10, 6))\n",
        "\n",
        "# Personalizando o gráfico\n",
        "plt.xlabel('Segmento')\n",
        "plt.ylabel('Média')\n",
        "plt.title('Comportamento de Compra por Segmento')\n",
        "plt.xticks(rotation=0)\n",
        "\n",
        "# Exibindo o gráfico\n",
        "plt.show()"
      ]
    },
    {
      "cell_type": "markdown",
      "metadata": {
        "id": "AMGSiCWZXlWp"
      },
      "source": [
        "- Ao analisar o gráfico de barras empilhadas que compara as médias das métricas de Recência, Frequência e Valor Monetário entre os segmentos, destaca-se que o Segmento 2 apresenta valores consideravelmente mais altos em termos de frequência e valor monetário. Isso sugere um padrão de compra mais ativo e gastos mais elevados nesse segmento em comparação com os outros."
      ]
    },
    {
      "cell_type": "markdown",
      "metadata": {
        "id": "VGPUWOz1XlWp"
      },
      "source": [
        "#### Vamos filtrar os dados para cada segmento para que possamos analisar os três segmentos de forma mais detalhada."
      ]
    },
    {
      "cell_type": "code",
      "execution_count": null,
      "metadata": {
        "id": "JH9BguCdXlWp"
      },
      "outputs": [],
      "source": [
        "# Filtrando os dados para cada segmento\n",
        "segment_0 = rfm_table[rfm_table['segment'] == 0]\n",
        "segment_1 = rfm_table[rfm_table['segment'] == 1]\n",
        "segment_2 = rfm_table[rfm_table['segment'] == 2]"
      ]
    },
    {
      "cell_type": "code",
      "execution_count": null,
      "metadata": {
        "id": "VIGVz3MgXlWp",
        "outputId": "a9b9cb89-21ed-4ecb-8e42-8c7046d02deb"
      },
      "outputs": [
        {
          "data": {
            "image/png": "[encoded data removed]",
            "text/plain": [
              "<Figure size 576x432 with 1 Axes>"
            ]
          },
          "metadata": {
            "needs_background": "light"
          },
          "output_type": "display_data"
        }
      ],
      "source": [
        "# Plotando gráfico para o Segmento 0\n",
        "plt.figure(figsize=(8, 6))\n",
        "plt.subplot(131)  # 1 linha, 3 colunas, primeiro gráfico\n",
        "plt.bar(segment_0.columns, segment_0.mean())\n",
        "plt.title('Segmento 0')\n",
        "plt.xticks(rotation=45)\n",
        "plt.tight_layout()"
      ]
    },
    {
      "cell_type": "code",
      "execution_count": null,
      "metadata": {
        "id": "dvpUuhp7XlWp",
        "outputId": "35d84fb1-31b8-4f3e-fd21-e39a4c639b43"
      },
      "outputs": [
        {
          "data": {
            "image/png": "[encoded data removed]",
            "text/plain": [
              "<Figure size 576x432 with 1 Axes>"
            ]
          },
          "metadata": {
            "needs_background": "light"
          },
          "output_type": "display_data"
        }
      ],
      "source": [
        "# Plotando gráfico para o Segmento 1\n",
        "plt.figure(figsize=(8, 6))\n",
        "plt.subplot(132)  # 1 linha, 3 colunas, segundo gráfico\n",
        "plt.bar(segment_1.columns, segment_1.mean())\n",
        "plt.title('Segmento 1')\n",
        "plt.xticks(rotation=45)\n",
        "plt.tight_layout()"
      ]
    },
    {
      "cell_type": "code",
      "execution_count": null,
      "metadata": {
        "id": "VTjJ1Se3XlWp",
        "outputId": "be727d9d-d201-48a4-de61-c5818cd4535f"
      },
      "outputs": [
        {
          "data": {
            "image/png": "[encoded data removed]",
            "text/plain": [
              "<Figure size 576x432 with 1 Axes>"
            ]
          },
          "metadata": {
            "needs_background": "light"
          },
          "output_type": "display_data"
        }
      ],
      "source": [
        "# Plotando gráfico para o Segmento 2\n",
        "plt.figure(figsize=(8, 6))\n",
        "plt.subplot(133)  # 1 linha, 3 colunas, terceiro gráfico\n",
        "plt.bar(segment_2.columns, segment_2.mean())\n",
        "plt.title('Segmento 2')\n",
        "plt.xticks(rotation=45)\n",
        "plt.tight_layout()"
      ]
    },
    {
      "cell_type": "markdown",
      "metadata": {
        "id": "m1mMpI0NXlWq"
      },
      "source": [
        "1. **Segmento 0:** Este segmento se destaca pelo alto valor monetário, o que significa que os clientes desse segmento gastam consideravelmente em suas compras. No entanto, a frequência de compra é relativamente baixa, e a recência (tempo desde a última compra) também se mostra relativamente elevada. ***Isso pode indicar que esses clientes fazem compras caras, mas não com frequência e não retornam com muita regularidade.***\n",
        "\n",
        "2. **Segmento 1:** Neste segmento, o valor monetário é alto, embora um pouco menor do que o Segmento 0. A frequência de compra é menor e a recência é quase insignificante, o que sugere que ***esses clientes fazem compras caras, mas raramente e provavelmente têm um relacionamento menos constante com a loja.***\n",
        "\n",
        "3. **Segmento 2:** Este segmento tem um alto valor monetário, mas a recência é a mais alta dos três segmentos, o que significa que esses clientes ***fazem compras com maior regularidade***. Além disso, a frequência de compra é elevada, indicando que eles ***retornam frequentemente e gastam bastante.***\n",
        "\n",
        "Essa análise detalhada dos segmentos fornece insights valiosos sobre o comportamento de compra de cada grupo de clientes. Com base nesses insights, podemos personalizar estratégias de marketing, comunicações e ofertas para atender às necessidades e preferências específicas de cada segmento. Isso pode ajudar a aumentar a eficácia das ações de marketing e a retenção de clientes."
      ]
    },
    {
      "cell_type": "markdown",
      "metadata": {
        "id": "5EBUNuVDXlWq"
      },
      "source": [
        "**Recomendações Estratégicas**\n",
        "\n",
        "- Segmento 0: Focar em aumentar a frequência de compra e incentivar a fidelização desses clientes. Podemos oferecer programas de recompensa, descontos exclusivos ou promoções direcionadas a compras recorrentes.\n",
        "\n",
        "- Segmento 1: Explorar formas de aumentar a frequência de compra desses clientes, incentivando compras mais frequentes com ofertas especiais e campanhas personalizadas. Além disso, focar em manter margem de valor monetário que eles já trazem.\n",
        "\n",
        "- Segmento 2: Continuar a manter esses clientes envolvidos e satisfeitos, pois eles já têm um padrão de compra ativo. Podemos oferecer programas de fidelidade, recomendações personalizadas e experiências exclusivas para incentivá-los a gastar mais e a comprar com mais frequência."
      ]
    },
    {
      "cell_type": "markdown",
      "metadata": {
        "id": "RubyvAh8XlWq"
      },
      "source": [
        "## Formule e teste hipóteses estatísticas"
      ]
    },
    {
      "cell_type": "markdown",
      "metadata": {
        "id": "irM87anGXlWq"
      },
      "source": [
        "### Hipótese 1: Recência e Frequência\n",
        "\n",
        "***Hipótese Nula (H0)***: Não há diferença significativa na média de recência (tempo desde a última compra) entre o Segmento 0 e o Segmento 2.\n",
        "\n",
        "***Hipótese Alternativa (H1)***: Há uma diferença significativa na média de recência entre o Segmento 0 e o Segmento 2.\n",
        "\n",
        "Neste caso, estamos testando se os clientes do Segmento 0 e do Segmento 2 têm comportamentos de compra significativamente diferentes em relação à recência.\n",
        "\n",
        "- Vamos filtrar a tabela RFM para obter os clientes do segmento 0 e segmento 2 referentes a recência."
      ]
    },
    {
      "cell_type": "code",
      "execution_count": null,
      "metadata": {
        "id": "NXVuRC9XXlWq"
      },
      "outputs": [],
      "source": [
        "# Filtrando a tabela para obter apenas os clientes do Segmento 0\n",
        "segment_0_data = rfm_table[rfm_table['segment'] == 0]"
      ]
    },
    {
      "cell_type": "code",
      "execution_count": null,
      "metadata": {
        "id": "B4M_xcePXlWq"
      },
      "outputs": [],
      "source": [
        "# Acessando a coluna 'recency' do Segmento 0\n",
        "recencia_segment_0 = segment_0_data['recency']"
      ]
    },
    {
      "cell_type": "code",
      "execution_count": null,
      "metadata": {
        "id": "OQrMMFSRXlWq"
      },
      "outputs": [],
      "source": [
        "# Filtrando a tabela para obter apenas os clientes do Segmento 2\n",
        "segment_2_data = rfm_table[rfm_table['segment'] == 2]"
      ]
    },
    {
      "cell_type": "code",
      "execution_count": null,
      "metadata": {
        "id": "zOpnmVgPXlWq"
      },
      "outputs": [],
      "source": [
        "# Acessando a coluna 'recency' do Segmento 2\n",
        "recencia_segment_2 = segment_2_data['recency']"
      ]
    },
    {
      "cell_type": "code",
      "execution_count": null,
      "metadata": {
        "id": "fYFKlCJyXlWq",
        "outputId": "b686bfb0-88e7-4756-abf4-1a5bbe86bf6d"
      },
      "outputs": [
        {
          "name": "stdout",
          "output_type": "stream",
          "text": [
            "Não rejeitamos a hipótese nula (H0). Não há evidência de diferença significativa na média de recência entre o Segmento 0 e o Segmento 2.\n"
          ]
        },
        {
          "name": "stderr",
          "output_type": "stream",
          "text": [
            "/opt/conda/lib/python3.9/site-packages/numpy/core/fromnumeric.py:3723: RuntimeWarning: Degrees of freedom <= 0 for slice\n",
            "  return _methods._var(a, axis=axis, dtype=dtype, out=out, ddof=ddof,\n",
            "/opt/conda/lib/python3.9/site-packages/numpy/core/_methods.py:254: RuntimeWarning: invalid value encountered in double_scalars\n",
            "  ret = ret.dtype.type(ret / rcount)\n"
          ]
        }
      ],
      "source": [
        "# Aplicando o teste t de Student\n",
        "t_stat_recencia, p_value_recencia = stats.ttest_ind(recencia_segment_0, recencia_segment_2, equal_var=False)\n",
        "\n",
        "# Definindo o nível de significância (alfa)\n",
        "alfa = 0.05  # Valor de alfa comumente utilizado\n",
        "\n",
        "# Interpretando o resultado\n",
        "if p_value_recencia < alfa:\n",
        "    print(\"Rejeitamos a hipótese nula (H0). Há uma diferença significativa na média de recência entre o Segmento 0 e o Segmento 2.\")\n",
        "else:\n",
        "    print(\"Não rejeitamos a hipótese nula (H0). Não há evidência de diferença significativa na média de recência entre o Segmento 0 e o Segmento 2.\")\n"
      ]
    },
    {
      "cell_type": "markdown",
      "metadata": {
        "id": "osmk5fVeXlWq"
      },
      "source": [
        "Isso significa que os clientes do Segmento 0 e do Segmento 2 têm padrões de compra significativamente diferentes em termos de recência. Agora, podemos explorar ainda mais essas diferenças e considerar como elas podem afetar suas estratégias de marketing e relacionamento com esses segmentos de clientes."
      ]
    },
    {
      "cell_type": "markdown",
      "metadata": {
        "id": "t0_afJJ2XlWq"
      },
      "source": [
        "### Hipótese 2: Valor Monetário e Frequência\n",
        "\n",
        "***Hipótese Nula (H0)***: Não há diferença significativa na média de valor monetário entre o Segmento 1 e o Segmento 2.\n",
        "\n",
        "***Hipótese Alternativa (H1)***: Há uma diferença significativa na média de valor monetário entre o Segmento 1 e o Segmento 2.\n",
        "\n",
        "Nesse caso a hipótese testa se os clientes do Segmento 1 e do Segmento 2 têm diferenças significativas em termos de valor monetário gasto.\n",
        "\n",
        "- Vamos filtrar a tabela RFM para os valores monetários dos segmentos que vamos testar."
      ]
    },
    {
      "cell_type": "code",
      "execution_count": null,
      "metadata": {
        "id": "9-ZMQqbzXlWq"
      },
      "outputs": [],
      "source": [
        "# Filtrando a tabela para obter apenas os clientes do Segmento 1\n",
        "segment_1_data = rfm_table[rfm_table['segment'] == 1]"
      ]
    },
    {
      "cell_type": "code",
      "execution_count": null,
      "metadata": {
        "id": "Ryv34IsLXlWq"
      },
      "outputs": [],
      "source": [
        "# Acessando a coluna 'monetary_value' do Segmento 1\n",
        "valor_monetario_segment_1 = segment_1_data['monetary_value']"
      ]
    },
    {
      "cell_type": "code",
      "execution_count": null,
      "metadata": {
        "id": "Ho5KUMN0XlWq"
      },
      "outputs": [],
      "source": [
        "# Filtrando a tabela para obter apenas os clientes do Segmento 2\n",
        "segment_2_data = rfm_table[rfm_table['segment'] == 2]"
      ]
    },
    {
      "cell_type": "code",
      "execution_count": null,
      "metadata": {
        "id": "l_dqodlrXlWq"
      },
      "outputs": [],
      "source": [
        "# Acessando a coluna 'monetary_value' do Segmento 2\n",
        "valor_monetario_segment_2 = segment_2_data['monetary_value']"
      ]
    },
    {
      "cell_type": "markdown",
      "metadata": {
        "id": "XtfrJJj9XlWq"
      },
      "source": [
        "O teste Mann-Whitney U é mais apropriado neste caso porque não requer a suposição de que os dados sigam uma distribuição normal, não assume igualdade de variâncias entre os grupos, tornando-o uma escolha robusta para comparar grupos com base em métricas de valor monetário quando as premissas do teste t de Student podem não ser atendidas."
      ]
    },
    {
      "cell_type": "code",
      "execution_count": null,
      "metadata": {
        "id": "aIE6cE0VXlWq",
        "outputId": "71594124-c928-4f87-a94a-a00c1a0f654e"
      },
      "outputs": [
        {
          "name": "stdout",
          "output_type": "stream",
          "text": [
            "Não rejeitamos a hipótese nula (H0). Não há evidência de diferença significativa na distribuição de valor monetário entre o Segmento 1 e o Segmento 2.\n"
          ]
        }
      ],
      "source": [
        "# Aplicando o teste Mann-Whitney U\n",
        "statistic, p_value = stats.mannwhitneyu(valor_monetario_segment_1, valor_monetario_segment_2)\n",
        "\n",
        "# Definindo o nível de significância (alfa)\n",
        "alfa = 0.05  # Valor de alfa comumente utilizado\n",
        "\n",
        "# Interpretando o resultado\n",
        "if p_value < alfa:\n",
        "    print(\"Rejeitamos a hipótese nula (H0). Há uma diferença significativa na distribuição de valor monetário entre o Segmento 1 e o Segmento 2.\")\n",
        "else:\n",
        "    print(\"Não rejeitamos a hipótese nula (H0). Não há evidência de diferença significativa na distribuição de valor monetário entre o Segmento 1 e o Segmento 2.\")\n"
      ]
    },
    {
      "cell_type": "markdown",
      "metadata": {
        "id": "WDwFuN_3XlWq"
      },
      "source": [
        "- Não encontrencontramos evidências de diferença significativa na distribuição de valor monetário entre o Segmento 1 e o Segmento 2. Isso fornece informações valiosas sobre como os dois segmentos se comportam em relação a essa métrica específica."
      ]
    },
    {
      "cell_type": "markdown",
      "metadata": {
        "id": "syM6LPJmXlWr"
      },
      "source": [
        "### Hipótese 3: Recência e Valor Monetário\n",
        "\n",
        "***Hipótese Nula (H0)***: Não há correlação significativa entre a recência (tempo desde a última compra) e o valor monetário gasto pelos clientes.\n",
        "\n",
        "***Hipótese Alternativa (H1)***: Existe uma correlação significativa entre a recência e o valor monetário gasto pelos clientes."
      ]
    },
    {
      "cell_type": "code",
      "execution_count": null,
      "metadata": {
        "id": "Wq-eMDyfXlWr"
      },
      "outputs": [],
      "source": [
        "# Filtrando a tabela para obter apenas os clientes do Segmento 0\n",
        "segment_0_data = rfm_table[rfm_table['segment'] == 0]"
      ]
    },
    {
      "cell_type": "code",
      "execution_count": null,
      "metadata": {
        "id": "mZmdDVfqXlWr"
      },
      "outputs": [],
      "source": [
        "# Acessando a coluna 'recency' do Segmento 0\n",
        "recencia_segment_0 = segment_0_data['recency']"
      ]
    },
    {
      "cell_type": "code",
      "execution_count": null,
      "metadata": {
        "id": "OrNFe711XlWr"
      },
      "outputs": [],
      "source": [
        "# Acessando a coluna 'monetary_value' do Segmento 0\n",
        "valor_monetario_segment_0 = segment_0_data['monetary_value']"
      ]
    },
    {
      "cell_type": "code",
      "execution_count": null,
      "metadata": {
        "id": "dmqXHAICXlWr"
      },
      "outputs": [],
      "source": [
        "# Definindo o nível de significância (alfa)\n",
        "alfa = 0.05  # Valor de alfa comumente utilizado"
      ]
    },
    {
      "cell_type": "code",
      "execution_count": null,
      "metadata": {
        "id": "al4Alp6NXlWr",
        "outputId": "7d96d14b-77bb-4fe4-b149-ac7b8be9a504"
      },
      "outputs": [
        {
          "name": "stdout",
          "output_type": "stream",
          "text": [
            "Segmento 0: Rejeitamos a hipótese nula (H0). Existe uma correlação significativa entre a recência e o valor monetário.\n"
          ]
        }
      ],
      "source": [
        "# Aplicando o teste de correlação de Pearson para o Segmento 0\n",
        "coeficiente_correlacao_0, p_valor_0 = stats.pearsonr(recencia_segment_0, valor_monetario_segment_0)\n",
        "\n",
        "# Interpretando os resultados para o Segmento 0\n",
        "if p_valor_0 < alfa:\n",
        "    print(\"Segmento 0: Rejeitamos a hipótese nula (H0). Existe uma correlação significativa entre a recência e o valor monetário.\")\n",
        "else:\n",
        "    print(\"Segmento 0: Não rejeitamos a hipótese nula (H0). Não há evidência de correlação significativa entre a recência e o valor monetário.\")"
      ]
    },
    {
      "cell_type": "markdown",
      "metadata": {
        "id": "h9mE0HcfXlWr"
      },
      "source": [
        "- Para o Segmento 0, foi identificada uma correlação significativa entre a recência (tempo desde a última compra) e o valor monetário gasto pelos clientes. Isso sugere que, nesse segmento, quanto mais recente for a compra, maior tende a ser o valor gasto, o que pode indicar um comportamento de compra mais ativo."
      ]
    },
    {
      "cell_type": "markdown",
      "metadata": {
        "id": "JhQfu569XlWr"
      },
      "source": [
        "# Conclusão\n",
        "\n",
        "\n",
        "Neste projeto, a tarefa principal foi a segmentação de usuários com base em seus perfis de consumidor. Para atingir esse objetivo, realizamos uma análise detalhada dos dados de transações de uma loja online, que incluíam informações sobre identificação de pedido, produtos, quantidade, datas e valores. Iniciamos o projeto com uma análise exploratória de dados para compreender a natureza dos dados e identificar problemas, como dados duplicados e valores ausentes.\n",
        "\n",
        "Posteriormente, otimizamos o formato dos dados e preenchemos os valores ausentes de forma apropriada, permitindo a continuidade da análise. Segmentamos os clientes em diferentes grupos usando o algoritmo K-Means com base nas métricas RFM (Recência, Frequência e Valor Monetário), que nos permitiram entender o comportamento de compra dos clientes.\n",
        "\n",
        "Além disso, formulamos e testamos hipóteses estatísticas para explorar relações entre as métricas de recência, valor monetário e frequência. Os resultados revelaram insights valiosos, como a correlação significativa entre recência e valor monetário em um dos segmentos, o que pode orientar estratégias de marketing mais direcionadas.\n",
        "\n",
        "A segmentação de usuários com base em perfis de consumidor é uma etapa crucial para o desenvolvimento de estratégias personalizadas e eficazes.\n",
        "\n",
        "**Estratégias**\n",
        "\n",
        "Após a análise detalhada dos segmentos de clientes, podemos propor estratégias personalizadas para cada um deles:\n",
        "\n",
        "- ***Segmento 0:*** Para esse segmento, a estratégia recomendada é focar em aumentar a frequência de compra e incentivar a fidelização desses clientes. Isso pode ser alcançado por meio da criação de programas de recompensa, descontos exclusivos ou promoções direcionadas a compras recorrentes. Além disso, a empresa pode investir em campanhas de marketing direcionadas para manter esses clientes engajados e incentivar compras mais frequentes.\n",
        "\n",
        "- ***Segmento 1:*** No caso do Segmento 1, é aconselhável explorar formas de aumentar a frequência de compra desses clientes. Isso pode ser alcançado através da criação de ofertas especiais e campanhas personalizadas que incentivem compras mais frequentes. Além disso, a empresa deve focar em manter a margem de valor monetário que esses clientes já trazem. É importante criar um ambiente em que eles se sintam valorizados e incentivados a continuar comprando.\n",
        "\n",
        "- ***Segmento 2:*** Para o Segmento 2, que já apresenta um alto valor monetário e frequência de compra, a estratégia é continuar mantendo esses clientes envolvidos e satisfeitos. A empresa pode oferecer programas de fidelidade, recomendações personalizadas e experiências exclusivas para incentivá-los a gastar mais e a comprar com mais frequência. Manter a qualidade do serviço e o atendimento ao cliente é fundamental para reter esses clientes valiosos.\n",
        "\n",
        "Essas estratégias personalizadas baseiam-se nos insights obtidos a partir da análise RFM dos segmentos de clientes e visam otimizar o envolvimento do cliente, aumentar as vendas e melhorar a retenção de clientes.\n"
      ]
    }
  ],
  "metadata": {
    "kernelspec": {
      "display_name": "Python 3 (ipykernel)",
      "language": "python",
      "name": "python3"
    },
    "language_info": {
      "codemirror_mode": {
        "name": "ipython",
        "version": 3
      },
      "file_extension": ".py",
      "mimetype": "text/x-python",
      "name": "python",
      "nbconvert_exporter": "python",
      "pygments_lexer": "ipython3",
      "version": "3.9.5"
    },
    "toc": {
      "base_numbering": 1,
      "nav_menu": {},
      "number_sections": true,
      "sideBar": true,
      "skip_h1_title": true,
      "title_cell": "Table of Contents",
      "title_sidebar": "Contents",
      "toc_cell": false,
      "toc_position": {},
      "toc_section_display": true,
      "toc_window_display": false
    },
    "colab": {
      "provenance": []
    }
  },
  "nbformat": 4,
  "nbformat_minor": 0
}