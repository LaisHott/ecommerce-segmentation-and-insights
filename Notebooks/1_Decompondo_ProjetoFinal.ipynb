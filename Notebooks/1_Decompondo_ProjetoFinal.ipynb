{
  "cells": [
    {
      "cell_type": "markdown",
      "metadata": {
        "id": "view-in-github",
        "colab_type": "text"
      },
      "source": [
        "<a href=\"https://colab.research.google.com/github/LaisHott/ecommerce-segmentation-and-insights/blob/main/1_Decompondo_ProjetoFinal.ipynb\" target=\"_parent\"><img src=\"https://colab.research.google.com/assets/colab-badge.svg\" alt=\"Open In Colab\"/></a>"
      ]
    },
    {
      "cell_type": "markdown",
      "metadata": {
        "id": "Y8yc2gkS6y-W"
      },
      "source": [
        "# Decomposição do projeto E-commerce"
      ]
    },
    {
      "cell_type": "markdown",
      "metadata": {
        "id": "uFJmIO2E6y-a"
      },
      "source": [
        "## Objetivo do Projeto\n",
        "\n",
        "O objetivo deste projeto é segmentar os usuários da Everything Plus com base em seus perfis de consumo, usando o histórico de compras disponível no conjunto de dados fornecido. A segmentação permitirá desenvolver ofertas mais personalizadas e estratégias de marketing mais eficazes para diferentes grupos de clientes.\n",
        "\n",
        "**Queremos alcançar as seguintes metas:**\n",
        "\n",
        "- Segmentação de Clientes: O objetivo principal é dividir os clientes em grupos homogêneos com base em seu comportamento de compra. Isso nos ajudará a entender melhor nossos clientes e a criar estratégias de marketing mais direcionadas.\n",
        "\n",
        "- Personalização de Ofertas: Com a segmentação dos clientes, poderemos personalizar nossas ofertas, promoções e recomendações de produtos. Isso aumentará a relevância das ofertas para cada grupo de clientes.\n",
        "\n",
        "- Compreensão do Comportamento de Compra: Buscamos entender como os clientes se comportam em termos de frequência de compra, categorias de produtos preferidas e valores gastos. Isso nos permitirá adaptar nossas estratégias de estoque e marketing.\n",
        "\n",
        "**As seguintes partes interessadas se beneficiarão diretamente deste projeto:**\n",
        "- Equipe de Marketing: A equipe de marketing utilizará as informações da segmentação para criar campanhas personalizadas que atendam a diferentes segmentos de clientes.\n",
        "\n",
        "- Equipe de Vendas: Os vendedores poderão usar os insights gerados para adaptar suas abordagens de vendas e sugerir produtos relevantes com base nos perfis dos clientes.\n",
        "\n",
        "- Equipe de Atendimento ao Cliente: A equipe de atendimento ao cliente poderá oferecer um serviço mais personalizado com base nas informações de compra e preferências dos clientes."
      ]
    },
    {
      "cell_type": "markdown",
      "metadata": {
        "id": "oMrABQFn6y-b"
      },
      "source": [
        "# Etapas do Projeto"
      ]
    },
    {
      "cell_type": "markdown",
      "metadata": {
        "id": "AVwobI756y-b"
      },
      "source": [
        "## Pré-processamento\n",
        "- Identificar e lidar com valores ausentes e/ou duplicados, se houver.\n",
        "- Corrigir (caso necessário) os nomes das colunas\n",
        "- Remover duplicatas\n",
        "- Converter tipos de dados\n",
        "- Substituir os valores ausentes."
      ]
    },
    {
      "cell_type": "markdown",
      "metadata": {
        "id": "6tBYtj5_6y-b"
      },
      "source": [
        "## Análise Exploratória de Dados\n",
        "\n",
        "- Importar o conjunto de dados ecommerce_dataset_us.csv.\n",
        "- Explorar o conjunto de dados para entender a estrutura e as características.\n",
        "- Realizar estatísticas descritivas para entender as distribuições das variáveis.\n",
        "- Identificar e lidar com possíveis outliers, se necessário.\n",
        "- Visualizar os dados para obter insights iniciais."
      ]
    },
    {
      "cell_type": "markdown",
      "metadata": {
        "id": "RPb9UXcj6y-b"
      },
      "source": [
        "## Segmentação de Usuários\n",
        "\n",
        "Desenvolver estratégias de segmentação com base no histórico de compras.\n",
        "\n",
        "- Segmentação com base no valor total gasto por cliente.\n",
        "- Segmentação com base na frequência de compras.\n",
        "- Segmentação com base na variedade de produtos comprados.\n",
        "- Segmentação com base em categorias de produtos.\n",
        "- Implementar as estratégias de segmentação e criar grupos de clientes.\n",
        "- Atribuir rótulos ou categorias aos clientes com base na segmentação."
      ]
    },
    {
      "cell_type": "markdown",
      "metadata": {
        "id": "ujLFic8W6y-c"
      },
      "source": [
        "## Formulação e Teste de Hipóteses Estatísticas\n",
        "\n",
        "- Formular hipóteses que possam ser testadas com os dados.\n",
        "- Realizar testes estatísticos para verificar as hipóteses. Vamos testar por exemplo, se há diferenças significativas entre os segmentos criados.\n",
        "\n",
        "### Hipóteses\n",
        "1. ***Hipótese 1:*** Clientes de alto valor gastam mais frequentemente - Essa hipótese sugere que os clientes que gastam mais em cada compra também fazem compras mais frequentes.\n",
        "    \n",
        "2. ***Hipótese 2:*** Clientes que compram produtos de diferentes categorias têm maior probabilidade de serem compradores regulares - Esta hipótese pressupõe que os clientes que compram uma variedade de produtos de diferentes categorias têm maior probabilidade de serem compradores regulares.\n",
        "\n",
        "3. ***Hipótese 3:*** Clientes que compram produtos em promoção têm maior probabilidade de fazer compras frequentes - Esta hipótese sugere que os clientes que compram produtos com desconto ou em promoção têm maior probabilidade de fazer compras mais frequentes.\n",
        "\n",
        "4. ***Hipótese 4:*** A frequência de compra varia com base na categoria de produtos mais comprada - Esta hipótese sugere que a categoria de produtos mais comprada por um cliente influenciará a frequência de suas compras."
      ]
    },
    {
      "cell_type": "markdown",
      "metadata": {
        "id": "M-2DWIpq6y-c"
      },
      "source": [
        "### Plano de Ação para Testar Hipóteses\n",
        "\n",
        "Podemos tomar como exemplo a hipótese 1\n",
        "\n",
        "Hipótese 1: Clientes de alto valor gastam mais frequentemente.\n",
        "\n",
        "Plano de Ação:\n",
        "\n",
        "- Calcular o valor médio gasto por compra para cada cliente com base nos dados de histórico de transações.\n",
        "- Calcular a frequência média de compra para cada cliente, considerando o intervalo entre as compras.\n",
        "- Criar um gráfico de dispersão para visualizar a relação entre o valor médio gasto e a frequência média de compra.\n",
        "- Realizar uma análise de correlação para determinar se há uma correlação significativa entre o valor gasto e a frequência de compra."
      ]
    },
    {
      "cell_type": "markdown",
      "metadata": {
        "id": "XwQ5BAx-6y-c"
      },
      "source": [
        "## Conclusões e Apresentação\n",
        "\n",
        "- Preparar uma apresentação das conclusões do projeto.\n",
        "- Incluir gráficos, tabelas e visualizações que destaquem os principais insights obtidos.\n",
        "- Resumir as descobertas em relação à segmentação de usuários.\n",
        "- Destacar quaisquer insights sobre o comportamento de compra dos diferentes segmentos.\n",
        "- Incluir recomendações para estratégias de marketing com base na segmentação."
      ]
    },
    {
      "cell_type": "markdown",
      "metadata": {
        "id": "uE51kUnW6y-c"
      },
      "source": [
        "# Fontes de Referência\n",
        "\n",
        "- Documentação das bibliotecas usadas\n",
        "- Artigo sobre Segmentação de Clientes: Forneceram insights sobre estratégias de segmentação de clientes.\n",
        "- Curso Online de Estatística: Utilizado para compreender os testes estatísticos.\n",
        "- Materiais estudados durante bootcamp do tripleten sobre Análise Exploratória de Dados: Forneceu diretrizes sobre como realizar uma análise exploratória eficaz.\n"
      ]
    },
    {
      "cell_type": "markdown",
      "metadata": {
        "id": "YLD4HFH56y-c"
      },
      "source": [
        "## Dashboards\n",
        "\n",
        "Para visualizar os dados e obter insights de forma mais eficaz, iremos criar um dashboard interativo. Oferecendo informações relevantes relacionadas às compras e ao comportamento dos clientes.\n",
        "\n",
        "\n",
        "- Número de Compras por Dia:\n",
        "\n",
        "    Usando um gráfico de barras que exiba o número de compras realizadas em cada dia.\n",
        "    Adicionando um indicador para mostrar o número total de clientes distintos para cada dia.\n",
        "    Implementar um filtro interativo que permita ao usuário escolher a data de compra desejada para análise.\n",
        "    \n",
        "    \n",
        "- Total de Compras por Dia:\n",
        "    \n",
        "    Criar um gráfico de linha ou gráfico de barras empilhadas para exibir o valor total de compras realizadas em cada dia.\n",
        "    Traçar um histograma para visualizar a distribuição dos totais de compras individuais.\n",
        "    Adicionar um filtro de data de compra semelhante ao sugerido no primeiro dashboard.\n",
        "    \n",
        "O dashboard ajuda a acompanhar o desempenho das vendas, identificar tendências de compra e entender como os clientes estão distribuídos ao longo do tempo. Eles também oferecem a capacidade de filtrar os dados com base nas datas de compra, o que pode ser útil para análises mais específicas."
      ]
    },
    {
      "cell_type": "markdown",
      "metadata": {
        "id": "oa3NrZ8B6y-d"
      },
      "source": [
        "**Após concluir todas as etapas do projeto, a apresentação final será preparada e disponibilizada em formato PDF, com um link no corpo do projeto principal para acesso.**"
      ]
    },
    {
      "cell_type": "code",
      "execution_count": null,
      "metadata": {
        "id": "n3afF2fA6y-d"
      },
      "outputs": [],
      "source": []
    }
  ],
  "metadata": {
    "kernelspec": {
      "display_name": "Python 3 (ipykernel)",
      "language": "python",
      "name": "python3"
    },
    "language_info": {
      "codemirror_mode": {
        "name": "ipython",
        "version": 3
      },
      "file_extension": ".py",
      "mimetype": "text/x-python",
      "name": "python",
      "nbconvert_exporter": "python",
      "pygments_lexer": "ipython3",
      "version": "3.9.5"
    },
    "toc": {
      "base_numbering": 1,
      "nav_menu": {},
      "number_sections": true,
      "sideBar": true,
      "skip_h1_title": true,
      "title_cell": "Table of Contents",
      "title_sidebar": "Contents",
      "toc_cell": false,
      "toc_position": {},
      "toc_section_display": true,
      "toc_window_display": false
    },
    "colab": {
      "provenance": [],
      "include_colab_link": true
    }
  },
  "nbformat": 4,
  "nbformat_minor": 0
}