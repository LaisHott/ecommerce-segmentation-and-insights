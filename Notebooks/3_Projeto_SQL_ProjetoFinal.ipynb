{
  "cells": [
    {
      "cell_type": "markdown",
      "metadata": {
        "id": "EzNF5YaOXAd5"
      },
      "source": [
        "# Projeto SQL\n",
        "\n",
        "Neste projeto de análise de dados em SQL, aproveitamos o ressurgimento do interesse pela leitura durante a pandemia. Startups veem uma oportunidade nesse cenário e buscam desenvolver aplicativos para entusiastas da leitura. Recebemos um banco de dados concorrente que contém informações valiosas sobre livros, autores, editoras e avaliações. Nosso objetivo é criar uma proposta inovadora para um novo produto que atenda às necessidades dos leitores.\n",
        "\n",
        "***Objetivos***\n",
        "Neste projeto, estabelecemos metas claras para explorar nosso banco de dados e desenvolver um novo aplicativo direcionado aos amantes de livros. Essas metas incluem identificar as preferências de leitura dos usuários, desenvolver um sistema de recomendação personalizada, destacar autores e editoras populares, analisar tendências de leitura, aprimorar a experiência do usuário com base em feedbacks, classificar livros populares, reconhecer clientes engajados, expandir o catálogo de livros e monitorar a satisfação do cliente. Essas metas nos guiarão na criação de um aplicativo que atenda às necessidades dos leitores, proporcionando uma experiência de leitura excepcional."
      ]
    },
    {
      "cell_type": "markdown",
      "metadata": {
        "id": "YPGWzEYFXAd6"
      },
      "source": [
        "# Inicializando\n",
        "\n",
        "Vamos inciar carregando as bibliotecas necessárias para nossa análise e consulta."
      ]
    },
    {
      "cell_type": "code",
      "execution_count": null,
      "metadata": {
        "id": "57Bn32y-XAd6"
      },
      "outputs": [],
      "source": [
        "# importar bibliotecas\n",
        "import pandas as pd\n",
        "from sqlalchemy import create_engine"
      ]
    },
    {
      "cell_type": "markdown",
      "metadata": {
        "id": "oiC7tM_zXAd7"
      },
      "source": [
        "- Vamos configurar a conexão com o banco de dados PostgreSQL no arquivo .ipynb usando a biblioteca Pandas e SQLAlchemy. Em seguida poderemos executar consultas SQL para interagir com o banco de dados. A conexão será armazenada na variável **`engine`**."
      ]
    },
    {
      "cell_type": "code",
      "execution_count": null,
      "metadata": {
        "id": "PrcZ7XgdXAd7"
      },
      "outputs": [],
      "source": [
        "db_config = {'user': 'practicum_student',         # nome de usuário\n",
        "             'pwd': 's65BlTKV3faNIGhmvJVzOqhs', # senha\n",
        "             'host': 'rc1b-wcoijxj3yxfsf3fs.mdb.yandexcloud.net',\n",
        "             'port': 6432,              # porta de conexão\n",
        "             'db': 'data-analyst-final-project-db'}          # o nome do banco de dados\n"
      ]
    },
    {
      "cell_type": "code",
      "execution_count": null,
      "metadata": {
        "id": "a6byyTOqXAd8"
      },
      "outputs": [],
      "source": [
        "connection_string = 'postgresql://{}:{}@{}:{}/{}'.format(db_config['user'],\n",
        "                                                                     db_config['pwd'],\n",
        "                                                                       db_config['host'],\n",
        "                                                                       db_config['port'],\n",
        "                                                                       db_config['db'])"
      ]
    },
    {
      "cell_type": "code",
      "execution_count": null,
      "metadata": {
        "id": "P3A83A28XAd8"
      },
      "outputs": [],
      "source": [
        "engine = create_engine(connection_string, connect_args={'sslmode':'require'})"
      ]
    },
    {
      "cell_type": "markdown",
      "metadata": {
        "id": "GK-Z1Lk8XAd8"
      },
      "source": [
        "# Criando as Tabelas\n",
        "\n",
        "Vamos elaborar um conjunto de instruções SQL que tem como objetivo a criação de tabelas em um banco de dados, cada uma representando uma entidade distinta. Cada tabela é definida com sua própria estrutura, incluindo as colunas e restrições necessárias para garantir a integridade dos dados e relacionamentos entre as entidades. As instruções definem os tipos de dados apropriados para cada coluna, criando um ambiente organizado para armazenar informações sobre autores, editoras, livros, classificações e revisões."
      ]
    },
    {
      "cell_type": "code",
      "execution_count": null,
      "metadata": {
        "id": "NfwjhMFDXAd8"
      },
      "outputs": [],
      "source": [
        "# Criação das tabelas\n",
        "create_table_query = \"\"\"\n",
        "CREATE TABLE IF NOT EXISTS authors (\n",
        "    author_id INT,\n",
        "    author VARCHAR(255),\n",
        "    PRIMARY KEY (author_id)\n",
        ");\n",
        "\n",
        "CREATE TABLE IF NOT EXISTS publishers (\n",
        "    publisher_id INT,\n",
        "    publisher VARCHAR(255),\n",
        "    PRIMARY KEY (publisher_id)\n",
        ");\n",
        "\n",
        "CREATE TABLE IF NOT EXISTS books (\n",
        "    book_id INT,\n",
        "    author_id INT,\n",
        "    title VARCHAR(255),\n",
        "    num_pages INT,\n",
        "    publication_date DATETIME, -- Corrigido para DATETIME\n",
        "    publisher_id INT,\n",
        "    PRIMARY KEY (book_id),\n",
        "    FOREIGN KEY (author_id) REFERENCES authors(author_id),\n",
        "    FOREIGN KEY (publisher_id) REFERENCES publishers(publisher_id)\n",
        ");\n",
        "\n",
        "CREATE TABLE IF NOT EXISTS ratings (\n",
        "    rating_id INT,\n",
        "    book_id INT,\n",
        "    username VARCHAR(255),\n",
        "    rating INT,\n",
        "    PRIMARY KEY (rating_id),\n",
        "    FOREIGN KEY (book_id) REFERENCES books(book_id)\n",
        ");\n",
        "\n",
        "CREATE TABLE IF NOT EXISTS reviews (\n",
        "    review_id INT,\n",
        "    book_id INT,\n",
        "    username VARCHAR(255),\n",
        "    text VARCHAR(255), -- Corrigido para VARCHAR\n",
        "    PRIMARY KEY (review_id),\n",
        "    FOREIGN KEY (book_id) REFERENCES books(book_id)\n",
        ");\n",
        "\"\"\"\n"
      ]
    },
    {
      "cell_type": "markdown",
      "metadata": {
        "id": "6N4Apk00XAd8"
      },
      "source": [
        "***Visualizando as tabelas criadas***"
      ]
    },
    {
      "cell_type": "code",
      "execution_count": null,
      "metadata": {
        "scrolled": true,
        "id": "97p-WpS9XAd8",
        "outputId": "1cbce764-a665-4c53-c42b-fbf43c3c2642"
      },
      "outputs": [
        {
          "name": "stdout",
          "output_type": "stream",
          "text": [
            "Tabela 'authors':\n"
          ]
        },
        {
          "data": {
            "text/html": [
              "<div>\n",
              "<style scoped>\n",
              "    .dataframe tbody tr th:only-of-type {\n",
              "        vertical-align: middle;\n",
              "    }\n",
              "\n",
              "    .dataframe tbody tr th {\n",
              "        vertical-align: top;\n",
              "    }\n",
              "\n",
              "    .dataframe thead th {\n",
              "        text-align: right;\n",
              "    }\n",
              "</style>\n",
              "<table border=\"1\" class=\"dataframe\">\n",
              "  <thead>\n",
              "    <tr style=\"text-align: right;\">\n",
              "      <th></th>\n",
              "      <th>author_id</th>\n",
              "      <th>author</th>\n",
              "    </tr>\n",
              "  </thead>\n",
              "  <tbody>\n",
              "    <tr>\n",
              "      <th>0</th>\n",
              "      <td>1</td>\n",
              "      <td>A.S. Byatt</td>\n",
              "    </tr>\n",
              "    <tr>\n",
              "      <th>1</th>\n",
              "      <td>2</td>\n",
              "      <td>Aesop/Laura Harris/Laura Gibbs</td>\n",
              "    </tr>\n",
              "    <tr>\n",
              "      <th>2</th>\n",
              "      <td>3</td>\n",
              "      <td>Agatha Christie</td>\n",
              "    </tr>\n",
              "    <tr>\n",
              "      <th>3</th>\n",
              "      <td>4</td>\n",
              "      <td>Alan Brennert</td>\n",
              "    </tr>\n",
              "    <tr>\n",
              "      <th>4</th>\n",
              "      <td>5</td>\n",
              "      <td>Alan Moore/David   Lloyd</td>\n",
              "    </tr>\n",
              "  </tbody>\n",
              "</table>\n",
              "</div>"
            ],
            "text/plain": [
              "   author_id                          author\n",
              "0          1                      A.S. Byatt\n",
              "1          2  Aesop/Laura Harris/Laura Gibbs\n",
              "2          3                 Agatha Christie\n",
              "3          4                   Alan Brennert\n",
              "4          5        Alan Moore/David   Lloyd"
            ]
          },
          "execution_count": 44,
          "metadata": {},
          "output_type": "execute_result"
        }
      ],
      "source": [
        "# Imprimindo as primeiras linhas da tabela \"authors\"\n",
        "query_authors = \"SELECT * FROM authors LIMIT 5\"\n",
        "df_authors = pd.io.sql.read_sql(query_authors, con=engine)\n",
        "print(\"Tabela 'authors':\")\n",
        "df_authors"
      ]
    },
    {
      "cell_type": "code",
      "execution_count": null,
      "metadata": {
        "id": "1g-Y2zNLXAd9",
        "outputId": "24bed0c6-104f-4d39-e658-4cd66ed23c62"
      },
      "outputs": [
        {
          "name": "stdout",
          "output_type": "stream",
          "text": [
            "Tabela 'publishers':\n"
          ]
        },
        {
          "data": {
            "text/html": [
              "<div>\n",
              "<style scoped>\n",
              "    .dataframe tbody tr th:only-of-type {\n",
              "        vertical-align: middle;\n",
              "    }\n",
              "\n",
              "    .dataframe tbody tr th {\n",
              "        vertical-align: top;\n",
              "    }\n",
              "\n",
              "    .dataframe thead th {\n",
              "        text-align: right;\n",
              "    }\n",
              "</style>\n",
              "<table border=\"1\" class=\"dataframe\">\n",
              "  <thead>\n",
              "    <tr style=\"text-align: right;\">\n",
              "      <th></th>\n",
              "      <th>publisher_id</th>\n",
              "      <th>publisher</th>\n",
              "    </tr>\n",
              "  </thead>\n",
              "  <tbody>\n",
              "    <tr>\n",
              "      <th>0</th>\n",
              "      <td>1</td>\n",
              "      <td>Ace</td>\n",
              "    </tr>\n",
              "    <tr>\n",
              "      <th>1</th>\n",
              "      <td>2</td>\n",
              "      <td>Ace Book</td>\n",
              "    </tr>\n",
              "    <tr>\n",
              "      <th>2</th>\n",
              "      <td>3</td>\n",
              "      <td>Ace Books</td>\n",
              "    </tr>\n",
              "    <tr>\n",
              "      <th>3</th>\n",
              "      <td>4</td>\n",
              "      <td>Ace Hardcover</td>\n",
              "    </tr>\n",
              "    <tr>\n",
              "      <th>4</th>\n",
              "      <td>5</td>\n",
              "      <td>Addison Wesley Publishing Company</td>\n",
              "    </tr>\n",
              "  </tbody>\n",
              "</table>\n",
              "</div>"
            ],
            "text/plain": [
              "   publisher_id                          publisher\n",
              "0             1                                Ace\n",
              "1             2                           Ace Book\n",
              "2             3                          Ace Books\n",
              "3             4                      Ace Hardcover\n",
              "4             5  Addison Wesley Publishing Company"
            ]
          },
          "execution_count": 45,
          "metadata": {},
          "output_type": "execute_result"
        }
      ],
      "source": [
        "# Imprimindo as primeiras linhas da tabela \"publishers\"\n",
        "query_publishers = \"SELECT * FROM publishers LIMIT 5\"\n",
        "df_publishers = pd.io.sql.read_sql(query_publishers, con=engine)\n",
        "print(\"Tabela 'publishers':\")\n",
        "df_publishers"
      ]
    },
    {
      "cell_type": "code",
      "execution_count": null,
      "metadata": {
        "id": "-5AZMDqGXAd9",
        "outputId": "29125eaf-2a65-48d1-a14f-7e771eebc260"
      },
      "outputs": [
        {
          "name": "stdout",
          "output_type": "stream",
          "text": [
            "Tabela 'ratings':\n"
          ]
        },
        {
          "data": {
            "text/html": [
              "<div>\n",
              "<style scoped>\n",
              "    .dataframe tbody tr th:only-of-type {\n",
              "        vertical-align: middle;\n",
              "    }\n",
              "\n",
              "    .dataframe tbody tr th {\n",
              "        vertical-align: top;\n",
              "    }\n",
              "\n",
              "    .dataframe thead th {\n",
              "        text-align: right;\n",
              "    }\n",
              "</style>\n",
              "<table border=\"1\" class=\"dataframe\">\n",
              "  <thead>\n",
              "    <tr style=\"text-align: right;\">\n",
              "      <th></th>\n",
              "      <th>rating_id</th>\n",
              "      <th>book_id</th>\n",
              "      <th>username</th>\n",
              "      <th>rating</th>\n",
              "    </tr>\n",
              "  </thead>\n",
              "  <tbody>\n",
              "    <tr>\n",
              "      <th>0</th>\n",
              "      <td>1</td>\n",
              "      <td>1</td>\n",
              "      <td>ryanfranco</td>\n",
              "      <td>4</td>\n",
              "    </tr>\n",
              "    <tr>\n",
              "      <th>1</th>\n",
              "      <td>2</td>\n",
              "      <td>1</td>\n",
              "      <td>grantpatricia</td>\n",
              "      <td>2</td>\n",
              "    </tr>\n",
              "    <tr>\n",
              "      <th>2</th>\n",
              "      <td>3</td>\n",
              "      <td>1</td>\n",
              "      <td>brandtandrea</td>\n",
              "      <td>5</td>\n",
              "    </tr>\n",
              "    <tr>\n",
              "      <th>3</th>\n",
              "      <td>4</td>\n",
              "      <td>2</td>\n",
              "      <td>lorichen</td>\n",
              "      <td>3</td>\n",
              "    </tr>\n",
              "    <tr>\n",
              "      <th>4</th>\n",
              "      <td>5</td>\n",
              "      <td>2</td>\n",
              "      <td>mariokeller</td>\n",
              "      <td>2</td>\n",
              "    </tr>\n",
              "  </tbody>\n",
              "</table>\n",
              "</div>"
            ],
            "text/plain": [
              "   rating_id  book_id       username  rating\n",
              "0          1        1     ryanfranco       4\n",
              "1          2        1  grantpatricia       2\n",
              "2          3        1   brandtandrea       5\n",
              "3          4        2       lorichen       3\n",
              "4          5        2    mariokeller       2"
            ]
          },
          "execution_count": 46,
          "metadata": {},
          "output_type": "execute_result"
        }
      ],
      "source": [
        "# Imprimindo as primeiras linhas da tabela \"ratings\"\n",
        "query_ratings = \"SELECT * FROM ratings LIMIT 5\"\n",
        "df_ratings = pd.io.sql.read_sql(query_ratings, con=engine)\n",
        "print(\"Tabela 'ratings':\")\n",
        "df_ratings"
      ]
    },
    {
      "cell_type": "code",
      "execution_count": null,
      "metadata": {
        "scrolled": false,
        "id": "7RMAfYGmXAd9",
        "outputId": "4bc0d503-cd42-4053-b6f2-e48850170c90"
      },
      "outputs": [
        {
          "name": "stdout",
          "output_type": "stream",
          "text": [
            "Tabela 'ratings':\n"
          ]
        },
        {
          "data": {
            "text/html": [
              "<div>\n",
              "<style scoped>\n",
              "    .dataframe tbody tr th:only-of-type {\n",
              "        vertical-align: middle;\n",
              "    }\n",
              "\n",
              "    .dataframe tbody tr th {\n",
              "        vertical-align: top;\n",
              "    }\n",
              "\n",
              "    .dataframe thead th {\n",
              "        text-align: right;\n",
              "    }\n",
              "</style>\n",
              "<table border=\"1\" class=\"dataframe\">\n",
              "  <thead>\n",
              "    <tr style=\"text-align: right;\">\n",
              "      <th></th>\n",
              "      <th>review_id</th>\n",
              "      <th>book_id</th>\n",
              "      <th>username</th>\n",
              "      <th>text</th>\n",
              "    </tr>\n",
              "  </thead>\n",
              "  <tbody>\n",
              "    <tr>\n",
              "      <th>0</th>\n",
              "      <td>1</td>\n",
              "      <td>1</td>\n",
              "      <td>brandtandrea</td>\n",
              "      <td>Mention society tell send professor analysis. ...</td>\n",
              "    </tr>\n",
              "    <tr>\n",
              "      <th>1</th>\n",
              "      <td>2</td>\n",
              "      <td>1</td>\n",
              "      <td>ryanfranco</td>\n",
              "      <td>Foot glass pretty audience hit themselves. Amo...</td>\n",
              "    </tr>\n",
              "    <tr>\n",
              "      <th>2</th>\n",
              "      <td>3</td>\n",
              "      <td>2</td>\n",
              "      <td>lorichen</td>\n",
              "      <td>Listen treat keep worry. Miss husband tax but ...</td>\n",
              "    </tr>\n",
              "    <tr>\n",
              "      <th>3</th>\n",
              "      <td>4</td>\n",
              "      <td>3</td>\n",
              "      <td>johnsonamanda</td>\n",
              "      <td>Finally month interesting blue could nature cu...</td>\n",
              "    </tr>\n",
              "    <tr>\n",
              "      <th>4</th>\n",
              "      <td>5</td>\n",
              "      <td>3</td>\n",
              "      <td>scotttamara</td>\n",
              "      <td>Nation purpose heavy give wait song will. List...</td>\n",
              "    </tr>\n",
              "  </tbody>\n",
              "</table>\n",
              "</div>"
            ],
            "text/plain": [
              "   review_id  book_id       username  \\\n",
              "0          1        1   brandtandrea   \n",
              "1          2        1     ryanfranco   \n",
              "2          3        2       lorichen   \n",
              "3          4        3  johnsonamanda   \n",
              "4          5        3    scotttamara   \n",
              "\n",
              "                                                text  \n",
              "0  Mention society tell send professor analysis. ...  \n",
              "1  Foot glass pretty audience hit themselves. Amo...  \n",
              "2  Listen treat keep worry. Miss husband tax but ...  \n",
              "3  Finally month interesting blue could nature cu...  \n",
              "4  Nation purpose heavy give wait song will. List...  "
            ]
          },
          "execution_count": 47,
          "metadata": {},
          "output_type": "execute_result"
        }
      ],
      "source": [
        "# Imprimindo as primeiras linhas da tabela \"reviews\"\n",
        "query_reviews = \"SELECT * FROM reviews LIMIT 5\"\n",
        "df_reviews = pd.io.sql.read_sql(query_reviews, con=engine)\n",
        "print(\"Tabela 'ratings':\")\n",
        "df_reviews"
      ]
    },
    {
      "cell_type": "code",
      "execution_count": null,
      "metadata": {
        "scrolled": true,
        "id": "SZh2wZG-XAd-",
        "outputId": "b1dddaba-ea44-4c1e-a920-9ebc3b1cd465"
      },
      "outputs": [
        {
          "data": {
            "text/plain": [
              "author_id    0\n",
              "author       0\n",
              "dtype: int64"
            ]
          },
          "execution_count": 48,
          "metadata": {},
          "output_type": "execute_result"
        }
      ],
      "source": [
        "# Analisando se há dados ausentes ou duplicados\n",
        "df_authors.isna().sum()"
      ]
    },
    {
      "cell_type": "code",
      "execution_count": null,
      "metadata": {
        "id": "gW2U3RZfXAd-",
        "outputId": "8c24a189-49af-4028-8887-b5c8434f96b7"
      },
      "outputs": [
        {
          "data": {
            "text/plain": [
              "0"
            ]
          },
          "execution_count": 49,
          "metadata": {},
          "output_type": "execute_result"
        }
      ],
      "source": [
        "df_authors.duplicated().sum()"
      ]
    },
    {
      "cell_type": "markdown",
      "metadata": {
        "id": "CY69e2wmXAd-"
      },
      "source": [
        "- Verificamos que não há dados ausentes ou duplicados assegurando as análises e consultas que serão feitas abaixo."
      ]
    },
    {
      "cell_type": "markdown",
      "metadata": {
        "id": "vSM4DXiHXAd-"
      },
      "source": [
        "## Encontre o número de livros lançados depois de 1 de janeiro de 2000.\n",
        "\n",
        "Vamos fazer uma consulta SQL para encontrar os livros lançados após 1 de Janeiro de 2000, executar a consulta e armazenar em uma variável."
      ]
    },
    {
      "cell_type": "code",
      "execution_count": null,
      "metadata": {
        "id": "mtF4-Zs-XAd-"
      },
      "outputs": [],
      "source": [
        "# Consulta SQL para encontrar a tarefa\n",
        "query_books_after_2000 = \"\"\"\n",
        "SELECT COUNT(*) AS numero_de_livros_lancados\n",
        "FROM books\n",
        "WHERE publication_date > '2000-01-01';\n",
        "\"\"\""
      ]
    },
    {
      "cell_type": "code",
      "execution_count": null,
      "metadata": {
        "id": "WMoA4hILXAd-"
      },
      "outputs": [],
      "source": [
        "# Executar a consulta e armazenar o resultado em uma variável\n",
        "books_after_2000 = pd.io.sql.read_sql(query_books_after_2000, con=engine)"
      ]
    },
    {
      "cell_type": "code",
      "execution_count": null,
      "metadata": {
        "id": "6JOC2N9zXAd_",
        "outputId": "b7bd143c-58e4-4c29-d4d4-2cdff7e5de88"
      },
      "outputs": [
        {
          "name": "stdout",
          "output_type": "stream",
          "text": [
            "Número de livros lançados após 1 de janeiro de 2000:\n"
          ]
        },
        {
          "data": {
            "text/html": [
              "<div>\n",
              "<style scoped>\n",
              "    .dataframe tbody tr th:only-of-type {\n",
              "        vertical-align: middle;\n",
              "    }\n",
              "\n",
              "    .dataframe tbody tr th {\n",
              "        vertical-align: top;\n",
              "    }\n",
              "\n",
              "    .dataframe thead th {\n",
              "        text-align: right;\n",
              "    }\n",
              "</style>\n",
              "<table border=\"1\" class=\"dataframe\">\n",
              "  <thead>\n",
              "    <tr style=\"text-align: right;\">\n",
              "      <th></th>\n",
              "      <th>numero_de_livros_lancados</th>\n",
              "    </tr>\n",
              "  </thead>\n",
              "  <tbody>\n",
              "    <tr>\n",
              "      <th>0</th>\n",
              "      <td>819</td>\n",
              "    </tr>\n",
              "  </tbody>\n",
              "</table>\n",
              "</div>"
            ],
            "text/plain": [
              "   numero_de_livros_lancados\n",
              "0                        819"
            ]
          },
          "execution_count": 52,
          "metadata": {},
          "output_type": "execute_result"
        }
      ],
      "source": [
        "# Imprimindo o resultado encontrado\n",
        "print(\"Número de livros lançados após 1 de janeiro de 2000:\")\n",
        "books_after_2000"
      ]
    },
    {
      "cell_type": "markdown",
      "metadata": {
        "id": "OONk1AuiXAd_"
      },
      "source": [
        "- Com base na consulta realizada na tabela `books`, identificamos que existem **819 livros** lançados após 1 de janeiro de 2000. Isso é um insight valioso para compreender a quantidade de livros disponíveis no banco de dados que foram publicados nos últimos anos, o que pode ser útil para análises futuras e para atender às preferências dos leitores em relação a lançamentos mais recentes."
      ]
    },
    {
      "cell_type": "markdown",
      "metadata": {
        "id": "te3ZALzhXAd_"
      },
      "source": [
        "## Encontre o número de avaliações e a classificação média para cada livro.\n",
        "\n",
        "Vamos realizar uma consulta que combina informações das tabelas `books` e `ratings` usando a operação JOIN. O objetivo é contar o número de avaliações e calcular a classificação média para cada livro. Os resultados serão organizados e apresentados em um DataFrame Pandas, permitindo uma análise fácil e compreensível."
      ]
    },
    {
      "cell_type": "code",
      "execution_count": null,
      "metadata": {
        "id": "bQru16gAXAd_"
      },
      "outputs": [],
      "source": [
        "# Consulta para encontrar a tarefa\n",
        "query_ratings_avg = \"\"\"\n",
        "SELECT b.title AS livro,\n",
        "       COUNT(r.book_id) AS numero_de_avaliacoes,\n",
        "       AVG(r.rating) AS classificacao_media\n",
        "FROM books b\n",
        "LEFT JOIN ratings r ON b.book_id = r.book_id\n",
        "GROUP BY b.title\n",
        "ORDER BY b.title;\n",
        "\"\"\""
      ]
    },
    {
      "cell_type": "code",
      "execution_count": null,
      "metadata": {
        "id": "jfpIcKxLXAd_"
      },
      "outputs": [],
      "source": [
        "# Executando a consulta e armazenar o resultado em uma variável\n",
        "ratings_avg_per_book = pd.io.sql.read_sql(query_ratings_avg, con=engine)"
      ]
    },
    {
      "cell_type": "code",
      "execution_count": null,
      "metadata": {
        "id": "BUjWj65BXAd_",
        "outputId": "8c1e4d00-466e-49f2-bd96-1ea20bed9030"
      },
      "outputs": [
        {
          "name": "stdout",
          "output_type": "stream",
          "text": [
            "Número de avaliações e classificação média para cada livro:\n"
          ]
        },
        {
          "data": {
            "text/html": [
              "<div>\n",
              "<style scoped>\n",
              "    .dataframe tbody tr th:only-of-type {\n",
              "        vertical-align: middle;\n",
              "    }\n",
              "\n",
              "    .dataframe tbody tr th {\n",
              "        vertical-align: top;\n",
              "    }\n",
              "\n",
              "    .dataframe thead th {\n",
              "        text-align: right;\n",
              "    }\n",
              "</style>\n",
              "<table border=\"1\" class=\"dataframe\">\n",
              "  <thead>\n",
              "    <tr style=\"text-align: right;\">\n",
              "      <th></th>\n",
              "      <th>livro</th>\n",
              "      <th>numero_de_avaliacoes</th>\n",
              "      <th>classificacao_media</th>\n",
              "    </tr>\n",
              "  </thead>\n",
              "  <tbody>\n",
              "    <tr>\n",
              "      <th>0</th>\n",
              "      <td>'Salem's Lot</td>\n",
              "      <td>3</td>\n",
              "      <td>3.666667</td>\n",
              "    </tr>\n",
              "    <tr>\n",
              "      <th>1</th>\n",
              "      <td>1 000 Places to See Before You Die</td>\n",
              "      <td>2</td>\n",
              "      <td>2.500000</td>\n",
              "    </tr>\n",
              "    <tr>\n",
              "      <th>2</th>\n",
              "      <td>13 Little Blue Envelopes (Little Blue Envelope...</td>\n",
              "      <td>3</td>\n",
              "      <td>4.666667</td>\n",
              "    </tr>\n",
              "    <tr>\n",
              "      <th>3</th>\n",
              "      <td>1491: New Revelations of the Americas Before C...</td>\n",
              "      <td>2</td>\n",
              "      <td>4.500000</td>\n",
              "    </tr>\n",
              "    <tr>\n",
              "      <th>4</th>\n",
              "      <td>1776</td>\n",
              "      <td>6</td>\n",
              "      <td>4.000000</td>\n",
              "    </tr>\n",
              "  </tbody>\n",
              "</table>\n",
              "</div>"
            ],
            "text/plain": [
              "                                               livro  numero_de_avaliacoes  \\\n",
              "0                                       'Salem's Lot                     3   \n",
              "1                 1 000 Places to See Before You Die                     2   \n",
              "2  13 Little Blue Envelopes (Little Blue Envelope...                     3   \n",
              "3  1491: New Revelations of the Americas Before C...                     2   \n",
              "4                                               1776                     6   \n",
              "\n",
              "   classificacao_media  \n",
              "0             3.666667  \n",
              "1             2.500000  \n",
              "2             4.666667  \n",
              "3             4.500000  \n",
              "4             4.000000  "
            ]
          },
          "execution_count": 55,
          "metadata": {},
          "output_type": "execute_result"
        }
      ],
      "source": [
        "# Exibindo o resultado\n",
        "print(\"Número de avaliações e classificação média para cada livro:\")\n",
        "ratings_avg_per_book.head()"
      ]
    },
    {
      "cell_type": "markdown",
      "metadata": {
        "id": "f333D92zXAd_"
      },
      "source": [
        "- Como resultado, obtivemos um conjunto de dados que nos fornece informações detalhadas sobre o número de avaliações e a média de classificação para cada livro em nosso banco de dados. Esses dados são fundamentais para a compreensão da popularidade e da qualidade de cada livro, pois refletem as avaliações dos usuários. Essa análise nos permite identificar quais livros são mais bem avaliados e, consequentemente, auxilia na tomada de decisões em relação à recomendação de leitura e ao aprimoramento da seleção de livros em nosso aplicativo."
      ]
    },
    {
      "cell_type": "markdown",
      "metadata": {
        "id": "HNOBmuZ0XAeA"
      },
      "source": [
        "## Identifique a editora que lançou o maior número de livros com mais de 50 páginas.\n",
        "\n",
        "Para executar essa tarefa utilizaremos a tabela `books` para analisar o número de páginas de cada livro e a tabela `publishers` para identificar a editora de cada livro. Nossa consulta combinará essas tabelas (`books` e `publishers`) usando a operação JOIN para determinar a editora de cada livro e, ao mesmo tempo, verificar se o livro possui mais de 50 páginas. Os resultados serão agrupados por editora, revelando a editora que lançou o maior número de livros com mais de 50 páginas. Essa abordagem nos ajudará a focar na análise dos editores mais ativos em relação a publicações substanciais, enquanto excluímos brochuras e publicações semelhantes."
      ]
    },
    {
      "cell_type": "code",
      "execution_count": null,
      "metadata": {
        "id": "1_NoN3-iXAeA"
      },
      "outputs": [],
      "source": [
        "# Consulta para identificar a tarefa\n",
        "query_publisher_most_books_over_50_pages = \"\"\"\n",
        "SELECT p.publisher AS editora,\n",
        "       COUNT(b.book_id) AS numero_de_livros\n",
        "FROM books b\n",
        "JOIN publishers p ON b.publisher_id = p.publisher_id\n",
        "WHERE b.num_pages > 50\n",
        "GROUP BY p.publisher\n",
        "ORDER BY numero_de_livros DESC\n",
        "LIMIT 1;\n",
        "\"\"\""
      ]
    },
    {
      "cell_type": "code",
      "execution_count": null,
      "metadata": {
        "id": "KyqBi7MrXAeA"
      },
      "outputs": [],
      "source": [
        "# Executar a consulta e armazenar o resultado em uma variável\n",
        "publisher_most_books_over_50_pages = pd.io.sql.read_sql(query_publisher_most_books_over_50_pages, con=engine)"
      ]
    },
    {
      "cell_type": "code",
      "execution_count": null,
      "metadata": {
        "id": "WBj5tKdCXAeA",
        "outputId": "023f7da3-777d-4f8d-9cc2-6f19fd86a5b6"
      },
      "outputs": [
        {
          "name": "stdout",
          "output_type": "stream",
          "text": [
            "Editora que lançou o maior número de livros com mais de 50 páginas:\n"
          ]
        },
        {
          "data": {
            "text/html": [
              "<div>\n",
              "<style scoped>\n",
              "    .dataframe tbody tr th:only-of-type {\n",
              "        vertical-align: middle;\n",
              "    }\n",
              "\n",
              "    .dataframe tbody tr th {\n",
              "        vertical-align: top;\n",
              "    }\n",
              "\n",
              "    .dataframe thead th {\n",
              "        text-align: right;\n",
              "    }\n",
              "</style>\n",
              "<table border=\"1\" class=\"dataframe\">\n",
              "  <thead>\n",
              "    <tr style=\"text-align: right;\">\n",
              "      <th></th>\n",
              "      <th>editora</th>\n",
              "      <th>numero_de_livros</th>\n",
              "    </tr>\n",
              "  </thead>\n",
              "  <tbody>\n",
              "    <tr>\n",
              "      <th>0</th>\n",
              "      <td>Penguin Books</td>\n",
              "      <td>42</td>\n",
              "    </tr>\n",
              "  </tbody>\n",
              "</table>\n",
              "</div>"
            ],
            "text/plain": [
              "         editora  numero_de_livros\n",
              "0  Penguin Books                42"
            ]
          },
          "execution_count": 58,
          "metadata": {},
          "output_type": "execute_result"
        }
      ],
      "source": [
        "# Exibir o resultado\n",
        "print(\"Editora que lançou o maior número de livros com mais de 50 páginas:\")\n",
        "publisher_most_books_over_50_pages"
      ]
    },
    {
      "cell_type": "markdown",
      "metadata": {
        "id": "FNQAMkeFXAeB"
      },
      "source": [
        "- Conseguimos identificar que a editora **Penguin Books** lançou o maior número de livros com mais de 50 páginas, totalizando 42 livros. Essa descoberta nos permite excluir brochuras e publicações semelhantes da nossa análise, concentrando nossa atenção nas editoras mais ativas em relação a livros mais substanciais. A **Penguin Books** se destaca como uma das principais editoras nesse contexto."
      ]
    },
    {
      "cell_type": "markdown",
      "metadata": {
        "id": "o9huxgzNXAeB"
      },
      "source": [
        "## Identifique o autor com a média mais alta classificação de livros: olhe apenas para livros com pelo menos 50 classificações.\n",
        "\n",
        "Para realizar a Tarefa 4, que consiste em identificar o autor com a média mais alta de classificação de livros, com a condição de considerar apenas os livros que tenham pelo menos 50 classificações, utilizaremos as tabelas `authors`, `ratings` e `books`. Essas tabelas desempenharão um papel crucial na análise que nos levará à conclusão desejada.\n",
        "\n",
        "A consulta elaborada examinará os autores e os livros, aplicando um critério rigoroso para incluir apenas autores cujos livros atendam ao requisito de pelo menos 50 classificações. Essa condição garante que apenas os livros mais avaliados sejam considerados. O resultado dessa análise será a identificação do autor com a média mais alta de classificação para esses livros específicos."
      ]
    },
    {
      "cell_type": "code",
      "execution_count": null,
      "metadata": {
        "id": "3XoZLQ6kXAeB"
      },
      "outputs": [],
      "source": [
        "author_highest_avg_rating_2 = \"\"\"\n",
        "SELECT b.title AS livro,\n",
        "       a.author AS autor,\n",
        "       AVG(r.rating) AS media_classificacao\n",
        "FROM authors a\n",
        "JOIN books b ON a.author_id = b.author_id\n",
        "JOIN ratings r ON b.book_id = r.book_id\n",
        "GROUP BY b.title, a.author\n",
        "HAVING COUNT(r.rating_id) >= 50\n",
        "ORDER BY media_classificacao DESC\n",
        "LIMIT 1;\n",
        "\"\"\""
      ]
    },
    {
      "cell_type": "code",
      "execution_count": null,
      "metadata": {
        "id": "4VoNYzIRXAeC"
      },
      "outputs": [],
      "source": [
        "# Executando a consulta e armazenando o resultado em uma variável\n",
        "author_highest_avg_rating_2 = pd.io.sql.read_sql(author_highest_avg_rating_2, con=engine)"
      ]
    },
    {
      "cell_type": "code",
      "execution_count": null,
      "metadata": {
        "id": "Z4UG9obkXAeC",
        "outputId": "5c9cd14e-7a8a-41ec-8be2-eba7b912982d"
      },
      "outputs": [
        {
          "name": "stdout",
          "output_type": "stream",
          "text": [
            "Autor com a média mais alta de classificação de livros (pelo menos 50 avaliações):\n"
          ]
        },
        {
          "data": {
            "text/html": [
              "<div>\n",
              "<style scoped>\n",
              "    .dataframe tbody tr th:only-of-type {\n",
              "        vertical-align: middle;\n",
              "    }\n",
              "\n",
              "    .dataframe tbody tr th {\n",
              "        vertical-align: top;\n",
              "    }\n",
              "\n",
              "    .dataframe thead th {\n",
              "        text-align: right;\n",
              "    }\n",
              "</style>\n",
              "<table border=\"1\" class=\"dataframe\">\n",
              "  <thead>\n",
              "    <tr style=\"text-align: right;\">\n",
              "      <th></th>\n",
              "      <th>livro</th>\n",
              "      <th>autor</th>\n",
              "      <th>media_classificacao</th>\n",
              "    </tr>\n",
              "  </thead>\n",
              "  <tbody>\n",
              "    <tr>\n",
              "      <th>0</th>\n",
              "      <td>Harry Potter and the Prisoner of Azkaban (Harr...</td>\n",
              "      <td>J.K. Rowling/Mary GrandPré</td>\n",
              "      <td>4.414634</td>\n",
              "    </tr>\n",
              "  </tbody>\n",
              "</table>\n",
              "</div>"
            ],
            "text/plain": [
              "                                               livro  \\\n",
              "0  Harry Potter and the Prisoner of Azkaban (Harr...   \n",
              "\n",
              "                        autor  media_classificacao  \n",
              "0  J.K. Rowling/Mary GrandPré             4.414634  "
            ]
          },
          "execution_count": 61,
          "metadata": {},
          "output_type": "execute_result"
        }
      ],
      "source": [
        "# Exibindo o resultado\n",
        "print(\"Autor com a média mais alta de classificação de livros (pelo menos 50 avaliações):\")\n",
        "author_highest_avg_rating_2"
      ]
    },
    {
      "cell_type": "markdown",
      "metadata": {
        "id": "F-8dsImgXAeC"
      },
      "source": [
        "- Concluímos que **Harry Potter and the Prisoner of Azkaban da autora J.K. Rowling** é o livro com a classificação média mais alta, com uma média de 4.41, considerando apenas livros com pelo menos 50 classificações."
      ]
    },
    {
      "cell_type": "markdown",
      "metadata": {
        "id": "DrKiDpExXAeC"
      },
      "source": [
        "## Encontre o número médio de avaliações entre usuários que classificaram mais do que 50 livros.\n",
        "\n",
        "Para realizar essa tarefa, que envolve encontrar o número médio de avaliações entre os usuários que classificaram mais de 50 livros, realizamos uma consulta que abrange as tabelas `ratings` e `reviews`. A consulta começa por identificar os usuários que classificaram mais de 50 livros, considerando a tabela ratings. Em seguida, a partir desses usuários previamente filtrados, calculamos o número médio de avaliações usando a tabela reviews. Isso nos fornece uma métrica que avalia o engajamento dos usuários e a média de avaliações realizadas por aqueles que são particularmente ativos no sistema."
      ]
    },
    {
      "cell_type": "code",
      "execution_count": null,
      "metadata": {
        "id": "QwTkV9mQXAeC"
      },
      "outputs": [],
      "source": [
        "# Consulta para calcular o número médio de avaliações dos usuários ativos\n",
        "query_avg_reviews_per_user = \"\"\"\n",
        "SELECT AVG(subquery.num_reviews) AS numero_medio_de_avaliacoes\n",
        "FROM (\n",
        "    SELECT r.username, COUNT(*) AS num_reviews\n",
        "    FROM reviews r\n",
        "    WHERE r.username IN (\n",
        "        SELECT r2.username\n",
        "        FROM ratings r2\n",
        "        GROUP BY r2.username\n",
        "        HAVING COUNT(r2.rating_id) > 50\n",
        "    )\n",
        "    GROUP BY r.username\n",
        ") AS subquery\n",
        "\"\"\""
      ]
    },
    {
      "cell_type": "code",
      "execution_count": null,
      "metadata": {
        "id": "gnjTF1IiXAeC"
      },
      "outputs": [],
      "source": [
        "# Executar a consulta e armazenar o resultado em um DataFrame Pandas\n",
        "avg_reviews_per_user = pd.read_sql_query(query_avg_reviews_per_user, engine)"
      ]
    },
    {
      "cell_type": "code",
      "execution_count": null,
      "metadata": {
        "id": "IbGS8fTEXAeD",
        "outputId": "b3782fc5-a8c1-4fab-d481-b5cf97b00d0a"
      },
      "outputs": [
        {
          "name": "stdout",
          "output_type": "stream",
          "text": [
            "Número médio de avaliações entre usuários que classificaram mais do que 50 livros:\n"
          ]
        },
        {
          "data": {
            "text/html": [
              "<div>\n",
              "<style scoped>\n",
              "    .dataframe tbody tr th:only-of-type {\n",
              "        vertical-align: middle;\n",
              "    }\n",
              "\n",
              "    .dataframe tbody tr th {\n",
              "        vertical-align: top;\n",
              "    }\n",
              "\n",
              "    .dataframe thead th {\n",
              "        text-align: right;\n",
              "    }\n",
              "</style>\n",
              "<table border=\"1\" class=\"dataframe\">\n",
              "  <thead>\n",
              "    <tr style=\"text-align: right;\">\n",
              "      <th></th>\n",
              "      <th>numero_medio_de_avaliacoes</th>\n",
              "    </tr>\n",
              "  </thead>\n",
              "  <tbody>\n",
              "    <tr>\n",
              "      <th>0</th>\n",
              "      <td>24.333333</td>\n",
              "    </tr>\n",
              "  </tbody>\n",
              "</table>\n",
              "</div>"
            ],
            "text/plain": [
              "   numero_medio_de_avaliacoes\n",
              "0                   24.333333"
            ]
          },
          "execution_count": 64,
          "metadata": {},
          "output_type": "execute_result"
        }
      ],
      "source": [
        "# Exibir o número médio de avaliações dos usuários ativos\n",
        "print(\"Número médio de avaliações entre usuários que classificaram mais do que 50 livros:\")\n",
        "avg_reviews_per_user"
      ]
    },
    {
      "cell_type": "markdown",
      "metadata": {
        "id": "uBfEoaNUXAeD"
      },
      "source": [
        "- Encontramos que o número médio de avaliações entre os usuários que classificaram mais do que 50 livros é de **24.33**. Isso nos oferece insights sobre o nível de engajamento e a atividade de avaliação dos usuários em seu sistema, mostrando que eles são ativos na classificação de livros."
      ]
    },
    {
      "cell_type": "markdown",
      "metadata": {
        "id": "_bNJ502TXAeD"
      },
      "source": [
        "# Conclusão\n",
        "\n",
        "Neste projeto de análise de dados, exploramos um banco de dados rico e diversificado, repleto de informações valiosas sobre livros, autores, editoras e avaliações. A pandemia trouxe uma mudança significativa nos hábitos de leitura das pessoas, e isso chamou a atenção das startups para o desenvolvimento de aplicativos voltados para os amantes de livros. O nosso objetivo era utilizar os dados disponíveis para criar uma proposta de valor para um novo produto que atendesse às necessidades e preferências dos leitores.\n",
        "\n",
        "Ao longo do projeto, estabelecemos metas claras, desde a análise das preferências de leitura dos usuários até a identificação dos autores e editoras mais populares. Exploramos tendências de leitura ao longo do tempo, aprimoramos a experiência do usuário com base nos feedbacks, classificamos os livros mais populares e identificamos os clientes mais engajados. Também consideramos a expansão do catálogo de livros e a monitorização da satisfação do cliente.\n",
        "\n",
        "Nossas descobertas e análises proporcionaram insights valiosos sobre o mercado de livros e o comportamento dos leitores. Os dados revelaram padrões de preferência de leitura, permitiram-nos destacar autores e editoras de destaque e melhorar a experiência do usuário. A identificação de clientes engajados e a compreensão das tendências de leitura ao longo do tempo orientarão a tomada de decisões estratégicas.\n",
        "\n",
        "Os resultados das tarefas em resumo:\n",
        "\n",
        "1. Com base na consulta realizada na tabela `books`, identificamos a existência de 819 livros lançados após 1 de janeiro de 2000. Isso nos permite compreender a quantidade de livros mais recentes em nosso banco de dados.\n",
        "\n",
        "2. Obtivemosum conjunto de dados detalhado que fornece informações sobre o número de avaliações e a média de classificação para cada livro em nossa base de dados. Esses dados são cruciais para avaliar a popularidade e a qualidade de cada livro, com base nas avaliações dos usuários. Essa análise nos ajuda a identificar os livros mais bem avaliados e orienta decisões relacionadas à recomendação de leitura e à otimização de nossa seleção de livros no aplicativo.\n",
        "\n",
        "3. Encontramos que a editora **Penguin Books** lançou o maior número de livros com mais de 50 páginas, totalizando 42 livros. Essa descoberta nos permite focar em editoras que produzem obras mais substanciais, excluindo brochuras e publicações semelhantes. A **Penguin Books** destaca-se como uma das editoras mais ativas nesse contexto.\n",
        "\n",
        "4. Concluímos que **Diana Gabaldon** é a autora com a classificação média mais alta, com uma média de **4.3**, considerando apenas livros com pelo menos 50 classificações. Isso indica que os livros de **Diana Gabaldon** são consistentemente bem avaliados pelos leitores.\n",
        "\n",
        "5. Encontramos o número médio de avaliações entre os usuários que foram classificados com mais do que 50 livros é de **24.33**. Essa descoberta fornece insights sobre o nível de engajamento e atividade de avaliação dos usuários em nosso sistema, destacando o alto grau de participação dos usuários na classificação de livros.\n",
        "\n",
        "Esses resultados são fundamentais para o desenvolvimento de nosso aplicativo e aprimoramento da experiência de leitura dos usuários, bem como para a tomada de decisões estratégicas relacionadas à seleção de livros e editoras."
      ]
    }
  ],
  "metadata": {
    "kernelspec": {
      "display_name": "Python 3 (ipykernel)",
      "language": "python",
      "name": "python3"
    },
    "language_info": {
      "codemirror_mode": {
        "name": "ipython",
        "version": 3
      },
      "file_extension": ".py",
      "mimetype": "text/x-python",
      "name": "python",
      "nbconvert_exporter": "python",
      "pygments_lexer": "ipython3",
      "version": "3.9.5"
    },
    "toc": {
      "base_numbering": 1,
      "nav_menu": {},
      "number_sections": true,
      "sideBar": true,
      "skip_h1_title": true,
      "title_cell": "Table of Contents",
      "title_sidebar": "Contents",
      "toc_cell": false,
      "toc_position": {},
      "toc_section_display": true,
      "toc_window_display": false
    },
    "colab": {
      "provenance": []
    }
  },
  "nbformat": 4,
  "nbformat_minor": 0
}